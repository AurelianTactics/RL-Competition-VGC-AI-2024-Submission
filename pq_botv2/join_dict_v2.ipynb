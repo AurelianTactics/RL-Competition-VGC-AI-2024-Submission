{
 "cells": [
  {
   "cell_type": "code",
   "execution_count": 1,
   "metadata": {},
   "outputs": [],
   "source": [
    "import numpy as np\n",
    "import pickle\n",
    "import os\n",
    "import copy"
   ]
  },
  {
   "cell_type": "code",
   "execution_count": 2,
   "metadata": {},
   "outputs": [
    {
     "data": {
      "text/plain": [
       "'\\nJoin dict results\\n    get files\\n        completed savings\\n        last checkpoints\\n\\n'"
      ]
     },
     "execution_count": 2,
     "metadata": {},
     "output_type": "execute_result"
    }
   ],
   "source": [
    "'''\n",
    "Join dict results\n",
    "    get files\n",
    "        completed savings\n",
    "        last checkpoints\n",
    "\n",
    "'''"
   ]
  },
  {
   "cell_type": "markdown",
   "metadata": {},
   "source": [
    "### Constants and Functions"
   ]
  },
  {
   "cell_type": "code",
   "execution_count": 3,
   "metadata": {},
   "outputs": [],
   "source": [
    "base_load_path = 'G:\\\\3v3_vgc_saves_71124\\\\3v3_results\\\\'"
   ]
  },
  {
   "cell_type": "code",
   "execution_count": 4,
   "metadata": {},
   "outputs": [],
   "source": [
    "def load_pkl_object(pkl_path):\n",
    "    '''\n",
    "    Load a pickle object\n",
    "    '''\n",
    "    with open(pkl_path, 'rb') as handle:\n",
    "        return pickle.load(handle)\n",
    "\n",
    "\n",
    "def save_object_as_pkl(object_to_save, save_tag):\n",
    "    '''\n",
    "    Save object a pickle file\n",
    "    '''\n",
    "    save_path = f'joined_dict_results\\\\{save_tag}.pickle'\n",
    "\n",
    "    with open(save_path, 'wb') as handle:\n",
    "        print(\"saving: \", save_path)\n",
    "        pickle.dump(object_to_save, handle, protocol=pickle.HIGHEST_PROTOCOL)\n",
    "\n",
    "\n",
    "def load_combine_save(save_tag, base_load_path, load_list):\n",
    "    combined_dict = {}\n",
    "\n",
    "    # action_dict_count_key = 'count'\n",
    "    # sum_wins_key = \"sum_wins\"\n",
    "\n",
    "    for file_name in load_list:\n",
    "        load_path = base_load_path + file_name\n",
    "        print(\"loading: \", load_path)\n",
    "\n",
    "        loaded_dict = load_pkl_object(load_path)\n",
    "        #print(loaded_dict[(2, 2, 2, -1, -1, -1, 0, 3, 0, 1, 0, 0)])\n",
    "        #(2, 2, 2, -1, -1, -1, 0, 3, 0, 1, 0, 0) {'attack': {'count': 15, 'sum_wins': 5}, 'swap_0': {'count': 14, 'sum_wins': 2}, 'swap_1': {'count': 14, 'sum_wins': 5}}\n",
    "        for state_key, moves_dict in loaded_dict.items():\n",
    "            # example moves dict:  {'attack': {'count': 15, 'sum_wins': 5}, 'swap_0': {'count': 14, 'sum_wins': 2}, 'swap_1': {'count': 14, 'sum_wins': 5}}\n",
    "            if state_key in combined_dict:\n",
    "                for move_key, move_results_dict in moves_dict.items():\n",
    "                    # example move_results_dict: {'count': 15, 'sum_wins': 5},\n",
    "                    if move_key in combined_dict[state_key]:\n",
    "                        for results_key, results_value in move_results_dict.items():\n",
    "                            # example results: 'count': 15 \n",
    "                            if results_key in combined_dict[state_key][move_key]:\n",
    "                                combined_dict[state_key][move_key][results_key] += results_value\n",
    "                            else:\n",
    "                                combined_dict[state_key][move_key][results_key] = copy.deepcopy(loaded_dict[state_key][move_key][results_key])\n",
    "                    else:\n",
    "                        combined_dict[state_key][move_key] = copy.deepcopy(loaded_dict[state_key][move_key])\n",
    "  \n",
    "            else:\n",
    "                combined_dict[state_key] = copy.deepcopy(loaded_dict[state_key])\n",
    "\n",
    "        print(len(combined_dict))\n",
    "\n",
    "    save_object_as_pkl(combined_dict, save_tag)\n",
    "    \n",
    "    return combined_dict"
   ]
  },
  {
   "cell_type": "code",
   "execution_count": 5,
   "metadata": {},
   "outputs": [],
   "source": [
    "### V2"
   ]
  },
  {
   "cell_type": "code",
   "execution_count": 6,
   "metadata": {},
   "outputs": [],
   "source": [
    "join_save_tag = 'v2_combined_sim_results'\n",
    "load_list_to_combine = [   \n",
    "    # 'v2_mc_test_10_1720982160_action_state_results_dict.pickle',\n",
    "    # 'v2_mc_test_10_1720982160_action_state_results_dict.pickle',\n",
    "    # 'v2_mc_test_10_1720982160_action_state_results_dict.pickle',\n",
    "    # 'v2_mc_test_10_1720982160_action_state_results_dict.pickle',\n",
    "\n",
    "    # 'v2_mc_10_1720984681_action_state_results_dict_checkpoint_2.pickle',\n",
    "    # 'v2_mc_3kmax_10_1720985272_action_state_results_dict_checkpoint_2.pickle',\n",
    "    # 'v2_mc_3kmax_10_1720985313_action_state_results_dict_checkpoint_2.pickle',\n",
    "    # 'v2_mc_3kmax_10_1720985215_action_state_results_dict_checkpoint_2.pickle',\n",
    "\n",
    "    # 'v2_mc_10_1720984681_action_state_results_dict_checkpoint_0.pickle',\n",
    "    # 'v2_mc_3kmax_10_1720985272_action_state_results_dict_checkpoint_1.pickle',\n",
    "    # 'v2_mc_3kmax_10_1720985313_action_state_results_dict_checkpoint_1.pickle',\n",
    "    # 'v2_mc_3kmax_10_1720985215_action_state_results_dict_checkpoint_1.pickle',\n",
    "\n",
    "    'v2_mc_10_1720984681_action_state_results_dict_checkpoint_2.pickle',\n",
    "    'v2_mc_3kmax_10_1720985272_action_state_results_dict_checkpoint_0.pickle',\n",
    "    'v2_mc_3kmax_10_1720985313_action_state_results_dict_checkpoint_0.pickle',\n",
    "    'v2_mc_3kmax_10_1720985215_action_state_results_dict_checkpoint_0.pickle',\n",
    "]"
   ]
  },
  {
   "cell_type": "code",
   "execution_count": 7,
   "metadata": {},
   "outputs": [
    {
     "name": "stdout",
     "output_type": "stream",
     "text": [
      "loading:  G:\\3v3_vgc_saves_71124\\3v3_results\\v2_mc_10_1720984681_action_state_results_dict_checkpoint_2.pickle\n",
      "7424\n",
      "loading:  G:\\3v3_vgc_saves_71124\\3v3_results\\v2_mc_3kmax_10_1720985272_action_state_results_dict_checkpoint_0.pickle\n",
      "11063\n",
      "loading:  G:\\3v3_vgc_saves_71124\\3v3_results\\v2_mc_3kmax_10_1720985313_action_state_results_dict_checkpoint_0.pickle\n",
      "11483\n",
      "loading:  G:\\3v3_vgc_saves_71124\\3v3_results\\v2_mc_3kmax_10_1720985215_action_state_results_dict_checkpoint_0.pickle\n",
      "11838\n",
      "saving:  joined_dict_results\\v2_combined_sim_results.pickle\n"
     ]
    }
   ],
   "source": [
    "combined_results = load_combine_save(join_save_tag, base_load_path, load_list_to_combine)"
   ]
  },
  {
   "cell_type": "code",
   "execution_count": 8,
   "metadata": {},
   "outputs": [
    {
     "name": "stdout",
     "output_type": "stream",
     "text": [
      "(1, 1, 1, -1, -1, -1, 0, 3, 0, 1, 0, 0) {'attack': {'count': 19000, 'sum_wins': 10960}, 'swap_0': {'count': 19000, 'sum_wins': 8409}, 'swap_1': {'count': 19000, 'sum_wins': 8269}}\n"
     ]
    }
   ],
   "source": [
    "for k, v in combined_results.items():\n",
    "    print(k, v)\n",
    "    break"
   ]
  },
  {
   "cell_type": "code",
   "execution_count": null,
   "metadata": {},
   "outputs": [],
   "source": []
  }
 ],
 "metadata": {
  "kernelspec": {
   "display_name": "vgc",
   "language": "python",
   "name": "python3"
  },
  "language_info": {
   "codemirror_mode": {
    "name": "ipython",
    "version": 3
   },
   "file_extension": ".py",
   "mimetype": "text/x-python",
   "name": "python",
   "nbconvert_exporter": "python",
   "pygments_lexer": "ipython3",
   "version": "3.9.9"
  }
 },
 "nbformat": 4,
 "nbformat_minor": 2
}
