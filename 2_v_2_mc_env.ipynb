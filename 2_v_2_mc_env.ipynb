{
 "cells": [
  {
   "cell_type": "code",
   "execution_count": null,
   "metadata": {},
   "outputs": [],
   "source": []
  },
  {
   "cell_type": "markdown",
   "metadata": {},
   "source": [
    "### Testing MC Env Learning in 2 v 2 environment"
   ]
  },
  {
   "cell_type": "code",
   "execution_count": 1,
   "metadata": {},
   "outputs": [],
   "source": [
    "import numpy as np\n",
    "\n",
    "from vgc.datatypes.Objects import PkmTeam, Pkm, GameState, Weather\n",
    "from vgc.engine.PkmBattleEnv import PkmBattleEnv\n",
    "from vgc.util.generator.PkmTeamGenerators import RandomTeamGenerator\n",
    "\n",
    "from vgc.datatypes.Constants import TYPE_CHART_MULTIPLIER, MAX_HIT_POINTS, MOVE_MAX_PP, DEFAULT_TEAM_SIZE\n",
    "from vgc.datatypes.Objects import PkmMove, Pkm, PkmTeam, GameState, Weather\n",
    "from vgc.datatypes.Types import PkmStat, PkmType, WeatherCondition, \\\n",
    "    N_TYPES, N_STATUS, N_STATS, N_ENTRY_HAZARD, N_WEATHER, PkmStatus, PkmEntryHazard"
   ]
  },
  {
   "cell_type": "code",
   "execution_count": null,
   "metadata": {},
   "outputs": [],
   "source": [
    "'''\n",
    "need to turn the states into the dict\n",
    "    want to store counts and running mean of the reward\n",
    "\n",
    "TEST need to select the initial action\n",
    "TEST need to then to attack later\n",
    "need to convert the attack action into the best attack\n",
    "need to convert the swap action into a swap\n",
    "need to store the result of the battle\n",
    "\n",
    "need to add the hiding part\n",
    "\n",
    "need to test how many battles can get through in how much time\n",
    "\n",
    "can I get the best dmg from both teams even if the pkm stuff is hidden and not revealed?\n",
    "    probably yes since passing in the team specific state\n",
    "\n",
    "can check to see how accurate the attack function is\n",
    "\n",
    "saving the action dict\n",
    "\n",
    "possibly store the state dict attack action for non first actions as well\n",
    "\n",
    "\n",
    "'''"
   ]
  },
  {
   "cell_type": "code",
   "execution_count": 2,
   "metadata": {},
   "outputs": [],
   "source": [
    "def turn_agent_action_into_env_action(action, agent_game_state):\n",
    "        '''\n",
    "        Action values are\n",
    "        0: select best move\n",
    "        1: switch to first pkm\n",
    "        2: switch to second pkm\n",
    "\n",
    "        Env actions are\n",
    "        0 to 3: action of active pokm\n",
    "        4: switch to first pkm\n",
    "        5: switch to second pkm\n",
    "        '''\n",
    "        best_damage = -1\n",
    "        if action == 0:\n",
    "            # get best dmg action\n",
    "            action, best_damage = get_best_active_damage_action(agent_game_state)\n",
    "        else:\n",
    "            # switch to first or second pkm if alive\n",
    "            if action == 1 or action == 2:\n",
    "                pkm = agent_game_state.teams[0].party[action-1]\n",
    "                if pkm.fainted() or pkm.hp <= 0.0:\n",
    "                    action, best_damage = get_best_active_damage_action(agent_game_state)\n",
    "                else:\n",
    "                    action = action + 3\n",
    "            else:\n",
    "                action, best_damage = get_best_active_damage_action(agent_game_state)\n",
    "\n",
    "        return action, best_damage\n",
    "\n",
    "\n",
    "def get_best_active_damage_action(g: GameState):\n",
    "    '''\n",
    "    '''\n",
    "    # Get weather condition\n",
    "    weather = g.weather.condition\n",
    "\n",
    "    # Get my Pokémon team\n",
    "    my_team = g.teams[0]\n",
    "    my_pkms = [my_team.active]\n",
    "\n",
    "    # Get opponent's team\n",
    "    opp_team = g.teams[1]\n",
    "    opp_active = opp_team.active\n",
    "\n",
    "    opp_active_type = opp_active.type\n",
    "    opp_defense_stage = opp_team.stage[PkmStat.DEFENSE]\n",
    "\n",
    "    # Initialize variables for the best move and its damage\n",
    "    best_move_id = -1\n",
    "    best_damage = -np.inf\n",
    "\n",
    "    # Iterate over all my Pokémon and their moves to find the most damaging move\n",
    "    for i, pkm in enumerate(my_pkms):\n",
    "        if i == 0:\n",
    "            my_attack_stage = my_team.stage[PkmStat.ATTACK]\n",
    "        else:\n",
    "            my_attack_stage = 0\n",
    "\n",
    "        for j, move in enumerate(pkm.moves):\n",
    "            \n",
    "            damage = estimate_damage(move.type, pkm.type, move.power, opp_active_type, my_attack_stage,\n",
    "                                        opp_defense_stage, weather)\n",
    "            \n",
    "            # Check if the current move has higher damage than the previous best move\n",
    "            if damage > best_damage:\n",
    "                best_move_id = j + i * 4 # think for 2024 j is 0 to 3 for each\n",
    "                best_damage = damage\n",
    "\n",
    "    if best_move_id < 0 or best_move_id > 3:\n",
    "        print(f\"Error: best move id {best_move_id} not in expected range\")\n",
    "        best_move_id = 0\n",
    "\n",
    "    return best_move_id, best_damage\n",
    "\n",
    "\n",
    "def estimate_damage(move_type: PkmType, pkm_type: PkmType, move_power: float, opp_pkm_type: PkmType,\n",
    "                    attack_stage: int, defense_stage: int, weather: WeatherCondition) -> float:\n",
    "        '''\n",
    "        Not from original code. from updated repo\n",
    "        '''\n",
    "        stab = 1.5 if move_type == pkm_type else 1.\n",
    "        if (move_type == PkmType.WATER and weather == WeatherCondition.RAIN) or (\n",
    "                move_type == PkmType.FIRE and weather == WeatherCondition.SUNNY):\n",
    "            weather = 1.5\n",
    "        elif (move_type == PkmType.WATER and weather == WeatherCondition.SUNNY) or (\n",
    "                move_type == PkmType.FIRE and weather == WeatherCondition.RAIN):\n",
    "            weather = .5\n",
    "        else:\n",
    "            weather = 1.\n",
    "        stage_level = attack_stage - defense_stage\n",
    "        stage = (stage_level + 2.) / 2 if stage_level >= 0. else 2. / (np.abs(stage_level) + 2.)\n",
    "        damage = TYPE_CHART_MULTIPLIER[move_type][opp_pkm_type] * stab * weather * stage * move_power\n",
    "\n",
    "        #print(damage, move_type, pkm_type, move_power, opp_pkm_type, attack_stage, defense_stage, weather)\n",
    "        return damage"
   ]
  },
  {
   "cell_type": "code",
   "execution_count": null,
   "metadata": {},
   "outputs": [],
   "source": [
    "def get_running_mean(old_mean, count, new_value):\n",
    "    '''\n",
    "    '''\n",
    "    STOPPED HERE TO NEED TO VERIFY THIS\n",
    "    #not sure if count is old count or new count\n",
    "    #https://stackoverflow.com/questions/12636613/how-to-calculate-moving-average-without-keeping-the-count-and-data-total\n",
    "    # return old_mean + (new_value - old_mean) / count\n",
    "\n",
    "def turn_game_state_into_dict(action_dict, game_state_agent, game_state_opp, agent_first_move):\n",
    "    '''\n",
    "    '''\n",
    "    pass\n",
    "\n",
    "def add_results_to_action_dict(action_dict, state_key, agent_first_move, agent_reward):\n",
    "    '''\n",
    "    '''\n",
    "    if state_key in action_dict:\n",
    "        if agent_first_move in action_dict[state_key]:\n",
    "            action_dict[state_key][agent_first_move][\"count\"] += 1\n",
    "            action_dict[state_key][agent_first_move][\"reward\"] = get_running_mean(action_dict[state_key][agent_first_move][\"reward\"],\n",
    "                                                                                  action_dict[state_key][agent_first_move][\"count\"], agent_reward)\n",
    "        action_dict[state_key][\"count\"] += 1\n",
    "        action_dict[state_key][\"reward\"] += agent_reward"
   ]
  },
  {
   "cell_type": "code",
   "execution_count": null,
   "metadata": {},
   "outputs": [],
   "source": [
    "num_battles = 1\n",
    "\n",
    "team_generator = RandomTeamGenerator(2)\n",
    "\n",
    "winner_dict = {}\n",
    "\n",
    "action_dict = {}\n",
    "\n",
    "max_episode_steps = 250\n",
    "\n",
    "\n",
    "for battle_idx in range(num_battles):\n",
    "    \n",
    "    agent_team = team_generator.get_team().get_battle_team([0, 1, ])\n",
    "    opp_team = team_generator.get_team().get_battle_team([0, 1, ])\n",
    "\n",
    "    env = PkmBattleEnv((agent_team, opp_team),\n",
    "                   encode=(True, False))  # set new environment with teams\n",
    "\n",
    "    game_state, info = env.reset()\n",
    "\n",
    "    is_first_move = True\n",
    "    agent_first_move = None\n",
    "\n",
    "    for episode_step in range(max_episode_steps):\n",
    "        if is_first_move:\n",
    "            if np.random.rand() < 0.5:\n",
    "                agent_action = 0\n",
    "                agent_first_move = 'attack'\n",
    "            else:\n",
    "                agent_action = 1\n",
    "                agent_first_move = 'swap'\n",
    "            is_first_move = False\n",
    "        else:\n",
    "            agent_action = 0\n",
    "\n",
    "        agent_env_action, agent_best_damage = turn_agent_action_into_env_action(agent_action, game_state[0])\n",
    "        opp_action, opp_best_damage = get_best_active_damage_action(game_state[1])\n",
    "\n",
    "        if agent_action == 1 and agent_env_action != 4:\n",
    "            print(\"Error agent action is 1 but env action is not 4 \")\n",
    "        elif agent_action == 0:\n",
    "            if (agent_env_action < 0 or agent_env_action > 3):\n",
    "                print(\"Error agent action is 0 but env action is not 0 to 3 \")\n",
    "            if agent_best_damage < 0:\n",
    "                print(\"Error agent action is 0 but best damage is negative\")\n",
    "\n",
    "        if opp_action < 0 or opp_action > 3:\n",
    "            print(\"Error opp action is not 0 to 3\")\n",
    "        \n",
    "        if opp_best_damage < 0:\n",
    "            print(\"Error opp best damage is negative\")\n",
    "        \n",
    "        action_list = [agent_action, opp_action]\n",
    "        game_state, reward, terminated, truncated, info = env.step(action_list)  # for inference, we don't need reward\n",
    "\n",
    "        if episode_step == max_episode_steps - 1:\n",
    "            print('Warning: max steps reached')\n",
    "            terminated = True\n",
    "\n",
    "        if terminated:\n",
    "            if env.env.winner in winner_dict:\n",
    "                winner_dict[env.env.winner] += 1\n",
    "            else:\n",
    "                winner_dict[env.env.winner] = 1\n",
    "            break\n",
    "\n",
    "print(winner_dict)\n"
   ]
  },
  {
   "cell_type": "code",
   "execution_count": null,
   "metadata": {},
   "outputs": [],
   "source": []
  },
  {
   "cell_type": "markdown",
   "metadata": {},
   "source": [
    "### Test new env"
   ]
  },
  {
   "cell_type": "code",
   "execution_count": 1,
   "metadata": {},
   "outputs": [],
   "source": [
    "import numpy as np\n",
    "\n",
    "from vgc.datatypes.Objects import PkmTeam, Pkm, GameState, Weather\n",
    "from vgc.engine.PkmBattleEnv import PkmBattleEnv\n",
    "from vgc.behaviour.BattlePolicies import RandomPlayer#, TerminalPlay\n",
    "\n",
    "from pkm_battle_env_wrapper import NiBot, PkmBattleEnvWrapper\n",
    "\n",
    "import importlib\n",
    "import pkm_battle_env_wrapper\n",
    "\n",
    "importlib.reload(pkm_battle_env_wrapper)\n",
    "from pkm_battle_env_wrapper import NiBot, PkmBattleEnvWrapper"
   ]
  },
  {
   "cell_type": "markdown",
   "metadata": {},
   "source": [
    "#### testing init and reset"
   ]
  },
  {
   "cell_type": "code",
   "execution_count": 47,
   "metadata": {},
   "outputs": [
    {
     "name": "stdout",
     "output_type": "stream",
     "text": [
      "Discrete(3)\n",
      "Dict('state': Box(-1.0, 1.0, (36,), float32))\n",
      "(36,)\n"
     ]
    }
   ],
   "source": [
    "importlib.reload(pkm_battle_env_wrapper)\n",
    "from pkm_battle_env_wrapper import NiBot, PkmBattleEnvWrapper\n",
    "\n",
    "env = PkmBattleEnvWrapper(\"my_id\", is_debug_mode=True)\n",
    "\n",
    "print(env.action_space)\n",
    "print(env.observation_space)\n",
    "obs, info = env.reset()\n",
    "print(obs['state'].shape)\n",
    "\n",
    "\n"
   ]
  },
  {
   "cell_type": "code",
   "execution_count": null,
   "metadata": {},
   "outputs": [],
   "source": [
    "importlib.reload(pkm_battle_env_wrapper)\n",
    "from pkm_battle_env_wrapper import NiBot, PkmBattleEnvWrapper\n",
    "env = PkmBattleEnvWrapper(\"my_id\", is_debug_mode=True, obs_type='simple')\n",
    "obs, info = env.reset()\n",
    "print(obs['state'].shape)"
   ]
  },
  {
   "cell_type": "code",
   "execution_count": 15,
   "metadata": {},
   "outputs": [
    {
     "name": "stdout",
     "output_type": "stream",
     "text": [
      "{'state': array([ 1.        ,  0.25      ,  1.        ,  1.        ,  0.925     ,\n",
      "        0.        ,  1.        ,  0.25      ,  0.        ,  1.        ,\n",
      "        0.475     ,  1.        ,  1.        , -0.5       ,  0.        ,\n",
      "        1.        , -0.5       ,  0.        ,  0.35897437,  0.05641026,\n",
      "        0.21025641, -0.5       , -0.5       , -0.5       , -0.5       ,\n",
      "       -0.5       , -0.5       ,  0.5       , -0.5       , -0.5       ,\n",
      "        0.5       , -0.5       , -0.5       ,  0.5       , -0.5       ,\n",
      "       -0.5       ], dtype=float32)}\n",
      "(36,)\n",
      "surviving, hp, revealed self\n",
      "[1.    0.25  1.    1.    0.925 0.    1.    0.25  0.   ]\n",
      "[ 1.     0.475  1.     1.    -0.5    0.     1.    -0.5    0.   ]\n",
      "nibot obs active\n",
      "[0.35897437 0.05641026 0.21025641]\n",
      "[344.6154    54.153847 201.84616 ]\n",
      "nibot obs party\n",
      "[-0.5 -0.5 -0.5 -0.5 -0.5 -0.5]\n",
      "[-480. -480. -480. -480. -480. -480.]\n",
      "type values\n",
      "[ 0.5 -0.5 -0.5  0.5 -0.5 -0.5  0.5 -0.5 -0.5]\n",
      "[ 1. -1. -1.  1. -1. -1.  1. -1. -1.]\n",
      "36\n"
     ]
    }
   ],
   "source": [
    "importlib.reload(pkm_battle_env_wrapper)\n",
    "from pkm_battle_env_wrapper import NiBot, PkmBattleEnvWrapper\n",
    "\n",
    "env = PkmBattleEnvWrapper(\"my_id\", is_debug_mode=True)\n",
    "\n",
    "# def __init__(self, id: str, obs_type: str = 'medium',  gym_space_type: str = 'Dict',\n",
    "#              is_debug_mode: bool = False):\n",
    "\n",
    "obs, info = env.reset()\n",
    "\n",
    "def display_medium_obs(obs):\n",
    "\n",
    "    print(obs)\n",
    "    print(obs['state'].shape)\n",
    "    print(\"surviving, hp, revealed self\")\n",
    "    # surviving, hp, revealed self\n",
    "    current_index = 0\n",
    "    current_index += 9\n",
    "    print(obs['state'][:current_index])\n",
    "    # opp\n",
    "    print(obs['state'][current_index:current_index+9])\n",
    "    current_index += 9\n",
    "\n",
    "    # nibot dmg team vs. active\n",
    "    print(\"nibot obs active\")\n",
    "    print(obs['state'][current_index:current_index+3])\n",
    "    print(obs['state'][current_index:current_index+3]*480*2)\n",
    "    # # nibot action chosen\n",
    "    # print(obs['state'][30:36])\n",
    "    current_index += 3\n",
    "\n",
    "    print(\"nibot obs party\")\n",
    "    print(obs['state'][current_index:current_index+6]) \n",
    "    print(obs['state'][current_index:current_index+6]*480*2)\n",
    "    current_index = current_index+6  \n",
    "\n",
    "    print(\"type values\")\n",
    "    print(obs['state'][current_index:current_index+9])\n",
    "    print(obs['state'][current_index:current_index+9]*2)\n",
    "    current_index += 9\n",
    "    #print(current_index)\n",
    "\n",
    "    # print(\"move values self\")\n",
    "    # print(obs['state'][current_index:current_index+24])\n",
    "    # current_index += 24\n",
    "\n",
    "    # print(\"move values opp\")\n",
    "    # print(obs['state'][current_index:current_index+24])\n",
    "    # print(current_index + 24)\n",
    "\n",
    "    print(current_index)\n",
    "\n",
    "display_medium_obs(obs)\n",
    "\n",
    "# env = PkmBattleEnvWrapper(\"my_id\", obs_type='simple', is_debug_mode=True)\n",
    "# obs, info = env.reset()\n",
    "# print(obs['state'].shape)\n",
    "\n",
    "# env = PkmBattleEnvWrapper(\"my_id\", obs_type='full', is_debug_mode=True)\n",
    "# obs, info = env.reset()q\n",
    "# print(obs['state'].shape)"
   ]
  },
  {
   "cell_type": "code",
   "execution_count": 16,
   "metadata": {},
   "outputs": [
    {
     "data": {
      "text/plain": [
       "1170.0"
      ]
     },
     "execution_count": 16,
     "metadata": {},
     "output_type": "execute_result"
    }
   ],
   "source": [
    "1.21875 * 2.0 * 480"
   ]
  },
  {
   "cell_type": "code",
   "execution_count": 17,
   "metadata": {},
   "outputs": [
    {
     "data": {
      "text/plain": [
       "0.41025641025641024"
      ]
     },
     "execution_count": 17,
     "metadata": {},
     "output_type": "execute_result"
    }
   ],
   "source": [
    "1 * 480 / 1170"
   ]
  },
  {
   "cell_type": "code",
   "execution_count": 18,
   "metadata": {},
   "outputs": [
    {
     "data": {
      "text/plain": [
       "2.4375"
      ]
     },
     "execution_count": 18,
     "metadata": {},
     "output_type": "execute_result"
    }
   ],
   "source": [
    "# (1170 / 480) / x = 1\n",
    "# x = 1170 / 480\n",
    "# 480x = 1170 \n",
    "1170/480"
   ]
  },
  {
   "cell_type": "code",
   "execution_count": null,
   "metadata": {},
   "outputs": [],
   "source": []
  },
  {
   "cell_type": "code",
   "execution_count": 20,
   "metadata": {},
   "outputs": [
    {
     "name": "stdout",
     "output_type": "stream",
     "text": [
      "1.0 0.5 0.55 0.25\n"
     ]
    }
   ],
   "source": [
    "importlib.reload(pkm_battle_env_wrapper)\n",
    "from pkm_battle_env_wrapper import NiBot, PkmBattleEnvWrapper\n",
    "\n",
    "env = PkmBattleEnvWrapper(\"my_id\", is_debug_mode=True)\n",
    "\n",
    "max_list =[]\n",
    "for i in range(10):\n",
    "    obs, info = env.reset()\n",
    "    max_list.append(np.max(obs['state'][18:30]))\n",
    "    #print(np.max(obs['state'][18:30]), np.max(obs['state'][18:30])*480*2)\n",
    "\n",
    "print(np.round(np.max(max_list),3), np.round(np.median(max_list),3), np.round(np.mean(max_list),3), np.round(np.min(max_list),3))"
   ]
  },
  {
   "cell_type": "code",
   "execution_count": 21,
   "metadata": {},
   "outputs": [
    {
     "data": {
      "text/plain": [
       "array([], dtype=float32)"
      ]
     },
     "execution_count": 21,
     "metadata": {},
     "output_type": "execute_result"
    }
   ],
   "source": [
    "# obs['state'][69:83]"
   ]
  },
  {
   "cell_type": "code",
   "execution_count": 69,
   "metadata": {},
   "outputs": [],
   "source": [
    "# env.env.game_state_view[0].teams[0].active.max_hp\n",
    "# dir(env.env)"
   ]
  },
  {
   "cell_type": "code",
   "execution_count": null,
   "metadata": {},
   "outputs": [],
   "source": []
  },
  {
   "cell_type": "markdown",
   "metadata": {},
   "source": [
    "#### Testing many env runs"
   ]
  },
  {
   "cell_type": "code",
   "execution_count": 56,
   "metadata": {},
   "outputs": [
    {
     "name": "stdout",
     "output_type": "stream",
     "text": [
      "5.39 5.0 9\n",
      "{0: 30, 1: 70}\n"
     ]
    }
   ],
   "source": [
    "# testing my env\n",
    "# PkmBattleEnvWrapper\n",
    "\n",
    "from vgc.util.generator.PkmTeamGenerators import RandomTeamGenerator\n",
    "import pkm_battle_env_wrapper\n",
    "\n",
    "importlib.reload(pkm_battle_env_wrapper)\n",
    "from pkm_battle_env_wrapper import NiBot, PkmBattleEnvWrapper, SimpleBot\n",
    "\n",
    "n_battles = 100 # total number of battles\n",
    "#active_dict = {'active':{}, 'opp':{}}\n",
    "winner_dict = {}\n",
    "max_steps_list = []\n",
    "t = False\n",
    "battle = 0\n",
    "agent_random = RandomPlayer()\n",
    "# do this if want agent to swap back and forth\n",
    "#env = PkmBattleEnvWrapper(\"asdf\", is_debug_mode=True)\n",
    "\n",
    "while battle < n_battles:\n",
    "    \n",
    "    # agent is always index 0\n",
    "    env = PkmBattleEnvWrapper(\"asdf\", is_debug_mode=True)\n",
    "    s, _ = env.reset()\n",
    "    while not t:  # True when all pkms of one of the two PkmTeam faint\n",
    "        # a = [agent0.get_action(s[0]), agent1.get_action(s[1])]\n",
    "        # # if a[0] < 0 or a[0] > 4:\n",
    "        # #     print('ni action is ', a[0])\n",
    "        # # print(a[0])\n",
    "        # if a[0] in active_dict['active']:\n",
    "        #     active_dict['active'][a[0]] += 1\n",
    "        # else:\n",
    "        #     active_dict['active'][a[0]] = 1\n",
    "        #print('ni action is ', a[0], a[1])\n",
    "        # if a[1] < 0 or a[1] >= 0:\n",
    "        #     print('nibot action is ', a[1])\n",
    "        a = agent_random.get_action(s)\n",
    "        #a = 0\n",
    "        s, _, t, _, _ = env.step(a)  # for inference, we don't need reward\n",
    "        #env.render()\n",
    "        if t:\n",
    "            max_steps_list.append(env.current_episode_steps)\n",
    "    t = False\n",
    "    battle += 1\n",
    "    if env.env.winner in winner_dict:\n",
    "        winner_dict[env.env.winner] += 1\n",
    "    else:\n",
    "        winner_dict[env.env.winner] = 1\n",
    "    #print(env.winner)  # winner id number\n",
    "print(np.mean(max_steps_list), np.median(max_steps_list), np.max(max_steps_list))\n",
    "print(winner_dict)\n",
    "# print(active_dict)"
   ]
  },
  {
   "cell_type": "code",
   "execution_count": null,
   "metadata": {},
   "outputs": [],
   "source": []
  },
  {
   "cell_type": "code",
   "execution_count": 86,
   "metadata": {},
   "outputs": [
    {
     "name": "stdout",
     "output_type": "stream",
     "text": [
      "{'state': array([ 0.        ,  0.        ,  1.        ,  0.        ,  0.        ,\n",
      "        1.        ,  0.        ,  0.        ,  1.        ,  1.        ,\n",
      "        0.4       ,  1.        ,  1.        , -0.5       ,  0.        ,\n",
      "        1.        , -0.5       ,  0.        ,  0.        ,  0.        ,\n",
      "        0.        ,  0.        ,  0.        ,  0.        ,  0.        ,\n",
      "        0.        ,  0.        ,  0.        ,  0.        ,  0.        ,\n",
      "        1.        ,  0.        ,  0.        ,  0.        ,  0.        ,\n",
      "        0.        , -0.5       , -0.5       , -0.5       , -0.5       ,\n",
      "       -0.5       , -0.5       , -0.5       , -0.5       , -0.5       ,\n",
      "       -0.5       , -0.5       , -0.5       , -0.5       , -0.5       ,\n",
      "       -0.5       , -0.5       , -0.5       , -0.5       , -0.5       ,\n",
      "       -0.5       , -0.5       , -0.5       , -0.5       , -0.5       ,\n",
      "        1.        , -0.5       , -0.5       ,  0.25      , -0.5       ,\n",
      "       -0.5       ,  0.25      , -0.5       , -0.5       , -1.        ,\n",
      "       -1.        , -1.        , -1.        , -1.        , -1.        ,\n",
      "       -1.        , -1.        , -1.        , -1.        , -1.        ,\n",
      "       -1.        , -1.        , -1.        , -1.        , -1.        ,\n",
      "       -1.        , -1.        , -1.        , -1.        , -1.        ,\n",
      "       -1.        , -1.        , -1.        ,  1.        ,  0.53846157,\n",
      "       -0.5       , -0.5       , -0.5       , -0.5       , -0.5       ,\n",
      "       -0.5       ,  1.        , -0.5       , -0.5       , -0.5       ,\n",
      "       -0.5       , -0.5       , -0.5       , -0.5       ,  1.        ,\n",
      "       -0.5       , -0.5       , -0.5       , -0.5       , -0.5       ,\n",
      "       -0.5       , -0.5       ], dtype=float32)}\n",
      "(117,)\n",
      "surviving, hp, revealed self\n",
      "[0. 0. 1. 0. 0. 1. 0. 0. 1.]\n",
      "[ 1.   0.4  1.   1.  -0.5  0.   1.  -0.5  0. ]\n",
      "nibot obs active\n",
      "[0. 0. 0. 0. 0. 0. 0. 0. 0. 0. 0. 0.]\n",
      "[0. 0. 0. 0. 0. 0. 0. 0. 0. 0. 0. 0.]\n",
      "[1. 0. 0. 0. 0. 0.]\n",
      "nibot obs party\n",
      "[-0.5 -0.5 -0.5 -0.5 -0.5 -0.5 -0.5 -0.5 -0.5 -0.5 -0.5 -0.5]\n",
      "[-480. -480. -480. -480. -480. -480. -480. -480. -480. -480. -480. -480.]\n",
      "[-0.5 -0.5 -0.5 -0.5 -0.5 -0.5 -0.5 -0.5 -0.5 -0.5 -0.5 -0.5]\n",
      "[-480. -480. -480. -480. -480. -480. -480. -480. -480. -480. -480. -480.]\n",
      "type values\n",
      "[ 1.   -0.5  -0.5   0.25 -0.5  -0.5   0.25 -0.5  -0.5 ]\n",
      "[ 2.  -1.  -1.   0.5 -1.  -1.   0.5 -1.  -1. ]\n",
      "move values self\n",
      "[-1. -1. -1. -1. -1. -1. -1. -1. -1. -1. -1. -1. -1. -1. -1. -1. -1. -1.\n",
      " -1. -1. -1. -1. -1. -1.]\n",
      "move values opp\n",
      "[ 1.          0.53846157 -0.5        -0.5        -0.5        -0.5\n",
      " -0.5        -0.5         1.         -0.5        -0.5        -0.5\n",
      " -0.5        -0.5        -0.5        -0.5         1.         -0.5\n",
      " -0.5        -0.5        -0.5        -0.5        -0.5        -0.5       ]\n"
     ]
    }
   ],
   "source": [
    "display_medium_obs(s)"
   ]
  },
  {
   "cell_type": "code",
   "execution_count": null,
   "metadata": {},
   "outputs": [],
   "source": []
  },
  {
   "cell_type": "markdown",
   "metadata": {},
   "source": [
    "##### testing simple env runs"
   ]
  },
  {
   "cell_type": "code",
   "execution_count": 108,
   "metadata": {},
   "outputs": [
    {
     "name": "stdout",
     "output_type": "stream",
     "text": [
      "5.881 6.0 12\n",
      "{1: 487, 0: 513}\n"
     ]
    }
   ],
   "source": [
    "# testing my env\n",
    "# PkmBattleEnvWrapper\n",
    "\n",
    "from vgc.util.generator.PkmTeamGenerators import RandomTeamGenerator\n",
    "import pkm_battle_env_wrapper\n",
    "\n",
    "importlib.reload(pkm_battle_env_wrapper)\n",
    "from pkm_battle_env_wrapper import NiBot, PkmBattleEnvWrapper\n",
    "\n",
    "n_battles = 1000 # total number of battles\n",
    "#active_dict = {'active':{}, 'opp':{}}\n",
    "winner_dict = {}\n",
    "max_steps_list = []\n",
    "t = False\n",
    "battle = 0\n",
    "agent_random = RandomPlayer()\n",
    "# do this if want agent to swap back and forth\n",
    "env = PkmBattleEnvWrapper(\"asdf\", is_debug_mode=True, obs_type='simple')\n",
    "\n",
    "while battle < n_battles:\n",
    "    \n",
    "    # agent is always index 0\n",
    "    #env = PkmBattleEnvWrapper(\"asdf\", is_debug_mode=True)\n",
    "    s, _ = env.reset()\n",
    "    while not t:  # True when all pkms of one of the two PkmTeam faint\n",
    "        # a = [agent0.get_action(s[0]), agent1.get_action(s[1])]\n",
    "        # # if a[0] < 0 or a[0] > 4:\n",
    "        # #     print('ni action is ', a[0])\n",
    "        # # print(a[0])\n",
    "        # if a[0] in active_dict['active']:\n",
    "        #     active_dict['active'][a[0]] += 1\n",
    "        # else:\n",
    "        #     active_dict['active'][a[0]] = 1\n",
    "        #print('ni action is ', a[0], a[1])\n",
    "        # if a[1] < 0 or a[1] >= 0:\n",
    "        #     print('nibot action is ', a[1])\n",
    "        a = agent_random.get_action(s)\n",
    "        s, _, t, _, _ = env.step(a)  # for inference, we don't need reward\n",
    "        #env.render()\n",
    "        if t:\n",
    "            max_steps_list.append(env.current_episode_steps)\n",
    "    t = False\n",
    "    battle += 1\n",
    "    if env.env.winner in winner_dict:\n",
    "        winner_dict[env.env.winner] += 1\n",
    "    else:\n",
    "        winner_dict[env.env.winner] = 1\n",
    "    #print(env.winner)  # winner id number\n",
    "print(np.mean(max_steps_list), np.median(max_steps_list), np.max(max_steps_list))\n",
    "print(winner_dict)\n",
    "# print(active_dict)"
   ]
  },
  {
   "cell_type": "code",
   "execution_count": 109,
   "metadata": {},
   "outputs": [
    {
     "name": "stdout",
     "output_type": "stream",
     "text": [
      "{'state': array([0.     , 0.     , 1.     , 0.     , 0.     , 1.     , 0.     ,\n",
      "       0.     , 1.     , 1.     , 0.4875 , 1.     , 1.     , 0.05625,\n",
      "       1.     , 1.     , 0.2625 , 1.     , 0.     , 0.     , 0.     ,\n",
      "       0.     , 0.     , 0.     , 0.     , 0.     , 0.     , 0.     ,\n",
      "       0.     , 0.     , 1.     , 0.     , 0.     , 0.     , 0.     ,\n",
      "       0.     ], dtype=float32)}\n",
      "(36,)\n",
      "surviving, hp, revealed self\n",
      "[0. 0. 1. 0. 0. 1. 0. 0. 1.]\n",
      "[1.      0.4875  1.      1.      0.05625 1.      1.      0.2625  1.     ]\n",
      "nibot obs active\n",
      "[0. 0. 0. 0. 0. 0. 0. 0. 0. 0. 0. 0.]\n",
      "[0. 0. 0. 0. 0. 0. 0. 0. 0. 0. 0. 0.]\n",
      "[1. 0. 0. 0. 0. 0.]\n",
      "nibot obs party\n",
      "[]\n",
      "[]\n",
      "[]\n",
      "[]\n",
      "type values\n",
      "[]\n",
      "[]\n",
      "move values self\n",
      "[]\n",
      "move values opp\n",
      "[]\n"
     ]
    }
   ],
   "source": [
    "display_medium_obs(s)"
   ]
  },
  {
   "cell_type": "code",
   "execution_count": null,
   "metadata": {},
   "outputs": [],
   "source": []
  },
  {
   "cell_type": "markdown",
   "metadata": {},
   "source": [
    "##### Testing a simple bot"
   ]
  },
  {
   "cell_type": "code",
   "execution_count": 135,
   "metadata": {},
   "outputs": [
    {
     "name": "stdout",
     "output_type": "stream",
     "text": [
      "0.726 0.274\n"
     ]
    }
   ],
   "source": [
    "# testing my env\n",
    "# PkmBattleEnvWrapper\n",
    "\n",
    "from vgc.util.generator.PkmTeamGenerators import RandomTeamGenerator\n",
    "import pkm_battle_env_wrapper\n",
    "\n",
    "importlib.reload(pkm_battle_env_wrapper)\n",
    "from pkm_battle_env_wrapper import NiBot, PkmBattleEnvWrapper, SimpleBot\n",
    "\n",
    "from vgc.engine.PkmBattleEnv import PkmBattleEnv\n",
    "\n",
    "from vgc.util.generator.PkmTeamGenerators import RandomTeamGenerator\n",
    "\n",
    "\n",
    "n_battles = 500 # total number of battles\n",
    "#active_dict = {'active':{}, 'opp':{}}\n",
    "winner_dict = {}\n",
    "max_steps_list = []\n",
    "t = False\n",
    "battle = 0\n",
    "agent_simple = SimpleBot() #RandomPlayer() #SimpleBot()#\n",
    "agent_nibot = NiBot() #RandomPlayer() #NiBot()\n",
    "# do this if want agent to swap back and forth\n",
    "#env = PkmBattleEnvWrapper(\"asdf\", is_debug_mode=True, obs_type='simple')\n",
    "\n",
    "\n",
    "\n",
    "team_generator = RandomTeamGenerator(2)\n",
    "\n",
    "\n",
    "\n",
    "\n",
    "while battle < n_battles:\n",
    "    \n",
    "    # agent is always index 0\n",
    "    #env = PkmBattleEnvWrapper(\"asdf\", is_debug_mode=True)\n",
    "    \n",
    "    team0 = team_generator.get_team().get_battle_team([0, 1, 2])\n",
    "    team1 = team_generator.get_team().get_battle_team([0, 1, 2])\n",
    "    env = PkmBattleEnv((team0, team1),\n",
    "                   encode=(False, False))  # set new environment with teams\n",
    "    \n",
    "    s, _ = env.reset()\n",
    "    while not t:  # True when all pkms of one of the two PkmTeam faint\n",
    "        # a = [agent0.get_action(s[0]), agent1.get_action(s[1])]\n",
    "        # # if a[0] < 0 or a[0] > 4:\n",
    "        # #     print('ni action is ', a[0])\n",
    "        # # print(a[0])\n",
    "        # if a[0] in active_dict['active']:\n",
    "        #     active_dict['active'][a[0]] += 1\n",
    "        # else:\n",
    "        #     active_dict['active'][a[0]] = 1\n",
    "        #print('ni action is ', a[0], a[1])\n",
    "        # if a[1] < 0 or a[1] >= 0:\n",
    "        #     print('nibot action is ', a[1])\n",
    "        a = [agent_simple.get_action(s[0]), agent_nibot.get_action(s[1])]\n",
    "        s, _, t, _, _ = env.step(a)  # for inference, we don't need reward\n",
    "        #env.render()\n",
    "        # if t:\n",
    "        #     max_steps_list.append(env.current_episode_steps)\n",
    "    t = False\n",
    "    battle += 1\n",
    "    if env.winner in winner_dict:\n",
    "        winner_dict[env.winner] += 1\n",
    "    else:\n",
    "        winner_dict[env.winner] = 1\n",
    "    #print(env.winner)  # winner id number\n",
    "#print(np.mean(max_steps_list), np.median(max_steps_list), np.max(max_steps_list))\n",
    "print(np.round(winner_dict[0]/n_battles,3), np.round(winner_dict[1]/n_battles,3))\n",
    "# print(active_dict)"
   ]
  },
  {
   "cell_type": "code",
   "execution_count": null,
   "metadata": {},
   "outputs": [],
   "source": []
  },
  {
   "cell_type": "code",
   "execution_count": null,
   "metadata": {},
   "outputs": [],
   "source": []
  },
  {
   "cell_type": "code",
   "execution_count": null,
   "metadata": {},
   "outputs": [],
   "source": []
  },
  {
   "cell_type": "code",
   "execution_count": 73,
   "metadata": {},
   "outputs": [
    {
     "name": "stdout",
     "output_type": "stream",
     "text": [
      "{1: 1}\n"
     ]
    }
   ],
   "source": [
    "# testing my env\n",
    "# PkmBattleEnvWrapper\n",
    "\n",
    "from vgc.util.generator.PkmTeamGenerators import RandomTeamGenerator\n",
    "import pkm_battle_env_wrapper\n",
    "\n",
    "importlib.reload(pkm_battle_env_wrapper)\n",
    "from pkm_battle_env_wrapper import NiBot, PkmBattleEnvWrapper\n",
    "\n",
    "n_battles = 1 # total number of battles\n",
    "#active_dict = {'active':{}, 'opp':{}}\n",
    "winner_dict = {}\n",
    "t = False\n",
    "battle = 0\n",
    "agent_random = RandomPlayer()\n",
    "env = PkmBattleEnvWrapper(\"asdf\", is_debug_mode=True)\n",
    "\n",
    "while battle < n_battles:\n",
    "    \n",
    "    s, _ = env.reset()\n",
    "    while not t:  # True when all pkms of one of the two PkmTeam faint\n",
    "        # a = [agent0.get_action(s[0]), agent1.get_action(s[1])]\n",
    "        # # if a[0] < 0 or a[0] > 4:\n",
    "        # #     print('ni action is ', a[0])\n",
    "        # # print(a[0])\n",
    "        # if a[0] in active_dict['active']:\n",
    "        #     active_dict['active'][a[0]] += 1\n",
    "        # else:\n",
    "        #     active_dict['active'][a[0]] = 1\n",
    "        #print('ni action is ', a[0], a[1])\n",
    "        # if a[1] < 0 or a[1] >= 0:\n",
    "        #     print('nibot action is ', a[1])\n",
    "        a = agent_random.get_action(s)\n",
    "        s, _, t, _, _ = env.step(a)  # for inference, we don't need reward\n",
    "        #env.render()\n",
    "    t = False\n",
    "    battle += 1\n",
    "    if env.env.winner in winner_dict:\n",
    "        winner_dict[env.env.winner] += 1\n",
    "    else:\n",
    "        winner_dict[env.env.winner] = 1\n",
    "    #print(env.winner)  # winner id number\n",
    "print(winner_dict)\n",
    "# print(active_dict)"
   ]
  },
  {
   "cell_type": "code",
   "execution_count": 78,
   "metadata": {},
   "outputs": [
    {
     "name": "stdout",
     "output_type": "stream",
     "text": [
      "{'state': array([ 0.        ,  0.        ,  1.        ,  0.        ,  0.        ,\n",
      "        1.        ,  0.        ,  0.        ,  1.        ,  1.        ,\n",
      "        0.125     ,  1.        ,  1.        ,  0.25      ,  1.        ,\n",
      "        0.        ,  0.        ,  1.        ,  0.        ,  0.        ,\n",
      "        0.        ,  0.        ,  0.        ,  0.        ,  0.        ,\n",
      "        0.        ,  0.        ,  0.        ,  0.        ,  0.        ,\n",
      "        1.        ,  0.        ,  0.        ,  0.        ,  0.        ,\n",
      "        0.        ,  0.        ,  0.        ,  0.        ,  0.        ,\n",
      "        0.        ,  0.        ,  0.        ,  0.        ,  0.        ,\n",
      "        0.        ,  0.        ,  0.        ,  0.        ,  0.        ,\n",
      "        0.        ,  0.        ,  0.        ,  0.        ,  0.        ,\n",
      "        0.        ,  0.        ,  0.        ,  0.        ,  0.        ,\n",
      "        0.5       ,  0.5       ,  1.        ,  0.5       ,  0.5       ,\n",
      "        0.25      ,  0.5       ,  0.5       ,  1.        , -1.        ,\n",
      "       -1.        , -1.        , -1.        , -1.        , -1.        ,\n",
      "       -1.        , -1.        , -1.        , -1.        , -1.        ,\n",
      "       -1.        , -1.        , -1.        , -1.        , -1.        ,\n",
      "       -1.        , -1.        , -1.        , -1.        , -1.        ,\n",
      "       -1.        , -1.        , -1.        ,  1.        , -0.5       ,\n",
      "       -0.5       , -0.5       , -0.5       , -0.5       ,  0.        ,\n",
      "        0.72307694,  1.        , -0.5       , -0.5       , -0.5       ,\n",
      "       -0.5       , -0.5       , -0.5       , -0.5       , -1.        ,\n",
      "       -1.        , -1.        , -1.        , -1.        , -1.        ,\n",
      "       -1.        , -1.        ], dtype=float32)}\n",
      "(117,)\n",
      "surviving, hp, revealed self\n",
      "[0. 0. 1. 0. 0. 1. 0. 0. 1.]\n",
      "[1.    0.125 1.    1.    0.25  1.    0.    0.    1.   ]\n",
      "nibot obs active\n",
      "[0. 0. 0. 0. 0. 0. 0. 0. 0. 0. 0. 0.]\n",
      "[0. 0. 0. 0. 0. 0. 0. 0. 0. 0. 0. 0.]\n",
      "[1. 0. 0. 0. 0. 0.]\n",
      "nibot obs party\n",
      "[0. 0. 0. 0. 0. 0. 0. 0. 0. 0. 0. 0.]\n",
      "[0. 0. 0. 0. 0. 0. 0. 0. 0. 0. 0. 0.]\n",
      "[0. 0. 0. 0. 0. 0. 0. 0. 0. 0. 0. 0.]\n",
      "[0. 0. 0. 0. 0. 0. 0. 0. 0. 0. 0. 0.]\n",
      "type values\n",
      "[0.5  0.5  1.   0.5  0.5  0.25 0.5  0.5  1.  ]\n",
      "[1.  1.  2.  1.  1.  0.5 1.  1.  2. ]\n",
      "move values self\n",
      "[-1. -1. -1. -1. -1. -1. -1. -1. -1. -1. -1. -1. -1. -1. -1. -1. -1. -1.\n",
      " -1. -1. -1. -1. -1. -1.]\n",
      "move values opp\n",
      "[ 1.         -0.5        -0.5        -0.5        -0.5        -0.5\n",
      "  0.          0.72307694  1.         -0.5        -0.5        -0.5\n",
      " -0.5        -0.5        -0.5        -0.5        -1.         -1.\n",
      " -1.         -1.         -1.         -1.         -1.         -1.        ]\n"
     ]
    }
   ],
   "source": [
    "display_medium_obs(s)"
   ]
  },
  {
   "cell_type": "code",
   "execution_count": null,
   "metadata": {},
   "outputs": [],
   "source": []
  },
  {
   "cell_type": "code",
   "execution_count": null,
   "metadata": {},
   "outputs": [],
   "source": []
  },
  {
   "cell_type": "code",
   "execution_count": null,
   "metadata": {},
   "outputs": [],
   "source": []
  },
  {
   "cell_type": "code",
   "execution_count": null,
   "metadata": {},
   "outputs": [],
   "source": []
  },
  {
   "cell_type": "code",
   "execution_count": null,
   "metadata": {},
   "outputs": [],
   "source": []
  },
  {
   "cell_type": "code",
   "execution_count": null,
   "metadata": {},
   "outputs": [],
   "source": []
  },
  {
   "cell_type": "markdown",
   "metadata": {},
   "source": [
    "## Old scrap"
   ]
  },
  {
   "cell_type": "code",
   "execution_count": 3,
   "metadata": {},
   "outputs": [
    {
     "name": "stdout",
     "output_type": "stream",
     "text": [
      "[9, 1, 2, 1, 312.0, 2]\n"
     ]
    }
   ],
   "source": [
    "import numpy as np\n",
    "a = [9,1,2]\n",
    "# np.array(a, dtype=np.float32)\n",
    "b = [1,312.,2]\n",
    "a.extend(b)\n",
    "print(a)"
   ]
  },
  {
   "cell_type": "markdown",
   "metadata": {},
   "source": [
    "### Random move generating logic"
   ]
  },
  {
   "cell_type": "code",
   "execution_count": 25,
   "metadata": {},
   "outputs": [
    {
     "name": "stdout",
     "output_type": "stream",
     "text": [
      "[300.  30.  30. 174.  66.]\n",
      "30.0\n",
      "30.0\n",
      "174.0\n",
      "66.0\n"
     ]
    }
   ],
   "source": [
    "#https://gitlab.com/DracoStriker/pokemon-vgc-engine/-/blob/master/vgc/util/generator/PkmTeamGenerators.py#L42\n",
    "\n",
    "def softmax(x):\n",
    "    \"\"\"Compute softmax values for each sets of scores in x.\"\"\"\n",
    "    return np.exp(x) / np.sum(np.exp(x), axis=0)\n",
    "\n",
    "base_stats = np.array([120., 30., 30., 30., 30.])\n",
    "evs = np.random.multinomial(10, softmax(np.random.normal(0, 1, 5)), size=None) * 36 + base_stats\n",
    "\n",
    "print(evs)\n",
    "\n",
    "for i in range(4):\n",
    "    print(evs[i + 1])"
   ]
  },
  {
   "cell_type": "code",
   "execution_count": 31,
   "metadata": {},
   "outputs": [
    {
     "data": {
      "text/plain": [
       "array([0.05899407, 0.80928058, 0.04238171, 0.0454171 , 0.04392655])"
      ]
     },
     "execution_count": 31,
     "metadata": {},
     "output_type": "execute_result"
    }
   ],
   "source": [
    "softmax(np.random.normal(0, 1, 5))"
   ]
  },
  {
   "cell_type": "code",
   "execution_count": 26,
   "metadata": {},
   "outputs": [
    {
     "data": {
      "text/plain": [
       "array([2, 0, 2, 1, 5])"
      ]
     },
     "execution_count": 26,
     "metadata": {},
     "output_type": "execute_result"
    }
   ],
   "source": [
    "np.random.multinomial(10, softmax(np.random.normal(0, 1, 5)), size=None)"
   ]
  },
  {
   "cell_type": "code",
   "execution_count": 41,
   "metadata": {},
   "outputs": [
    {
     "name": "stdout",
     "output_type": "stream",
     "text": [
      "390.0 102.0108 66.0\n"
     ]
    }
   ],
   "source": [
    "max_list = []\n",
    "for i in range(10000):\n",
    "    base_stats = np.array([120., 30., 30., 30., 30.])\n",
    "    evs = np.random.multinomial(10, softmax(np.random.normal(0, 1, 5)), size=None) * 36 + base_stats\n",
    "    max_list.append(evs[1:])\n",
    "\n",
    "print(np.max(max_list), np.mean(max_list), np.median(max_list))"
   ]
  },
  {
   "cell_type": "code",
   "execution_count": 48,
   "metadata": {},
   "outputs": [
    {
     "data": {
      "text/plain": [
       "[0, 0, 0, 0, 0, 0, 0, 0, 0, 0, 0, 1, 0, 0, 0, 0, 0, 0]"
      ]
     },
     "execution_count": 48,
     "metadata": {},
     "output_type": "execute_result"
    }
   ],
   "source": [
    "def one_hot(p, n):\n",
    "    b = [0] * n\n",
    "    b[p] = 1\n",
    "    return b\n",
    "\n",
    "one_hot(team0.active.type, 18)\n"
   ]
  },
  {
   "cell_type": "code",
   "execution_count": 52,
   "metadata": {},
   "outputs": [
    {
     "data": {
      "text/plain": [
       "False"
      ]
     },
     "execution_count": 52,
     "metadata": {},
     "output_type": "execute_result"
    }
   ],
   "source": [
    "team0.active.moves[1].type == team0.active.type"
   ]
  },
  {
   "cell_type": "code",
   "execution_count": 49,
   "metadata": {},
   "outputs": [
    {
     "data": {
      "text/plain": [
       "<PkmType.BUG: 11>"
      ]
     },
     "execution_count": 49,
     "metadata": {},
     "output_type": "execute_result"
    }
   ],
   "source": [
    "team0.active.type"
   ]
  },
  {
   "cell_type": "code",
   "execution_count": null,
   "metadata": {},
   "outputs": [],
   "source": [
    "team"
   ]
  },
  {
   "cell_type": "code",
   "execution_count": 45,
   "metadata": {},
   "outputs": [
    {
     "data": {
      "text/plain": [
       "['__class__',\n",
       " '__doc__',\n",
       " '__module__',\n",
       " 'as_integer_ratio',\n",
       " 'bit_length',\n",
       " 'conjugate',\n",
       " 'denominator',\n",
       " 'from_bytes',\n",
       " 'imag',\n",
       " 'name',\n",
       " 'numerator',\n",
       " 'real',\n",
       " 'to_bytes',\n",
       " 'value']"
      ]
     },
     "execution_count": 45,
     "metadata": {},
     "output_type": "execute_result"
    }
   ],
   "source": [
    "dir(team0.active.type)"
   ]
  },
  {
   "cell_type": "markdown",
   "metadata": {},
   "source": [
    "### Testing random teams moves\n",
    "* looks as expected\n",
    "* only thing differing is the move power and type. type for move 0 matches the pkm type"
   ]
  },
  {
   "cell_type": "code",
   "execution_count": 5,
   "metadata": {},
   "outputs": [],
   "source": [
    "from vgc.util.generator.PkmTeamGenerators import RandomTeamGenerator\n",
    "\n",
    "team_generator = RandomTeamGenerator(2)\n",
    "\n",
    "team0 = team_generator.get_team().get_battle_team([0, 1, 2])\n",
    "team1 = team_generator.get_team().get_battle_team([0, 1, 2])"
   ]
  },
  {
   "cell_type": "code",
   "execution_count": 6,
   "metadata": {},
   "outputs": [
    {
     "name": "stdout",
     "output_type": "stream",
     "text": [
      "--- 0\n",
      "PkmType.STEEL\n",
      "1.0 210.0 PkmType.STEEL False 1 PkmStatus.NONE WeatherCondition.CLEAR 10 None\n",
      "1.0 102.0 PkmType.GROUND False 1 PkmStatus.NONE WeatherCondition.CLEAR 10 None\n",
      "1.0 66.0 PkmType.DARK False 1 PkmStatus.NONE WeatherCondition.CLEAR 10 None\n",
      "1.0 30.0 PkmType.ICE False 1 PkmStatus.NONE WeatherCondition.CLEAR 10 None\n",
      "__________\n",
      "--- 1\n",
      "PkmType.GROUND\n",
      "1.0 30.0 PkmType.GROUND False 1 PkmStatus.NONE WeatherCondition.CLEAR 10 None\n",
      "1.0 30.0 PkmType.ELECTRIC False 1 PkmStatus.NONE WeatherCondition.CLEAR 10 None\n",
      "1.0 30.0 PkmType.GHOST False 1 PkmStatus.NONE WeatherCondition.CLEAR 10 None\n",
      "1.0 282.0 PkmType.STEEL False 1 PkmStatus.NONE WeatherCondition.CLEAR 10 None\n",
      "__________\n",
      "--- 2\n",
      "PkmType.PSYCHIC\n",
      "1.0 66.0 PkmType.PSYCHIC False 1 PkmStatus.NONE WeatherCondition.CLEAR 10 None\n",
      "1.0 66.0 PkmType.FLYING False 1 PkmStatus.NONE WeatherCondition.CLEAR 10 None\n",
      "1.0 102.0 PkmType.GRASS False 1 PkmStatus.NONE WeatherCondition.CLEAR 10 None\n",
      "1.0 210.0 PkmType.ICE False 1 PkmStatus.NONE WeatherCondition.CLEAR 10 None\n",
      "__________\n",
      "--- 3\n",
      "PkmType.NORMAL\n",
      "1.0 30.0 PkmType.NORMAL False 1 PkmStatus.NONE WeatherCondition.CLEAR 10 None\n",
      "1.0 138.0 PkmType.DARK False 1 PkmStatus.NONE WeatherCondition.CLEAR 10 None\n",
      "1.0 210.0 PkmType.ICE False 1 PkmStatus.NONE WeatherCondition.CLEAR 10 None\n",
      "1.0 30.0 PkmType.ROCK False 1 PkmStatus.NONE WeatherCondition.CLEAR 10 None\n",
      "__________\n",
      "--- 4\n",
      "PkmType.FIRE\n",
      "1.0 354.0 PkmType.FIRE False 1 PkmStatus.NONE WeatherCondition.CLEAR 10 None\n",
      "1.0 30.0 PkmType.DRAGON False 1 PkmStatus.NONE WeatherCondition.CLEAR 10 None\n",
      "1.0 66.0 PkmType.FAIRY False 1 PkmStatus.NONE WeatherCondition.CLEAR 10 None\n",
      "1.0 30.0 PkmType.GRASS False 1 PkmStatus.NONE WeatherCondition.CLEAR 10 None\n",
      "__________\n",
      "--- 5\n",
      "PkmType.ROCK\n",
      "1.0 66.0 PkmType.ROCK False 1 PkmStatus.NONE WeatherCondition.CLEAR 10 None\n",
      "1.0 210.0 PkmType.DARK False 1 PkmStatus.NONE WeatherCondition.CLEAR 10 None\n",
      "1.0 66.0 PkmType.DARK False 1 PkmStatus.NONE WeatherCondition.CLEAR 10 None\n",
      "1.0 30.0 PkmType.BUG False 1 PkmStatus.NONE WeatherCondition.CLEAR 10 None\n",
      "__________\n",
      "--- 6\n",
      "PkmType.NORMAL\n",
      "1.0 102.0 PkmType.NORMAL False 1 PkmStatus.NONE WeatherCondition.CLEAR 10 None\n",
      "1.0 174.0 PkmType.FLYING False 1 PkmStatus.NONE WeatherCondition.CLEAR 10 None\n",
      "1.0 30.0 PkmType.WATER False 1 PkmStatus.NONE WeatherCondition.CLEAR 10 None\n",
      "1.0 138.0 PkmType.GRASS False 1 PkmStatus.NONE WeatherCondition.CLEAR 10 None\n",
      "__________\n",
      "--- 7\n",
      "PkmType.DARK\n",
      "1.0 138.0 PkmType.DARK False 1 PkmStatus.NONE WeatherCondition.CLEAR 10 None\n",
      "1.0 30.0 PkmType.DRAGON False 1 PkmStatus.NONE WeatherCondition.CLEAR 10 None\n",
      "1.0 30.0 PkmType.ICE False 1 PkmStatus.NONE WeatherCondition.CLEAR 10 None\n",
      "1.0 138.0 PkmType.NORMAL False 1 PkmStatus.NONE WeatherCondition.CLEAR 10 None\n",
      "__________\n",
      "--- 8\n",
      "PkmType.DARK\n",
      "1.0 138.0 PkmType.DARK False 1 PkmStatus.NONE WeatherCondition.CLEAR 10 None\n",
      "1.0 138.0 PkmType.ELECTRIC False 1 PkmStatus.NONE WeatherCondition.CLEAR 10 None\n",
      "1.0 102.0 PkmType.DRAGON False 1 PkmStatus.NONE WeatherCondition.CLEAR 10 None\n",
      "1.0 102.0 PkmType.POISON False 1 PkmStatus.NONE WeatherCondition.CLEAR 10 None\n",
      "__________\n",
      "--- 9\n",
      "PkmType.BUG\n",
      "1.0 138.0 PkmType.BUG False 1 PkmStatus.NONE WeatherCondition.CLEAR 10 None\n",
      "1.0 174.0 PkmType.DRAGON False 1 PkmStatus.NONE WeatherCondition.CLEAR 10 None\n",
      "1.0 102.0 PkmType.WATER False 1 PkmStatus.NONE WeatherCondition.CLEAR 10 None\n",
      "1.0 66.0 PkmType.DARK False 1 PkmStatus.NONE WeatherCondition.CLEAR 10 None\n",
      "__________\n"
     ]
    }
   ],
   "source": [
    "\n",
    "for i in range(10):\n",
    "    print(f\"--- {i}\")\n",
    "    team0 = team_generator.get_team().get_battle_team([0, 1, 2])\n",
    "    print(team0.active.type)\n",
    "    for i in range(4):\n",
    "        print(team0.active.moves[i].acc, team0.active.moves[i].power, team0.active.moves[i].type, team0.active.moves[i].priority, team0.active.moves[i].target,\n",
    "            team0.active.moves[i].status, team0.active.moves[i].weather,  team0.active.moves[i].pp, team0.active.moves[i].name)\n",
    "    print(\"__________\")"
   ]
  },
  {
   "cell_type": "code",
   "execution_count": 21,
   "metadata": {},
   "outputs": [
    {
     "data": {
      "text/plain": [
       "False"
      ]
     },
     "execution_count": 21,
     "metadata": {},
     "output_type": "execute_result"
    }
   ],
   "source": [
    "team0.active.fainted()"
   ]
  },
  {
   "cell_type": "code",
   "execution_count": 18,
   "metadata": {},
   "outputs": [
    {
     "data": {
      "text/plain": [
       "[0, 0]"
      ]
     },
     "execution_count": 18,
     "metadata": {},
     "output_type": "execute_result"
    }
   ],
   "source": [
    "team0.entry_hazard"
   ]
  },
  {
   "cell_type": "code",
   "execution_count": 20,
   "metadata": {},
   "outputs": [
    {
     "data": {
      "text/plain": [
       "1.0"
      ]
     },
     "execution_count": 20,
     "metadata": {},
     "output_type": "execute_result"
    }
   ],
   "source": [
    "float(team0.confused)"
   ]
  },
  {
   "cell_type": "code",
   "execution_count": 12,
   "metadata": {},
   "outputs": [
    {
     "data": {
      "text/plain": [
       "False"
      ]
     },
     "execution_count": 12,
     "metadata": {},
     "output_type": "execute_result"
    }
   ],
   "source": [
    "team0.active.revealed"
   ]
  },
  {
   "cell_type": "code",
   "execution_count": 15,
   "metadata": {},
   "outputs": [
    {
     "name": "stdout",
     "output_type": "stream",
     "text": [
      "False False\n",
      "False False\n"
     ]
    }
   ],
   "source": [
    "print(team0.active.revealed, team0.active.fainted())\n",
    "print(team0.party[0].revealed, team0.party[0].fainted())"
   ]
  },
  {
   "cell_type": "code",
   "execution_count": 8,
   "metadata": {},
   "outputs": [
    {
     "data": {
      "text/plain": [
       "False"
      ]
     },
     "execution_count": 8,
     "metadata": {},
     "output_type": "execute_result"
    }
   ],
   "source": [
    "team0.active.fainted()"
   ]
  },
  {
   "cell_type": "code",
   "execution_count": 10,
   "metadata": {},
   "outputs": [
    {
     "name": "stdout",
     "output_type": "stream",
     "text": [
      "[<vgc.datatypes.Objects.Pkm object at 0x00000230FE72FF10>, <vgc.datatypes.Objects.Pkm object at 0x00000230FE69C790>, <vgc.datatypes.Objects.Pkm object at 0x00000230FE7A3040>] 3\n"
     ]
    }
   ],
   "source": [
    "asdf = [team0.active] + team0.party\n",
    "print(asdf, len(asdf))"
   ]
  },
  {
   "cell_type": "code",
   "execution_count": null,
   "metadata": {},
   "outputs": [],
   "source": []
  },
  {
   "cell_type": "code",
   "execution_count": 24,
   "metadata": {},
   "outputs": [
    {
     "data": {
      "text/plain": [
       "['__class__',\n",
       " '__delattr__',\n",
       " '__dict__',\n",
       " '__dir__',\n",
       " '__doc__',\n",
       " '__eq__',\n",
       " '__format__',\n",
       " '__ge__',\n",
       " '__getattribute__',\n",
       " '__gt__',\n",
       " '__hash__',\n",
       " '__init__',\n",
       " '__init_subclass__',\n",
       " '__le__',\n",
       " '__lt__',\n",
       " '__module__',\n",
       " '__ne__',\n",
       " '__new__',\n",
       " '__reduce__',\n",
       " '__reduce_ex__',\n",
       " '__repr__',\n",
       " '__setattr__',\n",
       " '__sizeof__',\n",
       " '__str__',\n",
       " '__subclasshook__',\n",
       " '__weakref__',\n",
       " 'acc',\n",
       " 'effect',\n",
       " 'fixed_damage',\n",
       " 'hazard',\n",
       " 'hide',\n",
       " 'max_pp',\n",
       " 'move_id',\n",
       " 'name',\n",
       " 'owner',\n",
       " 'power',\n",
       " 'pp',\n",
       " 'priority',\n",
       " 'prob',\n",
       " 'public',\n",
       " 'recover',\n",
       " 'reset',\n",
       " 'reveal',\n",
       " 'revealed',\n",
       " 'set_owner',\n",
       " 'stage',\n",
       " 'stat',\n",
       " 'status',\n",
       " 'target',\n",
       " 'type',\n",
       " 'weather']"
      ]
     },
     "execution_count": 24,
     "metadata": {},
     "output_type": "execute_result"
    }
   ],
   "source": [
    "dir(team0.active.moves[0])"
   ]
  },
  {
   "cell_type": "code",
   "execution_count": 11,
   "metadata": {},
   "outputs": [
    {
     "data": {
      "text/plain": [
       "['__class__',\n",
       " '__delattr__',\n",
       " '__dict__',\n",
       " '__dir__',\n",
       " '__doc__',\n",
       " '__eq__',\n",
       " '__format__',\n",
       " '__ge__',\n",
       " '__getattribute__',\n",
       " '__gt__',\n",
       " '__hash__',\n",
       " '__init__',\n",
       " '__init_subclass__',\n",
       " '__le__',\n",
       " '__lt__',\n",
       " '__module__',\n",
       " '__ne__',\n",
       " '__new__',\n",
       " '__reduce__',\n",
       " '__reduce_ex__',\n",
       " '__repr__',\n",
       " '__setattr__',\n",
       " '__sizeof__',\n",
       " '__str__',\n",
       " '__subclasshook__',\n",
       " '__weakref__',\n",
       " 'active',\n",
       " 'confused',\n",
       " 'entry_hazard',\n",
       " 'fainted',\n",
       " 'get_not_fainted',\n",
       " 'get_pkm_list',\n",
       " 'n_turns_confused',\n",
       " 'party',\n",
       " 'reset',\n",
       " 'reset_team_members',\n",
       " 'size',\n",
       " 'stage',\n",
       " 'switch']"
      ]
     },
     "execution_count": 11,
     "metadata": {},
     "output_type": "execute_result"
    }
   ],
   "source": [
    "dir(team0)"
   ]
  },
  {
   "cell_type": "code",
   "execution_count": null,
   "metadata": {},
   "outputs": [],
   "source": []
  },
  {
   "cell_type": "markdown",
   "metadata": {},
   "source": [
    "### Testing gym make"
   ]
  },
  {
   "cell_type": "code",
   "execution_count": 2,
   "metadata": {},
   "outputs": [
    {
     "name": "stdout",
     "output_type": "stream",
     "text": [
      "([False, 0, 0, 0.0, 0.0, 0.0, 1.0, 0.0, 1, 0, 0, 0, 0, 0, 0, 0, 0, 0, 0, 0, 0, 0, 0, 0, 0, 0, 1, 0, 0, 0, 0, 0, 0, 0.125, 1.0, 0.5, False, 0.0, 1, 0.0, 0, 0.0, 0.0, 1, 0, 0, 0, 0, 0, 0, 0, 0, 0, 0, 0, 0, 0, 0, 0, 0, 0, 1, 0, 0, 0, 0, 0, 0, 1, 0, 0, 0, 0, 1, 0, 0.125, 1.0, 0.5, False, 0.0, 1, 0.0, 0, 0.0, 0.0, 1, 0, 0, 0, 0, 0, 0, 0, 0, 0, 0, 0, 0, 0, 0, 0, 0, 0, 1, 0, 0, 0, 0, 0, 0, 1, 0, 0, 0, 0, 1, 0, 0.125, 1.0, 0.5, False, 0.0, 1, 0.0, 0, 0.0, 0.0, 1, 0, 0, 0, 0, 0, 0, 0, 0, 0, 0, 0, 0, 0, 0, 0, 0, 0, 1, 0, 0, 0, 0, 0, 0, 1, 0, 0, 0, 0, 1, 0, 0.125, 1.0, 0.5, False, 0.0, 1, 0.0, 0, 0.0, 0.0, 1, 0, 0, 0, 0, 0, 0, 0, 0, 0, 0, 0, 0, 0, 0, 0, 0, 0, 1, 0, 0, 0, 0, 0, 0, 1, 0, 0, 0, 0, 1, 0, 1.0, 0.0, 1, 0, 0, 0, 0, 0, 0, 0, 0, 0, 0, 0, 0, 0, 0, 0, 0, 0, 1, 0, 0, 0, 0, 0, 0, 0.125, 1.0, 0.5, False, 0.0, 1, 0.0, 0, 0.0, 0.0, 1, 0, 0, 0, 0, 0, 0, 0, 0, 0, 0, 0, 0, 0, 0, 0, 0, 0, 1, 0, 0, 0, 0, 0, 0, 1, 0, 0, 0, 0, 1, 0, 0.125, 1.0, 0.5, False, 0.0, 1, 0.0, 0, 0.0, 0.0, 1, 0, 0, 0, 0, 0, 0, 0, 0, 0, 0, 0, 0, 0, 0, 0, 0, 0, 1, 0, 0, 0, 0, 0, 0, 1, 0, 0, 0, 0, 1, 0, 0.125, 1.0, 0.5, False, 0.0, 1, 0.0, 0, 0.0, 0.0, 1, 0, 0, 0, 0, 0, 0, 0, 0, 0, 0, 0, 0, 0, 0, 0, 0, 0, 1, 0, 0, 0, 0, 0, 0, 1, 0, 0, 0, 0, 1, 0, 0.125, 1.0, 0.5, False, 0.0, 1, 0.0, 0, 0.0, 0.0, 1, 0, 0, 0, 0, 0, 0, 0, 0, 0, 0, 0, 0, 0, 0, 0, 0, 0, 1, 0, 0, 0, 0, 0, 0, 1, 0, 0, 0, 0, 1, 0, 1.0, 0.0, 1, 0, 0, 0, 0, 0, 0, 0, 0, 0, 0, 0, 0, 0, 0, 0, 0, 0, 1, 0, 0, 0, 0, 0, 0, 0.125, 1.0, 0.5, False, 0.0, 1, 0.0, 0, 0.0, 0.0, 1, 0, 0, 0, 0, 0, 0, 0, 0, 0, 0, 0, 0, 0, 0, 0, 0, 0, 1, 0, 0, 0, 0, 0, 0, 1, 0, 0, 0, 0, 1, 0, 0.125, 1.0, 0.5, False, 0.0, 1, 0.0, 0, 0.0, 0.0, 1, 0, 0, 0, 0, 0, 0, 0, 0, 0, 0, 0, 0, 0, 0, 0, 0, 0, 1, 0, 0, 0, 0, 0, 0, 1, 0, 0, 0, 0, 1, 0, 0.125, 1.0, 0.5, False, 0.0, 1, 0.0, 0, 0.0, 0.0, 1, 0, 0, 0, 0, 0, 0, 0, 0, 0, 0, 0, 0, 0, 0, 0, 0, 0, 1, 0, 0, 0, 0, 0, 0, 1, 0, 0, 0, 0, 1, 0, 0.125, 1.0, 0.5, False, 0.0, 1, 0.0, 0, 0.0, 0.0, 1, 0, 0, 0, 0, 0, 0, 0, 0, 0, 0, 0, 0, 0, 0, 0, 0, 0, 1, 0, 0, 0, 0, 0, 0, 1, 0, 0, 0, 0, 1, 0, False, 0, 0, 0.0, 0.0, 0.0, 1.0, 0.0, 1, 0, 0, 0, 0, 0, 0, 0, 0, 0, 0, 0, 0, 0, 0, 0, 0, 0, 1, 0, 0, 0, 0, 0, 0, 0.125, 1.0, 0.5, False, 0.0, 1, 0.0, 0, 0.0, 0.0, 1, 0, 0, 0, 0, 0, 0, 0, 0, 0, 0, 0, 0, 0, 0, 0, 0, 0, 1, 0, 0, 0, 0, 0, 0, 1, 0, 0, 0, 0, 1, 0, 0.125, 1.0, 0.5, False, 0.0, 1, 0.0, 0, 0.0, 0.0, 1, 0, 0, 0, 0, 0, 0, 0, 0, 0, 0, 0, 0, 0, 0, 0, 0, 0, 1, 0, 0, 0, 0, 0, 0, 1, 0, 0, 0, 0, 1, 0, 0.125, 1.0, 0.5, False, 0.0, 1, 0.0, 0, 0.0, 0.0, 1, 0, 0, 0, 0, 0, 0, 0, 0, 0, 0, 0, 0, 0, 0, 0, 0, 0, 1, 0, 0, 0, 0, 0, 0, 1, 0, 0, 0, 0, 1, 0, 0.125, 1.0, 0.5, False, 0.0, 1, 0.0, 0, 0.0, 0.0, 1, 0, 0, 0, 0, 0, 0, 0, 0, 0, 0, 0, 0, 0, 0, 0, 0, 0, 1, 0, 0, 0, 0, 0, 0, 1, 0, 0, 0, 0, 1, 0, 1.0, 0.0, 1, 0, 0, 0, 0, 0, 0, 0, 0, 0, 0, 0, 0, 0, 0, 0, 0, 0, 1, 0, 0, 0, 0, 0, 0, 0.125, 1.0, 0.5, False, 0.0, 1, 0.0, 0, 0.0, 0.0, 1, 0, 0, 0, 0, 0, 0, 0, 0, 0, 0, 0, 0, 0, 0, 0, 0, 0, 1, 0, 0, 0, 0, 0, 0, 1, 0, 0, 0, 0, 1, 0, 0.125, 1.0, 0.5, False, 0.0, 1, 0.0, 0, 0.0, 0.0, 1, 0, 0, 0, 0, 0, 0, 0, 0, 0, 0, 0, 0, 0, 0, 0, 0, 0, 1, 0, 0, 0, 0, 0, 0, 1, 0, 0, 0, 0, 1, 0, 0.125, 1.0, 0.5, False, 0.0, 1, 0.0, 0, 0.0, 0.0, 1, 0, 0, 0, 0, 0, 0, 0, 0, 0, 0, 0, 0, 0, 0, 0, 0, 0, 1, 0, 0, 0, 0, 0, 0, 1, 0, 0, 0, 0, 1, 0, 0.125, 1.0, 0.5, False, 0.0, 1, 0.0, 0, 0.0, 0.0, 1, 0, 0, 0, 0, 0, 0, 0, 0, 0, 0, 0, 0, 0, 0, 0, 0, 0, 1, 0, 0, 0, 0, 0, 0, 1, 0, 0, 0, 0, 1, 0, 1.0, 0.0, 1, 0, 0, 0, 0, 0, 0, 0, 0, 0, 0, 0, 0, 0, 0, 0, 0, 0, 1, 0, 0, 0, 0, 0, 0, 0.125, 1.0, 0.5, False, 0.0, 1, 0.0, 0, 0.0, 0.0, 1, 0, 0, 0, 0, 0, 0, 0, 0, 0, 0, 0, 0, 0, 0, 0, 0, 0, 1, 0, 0, 0, 0, 0, 0, 1, 0, 0, 0, 0, 1, 0, 0.125, 1.0, 0.5, False, 0.0, 1, 0.0, 0, 0.0, 0.0, 1, 0, 0, 0, 0, 0, 0, 0, 0, 0, 0, 0, 0, 0, 0, 0, 0, 0, 1, 0, 0, 0, 0, 0, 0, 1, 0, 0, 0, 0, 1, 0, 0.125, 1.0, 0.5, False, 0.0, 1, 0.0, 0, 0.0, 0.0, 1, 0, 0, 0, 0, 0, 0, 0, 0, 0, 0, 0, 0, 0, 0, 0, 0, 0, 1, 0, 0, 0, 0, 0, 0, 1, 0, 0, 0, 0, 1, 0, 0.125, 1.0, 0.5, False, 0.0, 1, 0.0, 0, 0.0, 0.0, 1, 0, 0, 0, 0, 0, 0, 0, 0, 0, 0, 0, 0, 0, 0, 0, 0, 0, 1, 0, 0, 0, 0, 0, 0, 1, 0, 0, 0, 0, 1, 0, 1, 0, 0, 0, 0, 0.0], [False, 0, 0, 0.0, 0.0, 0.0, 1.0, 0.0, 1, 0, 0, 0, 0, 0, 0, 0, 0, 0, 0, 0, 0, 0, 0, 0, 0, 0, 1, 0, 0, 0, 0, 0, 0, 0.125, 1.0, 0.5, False, 0.0, 1, 0.0, 0, 0.0, 0.0, 1, 0, 0, 0, 0, 0, 0, 0, 0, 0, 0, 0, 0, 0, 0, 0, 0, 0, 1, 0, 0, 0, 0, 0, 0, 1, 0, 0, 0, 0, 1, 0, 0.125, 1.0, 0.5, False, 0.0, 1, 0.0, 0, 0.0, 0.0, 1, 0, 0, 0, 0, 0, 0, 0, 0, 0, 0, 0, 0, 0, 0, 0, 0, 0, 1, 0, 0, 0, 0, 0, 0, 1, 0, 0, 0, 0, 1, 0, 0.125, 1.0, 0.5, False, 0.0, 1, 0.0, 0, 0.0, 0.0, 1, 0, 0, 0, 0, 0, 0, 0, 0, 0, 0, 0, 0, 0, 0, 0, 0, 0, 1, 0, 0, 0, 0, 0, 0, 1, 0, 0, 0, 0, 1, 0, 0.125, 1.0, 0.5, False, 0.0, 1, 0.0, 0, 0.0, 0.0, 1, 0, 0, 0, 0, 0, 0, 0, 0, 0, 0, 0, 0, 0, 0, 0, 0, 0, 1, 0, 0, 0, 0, 0, 0, 1, 0, 0, 0, 0, 1, 0, 1.0, 0.0, 1, 0, 0, 0, 0, 0, 0, 0, 0, 0, 0, 0, 0, 0, 0, 0, 0, 0, 1, 0, 0, 0, 0, 0, 0, 0.125, 1.0, 0.5, False, 0.0, 1, 0.0, 0, 0.0, 0.0, 1, 0, 0, 0, 0, 0, 0, 0, 0, 0, 0, 0, 0, 0, 0, 0, 0, 0, 1, 0, 0, 0, 0, 0, 0, 1, 0, 0, 0, 0, 1, 0, 0.125, 1.0, 0.5, False, 0.0, 1, 0.0, 0, 0.0, 0.0, 1, 0, 0, 0, 0, 0, 0, 0, 0, 0, 0, 0, 0, 0, 0, 0, 0, 0, 1, 0, 0, 0, 0, 0, 0, 1, 0, 0, 0, 0, 1, 0, 0.125, 1.0, 0.5, False, 0.0, 1, 0.0, 0, 0.0, 0.0, 1, 0, 0, 0, 0, 0, 0, 0, 0, 0, 0, 0, 0, 0, 0, 0, 0, 0, 1, 0, 0, 0, 0, 0, 0, 1, 0, 0, 0, 0, 1, 0, 0.125, 1.0, 0.5, False, 0.0, 1, 0.0, 0, 0.0, 0.0, 1, 0, 0, 0, 0, 0, 0, 0, 0, 0, 0, 0, 0, 0, 0, 0, 0, 0, 1, 0, 0, 0, 0, 0, 0, 1, 0, 0, 0, 0, 1, 0, 1.0, 0.0, 1, 0, 0, 0, 0, 0, 0, 0, 0, 0, 0, 0, 0, 0, 0, 0, 0, 0, 1, 0, 0, 0, 0, 0, 0, 0.125, 1.0, 0.5, False, 0.0, 1, 0.0, 0, 0.0, 0.0, 1, 0, 0, 0, 0, 0, 0, 0, 0, 0, 0, 0, 0, 0, 0, 0, 0, 0, 1, 0, 0, 0, 0, 0, 0, 1, 0, 0, 0, 0, 1, 0, 0.125, 1.0, 0.5, False, 0.0, 1, 0.0, 0, 0.0, 0.0, 1, 0, 0, 0, 0, 0, 0, 0, 0, 0, 0, 0, 0, 0, 0, 0, 0, 0, 1, 0, 0, 0, 0, 0, 0, 1, 0, 0, 0, 0, 1, 0, 0.125, 1.0, 0.5, False, 0.0, 1, 0.0, 0, 0.0, 0.0, 1, 0, 0, 0, 0, 0, 0, 0, 0, 0, 0, 0, 0, 0, 0, 0, 0, 0, 1, 0, 0, 0, 0, 0, 0, 1, 0, 0, 0, 0, 1, 0, 0.125, 1.0, 0.5, False, 0.0, 1, 0.0, 0, 0.0, 0.0, 1, 0, 0, 0, 0, 0, 0, 0, 0, 0, 0, 0, 0, 0, 0, 0, 0, 0, 1, 0, 0, 0, 0, 0, 0, 1, 0, 0, 0, 0, 1, 0, False, 0, 0, 0.0, 0.0, 0.0, 1.0, 0.0, 1, 0, 0, 0, 0, 0, 0, 0, 0, 0, 0, 0, 0, 0, 0, 0, 0, 0, 1, 0, 0, 0, 0, 0, 0, 0.125, 1.0, 0.5, False, 0.0, 1, 0.0, 0, 0.0, 0.0, 1, 0, 0, 0, 0, 0, 0, 0, 0, 0, 0, 0, 0, 0, 0, 0, 0, 0, 1, 0, 0, 0, 0, 0, 0, 1, 0, 0, 0, 0, 1, 0, 0.125, 1.0, 0.5, False, 0.0, 1, 0.0, 0, 0.0, 0.0, 1, 0, 0, 0, 0, 0, 0, 0, 0, 0, 0, 0, 0, 0, 0, 0, 0, 0, 1, 0, 0, 0, 0, 0, 0, 1, 0, 0, 0, 0, 1, 0, 0.125, 1.0, 0.5, False, 0.0, 1, 0.0, 0, 0.0, 0.0, 1, 0, 0, 0, 0, 0, 0, 0, 0, 0, 0, 0, 0, 0, 0, 0, 0, 0, 1, 0, 0, 0, 0, 0, 0, 1, 0, 0, 0, 0, 1, 0, 0.125, 1.0, 0.5, False, 0.0, 1, 0.0, 0, 0.0, 0.0, 1, 0, 0, 0, 0, 0, 0, 0, 0, 0, 0, 0, 0, 0, 0, 0, 0, 0, 1, 0, 0, 0, 0, 0, 0, 1, 0, 0, 0, 0, 1, 0, 1.0, 0.0, 1, 0, 0, 0, 0, 0, 0, 0, 0, 0, 0, 0, 0, 0, 0, 0, 0, 0, 1, 0, 0, 0, 0, 0, 0, 0.125, 1.0, 0.5, False, 0.0, 1, 0.0, 0, 0.0, 0.0, 1, 0, 0, 0, 0, 0, 0, 0, 0, 0, 0, 0, 0, 0, 0, 0, 0, 0, 1, 0, 0, 0, 0, 0, 0, 1, 0, 0, 0, 0, 1, 0, 0.125, 1.0, 0.5, False, 0.0, 1, 0.0, 0, 0.0, 0.0, 1, 0, 0, 0, 0, 0, 0, 0, 0, 0, 0, 0, 0, 0, 0, 0, 0, 0, 1, 0, 0, 0, 0, 0, 0, 1, 0, 0, 0, 0, 1, 0, 0.125, 1.0, 0.5, False, 0.0, 1, 0.0, 0, 0.0, 0.0, 1, 0, 0, 0, 0, 0, 0, 0, 0, 0, 0, 0, 0, 0, 0, 0, 0, 0, 1, 0, 0, 0, 0, 0, 0, 1, 0, 0, 0, 0, 1, 0, 0.125, 1.0, 0.5, False, 0.0, 1, 0.0, 0, 0.0, 0.0, 1, 0, 0, 0, 0, 0, 0, 0, 0, 0, 0, 0, 0, 0, 0, 0, 0, 0, 1, 0, 0, 0, 0, 0, 0, 1, 0, 0, 0, 0, 1, 0, 1.0, 0.0, 1, 0, 0, 0, 0, 0, 0, 0, 0, 0, 0, 0, 0, 0, 0, 0, 0, 0, 1, 0, 0, 0, 0, 0, 0, 0.125, 1.0, 0.5, False, 0.0, 1, 0.0, 0, 0.0, 0.0, 1, 0, 0, 0, 0, 0, 0, 0, 0, 0, 0, 0, 0, 0, 0, 0, 0, 0, 1, 0, 0, 0, 0, 0, 0, 1, 0, 0, 0, 0, 1, 0, 0.125, 1.0, 0.5, False, 0.0, 1, 0.0, 0, 0.0, 0.0, 1, 0, 0, 0, 0, 0, 0, 0, 0, 0, 0, 0, 0, 0, 0, 0, 0, 0, 1, 0, 0, 0, 0, 0, 0, 1, 0, 0, 0, 0, 1, 0, 0.125, 1.0, 0.5, False, 0.0, 1, 0.0, 0, 0.0, 0.0, 1, 0, 0, 0, 0, 0, 0, 0, 0, 0, 0, 0, 0, 0, 0, 0, 0, 0, 1, 0, 0, 0, 0, 0, 0, 1, 0, 0, 0, 0, 1, 0, 0.125, 1.0, 0.5, False, 0.0, 1, 0.0, 0, 0.0, 0.0, 1, 0, 0, 0, 0, 0, 0, 0, 0, 0, 0, 0, 0, 0, 0, 0, 0, 0, 1, 0, 0, 0, 0, 0, 0, 1, 0, 0, 0, 0, 1, 0, 1, 0, 0, 0, 0, 0.0])\n",
      "{}\n"
     ]
    },
    {
     "name": "stderr",
     "output_type": "stream",
     "text": [
      "c:\\Users\\james\\github_repos\\pokemon-vgc-engine\\vgc\\lib\\site-packages\\gymnasium\\utils\\passive_env_checker.py:168: DeprecationWarning: \u001b[33mWARN: Current gymnasium version requires that `Env.reset` can be passed a `seed` instead of using `Env.seed` for resetting the environment random number generator.\u001b[0m\n",
      "  logger.deprecation(\n",
      "c:\\Users\\james\\github_repos\\pokemon-vgc-engine\\vgc\\lib\\site-packages\\gymnasium\\utils\\passive_env_checker.py:181: DeprecationWarning: \u001b[33mWARN: Current gymnasium version requires that `Env.reset` can be passed `options` to allow the environment initialisation to be passed additional information.\u001b[0m\n",
      "  logger.deprecation(\n",
      "c:\\Users\\james\\github_repos\\pokemon-vgc-engine\\vgc\\lib\\site-packages\\gymnasium\\utils\\passive_env_checker.py:127: UserWarning: \u001b[33mWARN: The obs returned by the `reset()` method should be an int or np.int64, actual type: <class 'tuple'>\u001b[0m\n",
      "  logger.warn(f\"{pre} should be an int or np.int64, actual type: {type(obs)}\")\n",
      "c:\\Users\\james\\github_repos\\pokemon-vgc-engine\\vgc\\lib\\site-packages\\gymnasium\\utils\\passive_env_checker.py:159: UserWarning: \u001b[33mWARN: The obs returned by the `reset()` method is not within the observation space.\u001b[0m\n",
      "  logger.warn(f\"{pre} is not within the observation space.\")\n"
     ]
    }
   ],
   "source": [
    "#import gym_examples\n",
    "#env = gymnasium.make('gym_examples/GridWorld-v0', size=10)\n",
    "#env = gymnasium.make('gym_examples/GridWorld-v0')\n",
    "\n",
    "# team0, team1 = PkmTeam(), PkmTeam()\n",
    "# agent0, agent1 = RandomPlayer(), RandomPlayer()\n",
    "# env = PkmBattleEnv((team0, team1),\n",
    "#                    encode=(True, False))  # set new environment with teams\n",
    "\n",
    "\n",
    "import gymnasium as gym\n",
    "\n",
    "from vgc.datatypes.Objects import PkmTeam, Pkm, GameState, Weather\n",
    "from vgc.engine.PkmBattleEnv import PkmBattleEnv\n",
    "\n",
    "env = gym.make('PkmBattleEnv-v0', teams=(PkmTeam(), PkmTeam()))\n",
    "\n",
    "obs, info = env.reset()\n",
    "print(obs)\n",
    "print(info)\n",
    "\n"
   ]
  },
  {
   "cell_type": "code",
   "execution_count": 3,
   "metadata": {},
   "outputs": [
    {
     "data": {
      "text/plain": [
       "Discrete(1188)"
      ]
     },
     "execution_count": 3,
     "metadata": {},
     "output_type": "execute_result"
    }
   ],
   "source": [
    "env.observation_space"
   ]
  },
  {
   "cell_type": "code",
   "execution_count": 55,
   "metadata": {},
   "outputs": [
    {
     "name": "stdout",
     "output_type": "stream",
     "text": [
      "asdf\n",
      "[0. 0. 0. ... 0. 0. 0.] {}\n",
      "<class 'numpy.ndarray'> (1188,)\n"
     ]
    }
   ],
   "source": [
    "\n",
    "# testing cleanrl make_env\n",
    "\n",
    "import importlib\n",
    "import pkm_battle_env_wrapper_cleanrl\n",
    "\n",
    "importlib.reload(pkm_battle_env_wrapper_cleanrl)\n",
    "from pkm_battle_env_wrapper_cleanrl import NiBotCleanRL, PkmBattleEnvWrapperCleanRL\n",
    "import numpy as np\n",
    "\n",
    "def make_env(env_id, idx, capture_video, run_name):\n",
    "    def thunk():\n",
    "        if capture_video and idx == 0:\n",
    "            env = gym.make(env_id, render_mode=\"rgb_array\")\n",
    "            env = gym.wrappers.RecordVideo(env, f\"videos/{run_name}\")\n",
    "        else:\n",
    "            env = gym.make(env_id, teams=(PkmTeam(), PkmTeam()))\n",
    "\n",
    "        if env_id == 'PkmBattleEnv-v0':\n",
    "            env = PkmBattleEnvWrapperCleanRL(env)\n",
    "        env = gym.wrappers.RecordEpisodeStatistics(env)\n",
    "        return env\n",
    "\n",
    "    return thunk\n",
    "\n",
    "test_env = make_env('PkmBattleEnv-v0', 0, False, 'test')\n",
    "obs, info = test_env().reset()\n",
    "print(obs, info)\n",
    "print(type(obs), obs.shape)"
   ]
  },
  {
   "cell_type": "code",
   "execution_count": 53,
   "metadata": {},
   "outputs": [
    {
     "name": "stdout",
     "output_type": "stream",
     "text": [
      "6\n",
      "()\n",
      "(1188,)\n",
      "[[0. 0. 0. ... 0. 0. 0.]\n",
      " [0. 0. 0. ... 0. 0. 0.]\n",
      " [0. 0. 0. ... 0. 0. 0.]\n",
      " ...\n",
      " [0. 0. 0. ... 0. 0. 0.]\n",
      " [0. 0. 0. ... 0. 0. 0.]\n",
      " [0. 0. 0. ... 0. 0. 0.]]\n"
     ]
    },
    {
     "name": "stderr",
     "output_type": "stream",
     "text": [
      "c:\\Users\\james\\github_repos\\pokemon-vgc-engine\\vgc\\lib\\site-packages\\gymnasium\\core.py:311: UserWarning: \u001b[33mWARN: env.metadata to get variables from other wrappers is deprecated and will be removed in v1.0, to get this variable you can do `env.unwrapped.metadata` for environment variables or `env.get_wrapper_attr('metadata')` that will search the reminding wrappers.\u001b[0m\n",
      "  logger.warn(\n"
     ]
    }
   ],
   "source": [
    "# testing cleanrly sycn vector env\n",
    "# I think the shape part for action space is only used in continuous PPO and not discrete PPO\n",
    "\n",
    "import torch\n",
    "\n",
    "env_id = 'PkmBattleEnv-v0'\n",
    "capture_video = False\n",
    "run_name = 'test'\n",
    "num_envs = 16\n",
    "\n",
    "envs = gym.vector.SyncVectorEnv(\n",
    "    [make_env(env_id, i, capture_video, run_name) for i in range(num_envs)],\n",
    ")\n",
    "assert isinstance(envs.single_action_space, gym.spaces.Discrete), \"only discrete action space is supported\"\n",
    "print(envs.single_action_space.n)\n",
    "print(envs.single_action_space.shape)\n",
    "print(envs.single_observation_space.shape)\n",
    "\n",
    "next_obs, _ = envs.reset(seed=5)\n",
    "print(next_obs)\n",
    "\n",
    "device = 'cpu'\n",
    "actions = torch.zeros((10, num_envs) + envs.single_action_space.shape).to(device)\n",
    "action = actions[0]\n"
   ]
  },
  {
   "cell_type": "code",
   "execution_count": 54,
   "metadata": {},
   "outputs": [],
   "source": [
    "# print(action.cpu().numpy(), action.shape)\n",
    "# envs.step(action.cpu().numpy())\n",
    "# next_obs, reward, terminations, truncations, infos = envs.step(action.cpu().numpy())"
   ]
  },
  {
   "cell_type": "code",
   "execution_count": 45,
   "metadata": {},
   "outputs": [],
   "source": [
    "# next_obs[0].tolist()"
   ]
  },
  {
   "cell_type": "code",
   "execution_count": 18,
   "metadata": {},
   "outputs": [
    {
     "name": "stdout",
     "output_type": "stream",
     "text": [
      "1.0\n"
     ]
    }
   ],
   "source": [
    "print(np.array(envs.single_observation_space.shape).prod())"
   ]
  },
  {
   "cell_type": "code",
   "execution_count": 24,
   "metadata": {},
   "outputs": [
    {
     "name": "stdout",
     "output_type": "stream",
     "text": [
      "2\n",
      "()\n",
      "(4,)\n"
     ]
    }
   ],
   "source": [
    "def make_env_cartpole(env_id, idx, capture_video, run_name):\n",
    "    def thunk():\n",
    "        if capture_video and idx == 0:\n",
    "            env = gym.make(env_id, render_mode=\"rgb_array\")\n",
    "            env = gym.wrappers.RecordVideo(env, f\"videos/{run_name}\")\n",
    "        else:\n",
    "            env = gym.make(env_id)\n",
    "        env = gym.wrappers.RecordEpisodeStatistics(env)\n",
    "        return env\n",
    "\n",
    "    return thunk\n",
    "\n",
    "#cartpole_env = gym.make('CartPole-v0')\n",
    "cartpole_envs = gym.vector.SyncVectorEnv(\n",
    "    [make_env_cartpole('CartPole-v0', i, capture_video, run_name) for i in range(num_envs)],\n",
    ")\n",
    "assert isinstance(cartpole_envs.single_action_space, gym.spaces.Discrete), \"only discrete action space is supported\"\n",
    "print(cartpole_envs.single_action_space.n)\n",
    "print(cartpole_envs.single_action_space.shape)\n",
    "print(cartpole_envs.single_observation_space.shape)"
   ]
  },
  {
   "cell_type": "code",
   "execution_count": 31,
   "metadata": {},
   "outputs": [
    {
     "name": "stdout",
     "output_type": "stream",
     "text": [
      "torch.Size([10, 16])\n",
      "torch.Size([160])\n",
      "torch.Size([10, 16])\n",
      "torch.Size([160])\n"
     ]
    }
   ],
   "source": [
    "# testing something with torch\n",
    "import torch\n",
    "actions = torch.zeros((10, num_envs) + cartpole_envs.single_action_space.shape)\n",
    "print(actions.shape)\n",
    "b_actions = actions.reshape((-1,) + envs.single_action_space.shape)\n",
    "print(b_actions.shape)\n",
    "actions = torch.zeros((10, num_envs))\n",
    "print(actions.shape)\n",
    "print(b_actions.shape)"
   ]
  },
  {
   "cell_type": "code",
   "execution_count": 19,
   "metadata": {},
   "outputs": [
    {
     "data": {
      "text/plain": [
       "Discrete(1188)"
      ]
     },
     "execution_count": 19,
     "metadata": {},
     "output_type": "execute_result"
    }
   ],
   "source": [
    "envs.single_observation_space"
   ]
  },
  {
   "cell_type": "code",
   "execution_count": 14,
   "metadata": {},
   "outputs": [
    {
     "data": {
      "text/plain": [
       "['__class__',\n",
       " '__class_getitem__',\n",
       " '__contains__',\n",
       " '__delattr__',\n",
       " '__dict__',\n",
       " '__dir__',\n",
       " '__doc__',\n",
       " '__eq__',\n",
       " '__format__',\n",
       " '__ge__',\n",
       " '__getattribute__',\n",
       " '__gt__',\n",
       " '__hash__',\n",
       " '__init__',\n",
       " '__init_subclass__',\n",
       " '__le__',\n",
       " '__lt__',\n",
       " '__module__',\n",
       " '__ne__',\n",
       " '__new__',\n",
       " '__orig_bases__',\n",
       " '__parameters__',\n",
       " '__reduce__',\n",
       " '__reduce_ex__',\n",
       " '__repr__',\n",
       " '__setattr__',\n",
       " '__setstate__',\n",
       " '__sizeof__',\n",
       " '__slots__',\n",
       " '__str__',\n",
       " '__subclasshook__',\n",
       " '__weakref__',\n",
       " '_is_protocol',\n",
       " '_np_random',\n",
       " '_shape',\n",
       " 'contains',\n",
       " 'dtype',\n",
       " 'from_jsonable',\n",
       " 'is_np_flattenable',\n",
       " 'n',\n",
       " 'np_random',\n",
       " 'sample',\n",
       " 'seed',\n",
       " 'shape',\n",
       " 'start',\n",
       " 'to_jsonable']"
      ]
     },
     "execution_count": 14,
     "metadata": {},
     "output_type": "execute_result"
    }
   ],
   "source": [
    "dir(envs.single_action_space)"
   ]
  },
  {
   "cell_type": "code",
   "execution_count": 3,
   "metadata": {},
   "outputs": [
    {
     "data": {
      "text/plain": [
       "'c:\\\\Users\\\\james\\\\github_repos\\\\pokemon-vgc-engine\\\\s3stuff'"
      ]
     },
     "execution_count": 3,
     "metadata": {},
     "output_type": "execute_result"
    }
   ],
   "source": [
    "import os\n",
    "os.getcwd()"
   ]
  },
  {
   "cell_type": "code",
   "execution_count": 4,
   "metadata": {},
   "outputs": [],
   "source": [
    "import importlib\n",
    "import pkm_battle_env_wrapper_cleanrl\n",
    "\n",
    "importlib.reload(pkm_battle_env_wrapper_cleanrl)\n",
    "from pkm_battle_env_wrapper_cleanrl import NiBotCleanRL, PkmBattleEnvWrapperCleanRL\n",
    "import numpy as np\n"
   ]
  },
  {
   "cell_type": "markdown",
   "metadata": {},
   "source": [
    "### setting max number of env steps"
   ]
  },
  {
   "cell_type": "code",
   "execution_count": null,
   "metadata": {},
   "outputs": [],
   "source": [
    "\n"
   ]
  },
  {
   "cell_type": "code",
   "execution_count": 22,
   "metadata": {},
   "outputs": [
    {
     "name": "stdout",
     "output_type": "stream",
     "text": [
      "1.0 True 5\n",
      "-1.0 True 4\n",
      "-1.0 True 6\n",
      "1.0 True 7\n",
      "0.0 True 7\n",
      "0.0 True 7\n",
      "-1.0 True 6\n",
      "-1.0 True 7\n",
      "0.0 True 7\n",
      "1.0 True 6\n",
      "6.2 6.5 7\n",
      "{0: 3, 1: 4, -1: 3}\n"
     ]
    }
   ],
   "source": [
    "# testing my env\n",
    "# PkmBattleEnvWrapper\n",
    "\n",
    "from vgc.util.generator.PkmTeamGenerators import RandomTeamGenerator\n",
    "import pkm_battle_env_wrapper\n",
    "\n",
    "importlib.reload(pkm_battle_env_wrapper)\n",
    "from pkm_battle_env_wrapper import NiBot, PkmBattleEnvWrapper\n",
    "import numpy as np\n",
    "\n",
    "n_battles = 10 # total number of battles\n",
    "#active_dict = {'active':{}, 'opp':{}}\n",
    "winner_dict = {}\n",
    "max_steps_list = []\n",
    "t = False\n",
    "battle = 0\n",
    "agent_random = RandomPlayer()\n",
    "env = PkmBattleEnvWrapper(\"asdf\")\n",
    "\n",
    "while battle < n_battles:\n",
    "    \n",
    "    s, _ = env.reset()\n",
    "    while not t:  # True when all pkms of one of the two PkmTeam faint\n",
    "        # a = [agent0.get_action(s[0]), agent1.get_action(s[1])]\n",
    "        # # if a[0] < 0 or a[0] > 4:\n",
    "        # #     print('ni action is ', a[0])\n",
    "        # # print(a[0])\n",
    "        # if a[0] in active_dict['active']:\n",
    "        #     active_dict['active'][a[0]] += 1\n",
    "        # else:\n",
    "        #     active_dict['active'][a[0]] = 1\n",
    "        #print('ni action is ', a[0], a[1])\n",
    "        # if a[1] < 0 or a[1] >= 0:\n",
    "        #     print('nibot action is ', a[1])\n",
    "        a = agent_random.get_action(s)\n",
    "        s, reward, t, _, _ = env.step(a)  # for inference, we don't need reward\n",
    "        #env.render()\n",
    "        if t:\n",
    "            max_steps_list.append(env.current_episode_steps)\n",
    "            print(reward, t, env.current_episode_steps)\n",
    "    t = False\n",
    "    battle += 1\n",
    "    if env.env.winner in winner_dict:\n",
    "        winner_dict[env.env.winner] += 1\n",
    "    else:\n",
    "        winner_dict[env.env.winner] = 1\n",
    "    #print(env.winner)  # winner id number\n",
    "print(np.mean(max_steps_list), np.median(max_steps_list), np.max(max_steps_list))\n",
    "print(winner_dict)\n",
    "# print(active_dict)"
   ]
  },
  {
   "cell_type": "code",
   "execution_count": null,
   "metadata": {},
   "outputs": [],
   "source": []
  },
  {
   "cell_type": "markdown",
   "metadata": {},
   "source": [
    "### Test that env runs a bunch of times and no obvious bugs in env"
   ]
  },
  {
   "cell_type": "code",
   "execution_count": 2,
   "metadata": {},
   "outputs": [],
   "source": [
    "from vgc.datatypes.Objects import PkmTeam, Pkm, GameState, Weather\n",
    "from vgc.engine.PkmBattleEnv import PkmBattleEnv\n",
    "from vgc.behaviour.BattlePolicies import RandomPlayer#, TerminalPlay\n",
    "\n",
    "from pkm_battle_env_wrapper import NiBot, PkmBattleEnvWrapper\n",
    "\n",
    "import importlib\n",
    "import pkm_battle_env_wrapper\n",
    "\n",
    "importlib.reload(pkm_battle_env_wrapper)\n",
    "from pkm_battle_env_wrapper import NiBot"
   ]
  },
  {
   "cell_type": "code",
   "execution_count": 13,
   "metadata": {},
   "outputs": [
    {
     "ename": "NameError",
     "evalue": "name 'np' is not defined",
     "output_type": "error",
     "traceback": [
      "\u001b[1;31m---------------------------------------------------------------------------\u001b[0m",
      "\u001b[1;31mNameError\u001b[0m                                 Traceback (most recent call last)",
      "Cell \u001b[1;32mIn[13], line 46\u001b[0m\n\u001b[0;32m     44\u001b[0m         winner_dict[env\u001b[38;5;241m.\u001b[39menv\u001b[38;5;241m.\u001b[39mwinner] \u001b[38;5;241m=\u001b[39m \u001b[38;5;241m1\u001b[39m\n\u001b[0;32m     45\u001b[0m     \u001b[38;5;66;03m#print(env.winner)  # winner id number\u001b[39;00m\n\u001b[1;32m---> 46\u001b[0m \u001b[38;5;28mprint\u001b[39m(\u001b[43mnp\u001b[49m\u001b[38;5;241m.\u001b[39mmean(max_steps_list), np\u001b[38;5;241m.\u001b[39mmedian(max_steps_list), np\u001b[38;5;241m.\u001b[39mmax(max_steps_list))\n\u001b[0;32m     47\u001b[0m \u001b[38;5;28mprint\u001b[39m(winner_dict)\n\u001b[0;32m     48\u001b[0m \u001b[38;5;66;03m# print(active_dict)\u001b[39;00m\n",
      "\u001b[1;31mNameError\u001b[0m: name 'np' is not defined"
     ]
    }
   ],
   "source": [
    "# testing my env\n",
    "# PkmBattleEnvWrapper\n",
    "\n",
    "from vgc.util.generator.PkmTeamGenerators import RandomTeamGenerator\n",
    "import pkm_battle_env_wrapper\n",
    "\n",
    "importlib.reload(pkm_battle_env_wrapper)\n",
    "from pkm_battle_env_wrapper import NiBot, PkmBattleEnvWrapper\n",
    "\n",
    "n_battles = 1000 # total number of battles\n",
    "#active_dict = {'active':{}, 'opp':{}}\n",
    "winner_dict = {}\n",
    "max_steps_list = []\n",
    "t = False\n",
    "battle = 0\n",
    "agent_random = RandomPlayer()\n",
    "env = PkmBattleEnvWrapper(\"asdf\")\n",
    "\n",
    "while battle < n_battles:\n",
    "    \n",
    "    s, _ = env.reset()\n",
    "    while not t:  # True when all pkms of one of the two PkmTeam faint\n",
    "        # a = [agent0.get_action(s[0]), agent1.get_action(s[1])]\n",
    "        # # if a[0] < 0 or a[0] > 4:\n",
    "        # #     print('ni action is ', a[0])\n",
    "        # # print(a[0])\n",
    "        # if a[0] in active_dict['active']:\n",
    "        #     active_dict['active'][a[0]] += 1\n",
    "        # else:\n",
    "        #     active_dict['active'][a[0]] = 1\n",
    "        #print('ni action is ', a[0], a[1])\n",
    "        # if a[1] < 0 or a[1] >= 0:\n",
    "        #     print('nibot action is ', a[1])\n",
    "        a = agent_random.get_action(s)\n",
    "        s, _, t, _, _ = env.step(a)  # for inference, we don't need reward\n",
    "        #env.render()\n",
    "        if t:\n",
    "            max_steps_list.append(env.current_episode_steps)\n",
    "    t = False\n",
    "    battle += 1\n",
    "    if env.env.winner in winner_dict:\n",
    "        winner_dict[env.env.winner] += 1\n",
    "    else:\n",
    "        winner_dict[env.env.winner] = 1\n",
    "    #print(env.winner)  # winner id number\n",
    "print(np.mean(max_steps_list), np.median(max_steps_list), np.max(max_steps_list))\n",
    "print(winner_dict)\n",
    "# print(active_dict)"
   ]
  },
  {
   "cell_type": "code",
   "execution_count": 4,
   "metadata": {},
   "outputs": [
    {
     "data": {
      "text/plain": [
       "{'state': array([0., 0., 0., ..., 0., 0., 0.], dtype=float32)}"
      ]
     },
     "execution_count": 4,
     "metadata": {},
     "output_type": "execute_result"
    }
   ],
   "source": [
    "s"
   ]
  },
  {
   "cell_type": "code",
   "execution_count": 7,
   "metadata": {},
   "outputs": [
    {
     "name": "stdout",
     "output_type": "stream",
     "text": [
      "{1: 840, 0: 160}\n"
     ]
    }
   ],
   "source": [
    "# testing my env\n",
    "# PkmBattleEnvWrapper\n",
    "\n",
    "from vgc.util.generator.PkmTeamGenerators import RandomTeamGenerator\n",
    "import pkm_battle_env_wrapper\n",
    "\n",
    "importlib.reload(pkm_battle_env_wrapper)\n",
    "from pkm_battle_env_wrapper import NiBot, PkmBattleEnvWrapper\n",
    "\n",
    "n_battles = 1000 # total number of battles\n",
    "#active_dict = {'active':{}, 'opp':{}}\n",
    "winner_dict = {}\n",
    "t = False\n",
    "battle = 0\n",
    "agent_random = RandomPlayer()\n",
    "env = PkmBattleEnvWrapper(\"asdf\")\n",
    "\n",
    "while battle < n_battles:\n",
    "    \n",
    "    s, _ = env.reset()\n",
    "    while not t:  # True when all pkms of one of the two PkmTeam faint\n",
    "        # a = [agent0.get_action(s[0]), agent1.get_action(s[1])]\n",
    "        # # if a[0] < 0 or a[0] > 4:\n",
    "        # #     print('ni action is ', a[0])\n",
    "        # # print(a[0])\n",
    "        # if a[0] in active_dict['active']:\n",
    "        #     active_dict['active'][a[0]] += 1\n",
    "        # else:\n",
    "        #     active_dict['active'][a[0]] = 1\n",
    "        #print('ni action is ', a[0], a[1])\n",
    "        # if a[1] < 0 or a[1] >= 0:\n",
    "        #     print('nibot action is ', a[1])\n",
    "        a = agent_random.get_action(s)\n",
    "        s, _, t, _, _ = env.step(a)  # for inference, we don't need reward\n",
    "        #env.render()\n",
    "    t = False\n",
    "    battle += 1\n",
    "    if env.winner in winner_dict:\n",
    "        winner_dict[env.env.winner] += 1\n",
    "    else:\n",
    "        winner_dict[env.env.winner] = 1\n",
    "    #print(env.winner)  # winner id number\n",
    "print(winner_dict)\n",
    "# print(active_dict)"
   ]
  },
  {
   "cell_type": "code",
   "execution_count": null,
   "metadata": {},
   "outputs": [],
   "source": []
  },
  {
   "cell_type": "code",
   "execution_count": null,
   "metadata": {},
   "outputs": [],
   "source": []
  },
  {
   "cell_type": "markdown",
   "metadata": {},
   "source": [
    "### Test an advanced Opponent set up"
   ]
  },
  {
   "cell_type": "code",
   "execution_count": 5,
   "metadata": {},
   "outputs": [],
   "source": [
    "from vgc.datatypes.Objects import PkmTeam, Pkm, GameState, Weather\n",
    "from vgc.engine.PkmBattleEnv import PkmBattleEnv\n",
    "from vgc.behaviour.BattlePolicies import RandomPlayer#, TerminalPlay\n",
    "\n",
    "from pkm_battle_env_wrapper import NiBot\n",
    "\n",
    "import importlib\n",
    "import pkm_battle_env_wrapper\n",
    "\n",
    "importlib.reload(pkm_battle_env_wrapper)\n",
    "from pkm_battle_env_wrapper import NiBot"
   ]
  },
  {
   "cell_type": "code",
   "execution_count": 6,
   "metadata": {},
   "outputs": [],
   "source": [
    "team0, team1 = PkmTeam(), PkmTeam()\n",
    "agent0, agent1 = RandomPlayer(), RandomPlayer()\n",
    "env = PkmBattleEnv((team0, team1),\n",
    "                   encode=(True, False))  # set new environment with teams\n",
    "\n",
    "obs, info = env.reset()  # reset environment and get initial observation"
   ]
  },
  {
   "cell_type": "code",
   "execution_count": 7,
   "metadata": {},
   "outputs": [
    {
     "name": "stdout",
     "output_type": "stream",
     "text": [
      "2\n",
      "<PkmBattleEnv instance>\n"
     ]
    }
   ],
   "source": [
    "print(len(obs))\n",
    "print(obs[1])"
   ]
  },
  {
   "cell_type": "code",
   "execution_count": 8,
   "metadata": {},
   "outputs": [
    {
     "data": {
      "text/plain": [
       "0"
      ]
     },
     "execution_count": 8,
     "metadata": {},
     "output_type": "execute_result"
    }
   ],
   "source": [
    "# how it works for random agent\n",
    "agent1.get_action(obs[1])"
   ]
  },
  {
   "cell_type": "code",
   "execution_count": 9,
   "metadata": {},
   "outputs": [
    {
     "name": "stdout",
     "output_type": "stream",
     "text": [
      "45.0 PkmType.NORMAL PkmType.NORMAL 30.0 PkmType.NORMAL 0 0 1.0\n",
      "45.0 PkmType.NORMAL PkmType.NORMAL 30.0 PkmType.NORMAL 0 0 1.0\n",
      "45.0 PkmType.NORMAL PkmType.NORMAL 30.0 PkmType.NORMAL 0 0 1.0\n",
      "45.0 PkmType.NORMAL PkmType.NORMAL 30.0 PkmType.NORMAL 0 0 1.0\n",
      "0 Move 3 0 Damage 45.0 Poke Pkm(Type=NORMAL, HP=240, Moves={PkmMove(Power=30, Acc=1.0, PP=10, Type=NORMAL), PkmMove(Power=30, Acc=1.0, PP=10, Type=NORMAL), PkmMove(Power=30, Acc=1.0, PP=10, Type=NORMAL), PkmMove(Power=30, Acc=1.0, PP=10, Type=NORMAL), })\n",
      "Pokemon 0 Pkm(Type=NORMAL, HP=240, Moves={PkmMove(Power=30, Acc=1.0, PP=10, Type=NORMAL), PkmMove(Power=30, Acc=1.0, PP=10, Type=NORMAL), PkmMove(Power=30, Acc=1.0, PP=10, Type=NORMAL), PkmMove(Power=30, Acc=1.0, PP=10, Type=NORMAL), }) Move 0 Damage 45.0\n",
      "45.0 PkmType.NORMAL PkmType.NORMAL 30.0 PkmType.NORMAL 0 0 1.0\n",
      "45.0 PkmType.NORMAL PkmType.NORMAL 30.0 PkmType.NORMAL 0 0 1.0\n",
      "45.0 PkmType.NORMAL PkmType.NORMAL 30.0 PkmType.NORMAL 0 0 1.0\n",
      "45.0 PkmType.NORMAL PkmType.NORMAL 30.0 PkmType.NORMAL 0 0 1.0\n",
      "1 Move 3 0 Damage 45.0 Poke Pkm(Type=NORMAL, HP=240, Moves={PkmMove(Power=30, Acc=1.0, PP=10, Type=NORMAL), PkmMove(Power=30, Acc=1.0, PP=10, Type=NORMAL), PkmMove(Power=30, Acc=1.0, PP=10, Type=NORMAL), PkmMove(Power=30, Acc=1.0, PP=10, Type=NORMAL), })\n",
      "Pokemon 1 Pkm(Type=NORMAL, HP=240, Moves={PkmMove(Power=30, Acc=1.0, PP=10, Type=NORMAL), PkmMove(Power=30, Acc=1.0, PP=10, Type=NORMAL), PkmMove(Power=30, Acc=1.0, PP=10, Type=NORMAL), PkmMove(Power=30, Acc=1.0, PP=10, Type=NORMAL), }) Move 0 Damage 45.0\n",
      "45.0 PkmType.NORMAL PkmType.NORMAL 30.0 PkmType.NORMAL 0 0 1.0\n",
      "45.0 PkmType.NORMAL PkmType.NORMAL 30.0 PkmType.NORMAL 0 0 1.0\n",
      "45.0 PkmType.NORMAL PkmType.NORMAL 30.0 PkmType.NORMAL 0 0 1.0\n",
      "45.0 PkmType.NORMAL PkmType.NORMAL 30.0 PkmType.NORMAL 0 0 1.0\n",
      "2 Move 3 0 Damage 45.0 Poke Pkm(Type=NORMAL, HP=240, Moves={PkmMove(Power=30, Acc=1.0, PP=10, Type=NORMAL), PkmMove(Power=30, Acc=1.0, PP=10, Type=NORMAL), PkmMove(Power=30, Acc=1.0, PP=10, Type=NORMAL), PkmMove(Power=30, Acc=1.0, PP=10, Type=NORMAL), })\n",
      "Pokemon 2 Pkm(Type=NORMAL, HP=240, Moves={PkmMove(Power=30, Acc=1.0, PP=10, Type=NORMAL), PkmMove(Power=30, Acc=1.0, PP=10, Type=NORMAL), PkmMove(Power=30, Acc=1.0, PP=10, Type=NORMAL), PkmMove(Power=30, Acc=1.0, PP=10, Type=NORMAL), }) Move 0 Damage 45.0\n",
      "0\n",
      "45.0 PkmType.NORMAL PkmType.NORMAL 30.0 PkmType.NORMAL 0 0 1.0\n",
      "45.0 PkmType.NORMAL PkmType.NORMAL 30.0 PkmType.NORMAL 0 0 1.0\n",
      "45.0 PkmType.NORMAL PkmType.NORMAL 30.0 PkmType.NORMAL 0 0 1.0\n",
      "45.0 PkmType.NORMAL PkmType.NORMAL 30.0 PkmType.NORMAL 0 0 1.0\n",
      "0 Move 3 0 Damage 45.0 Poke Pkm(Type=NORMAL, HP=240, Moves={PkmMove(Power=30, Acc=1.0, PP=10, Type=NORMAL), PkmMove(Power=30, Acc=1.0, PP=10, Type=NORMAL), PkmMove(Power=30, Acc=1.0, PP=10, Type=NORMAL), PkmMove(Power=30, Acc=1.0, PP=10, Type=NORMAL), })\n",
      "Pokemon 0 Pkm(Type=NORMAL, HP=240, Moves={PkmMove(Power=30, Acc=1.0, PP=10, Type=NORMAL), PkmMove(Power=30, Acc=1.0, PP=10, Type=NORMAL), PkmMove(Power=30, Acc=1.0, PP=10, Type=NORMAL), PkmMove(Power=30, Acc=1.0, PP=10, Type=NORMAL), }) Move 0 Damage 45.0\n",
      "45.0 PkmType.NORMAL PkmType.NORMAL 30.0 PkmType.NORMAL 0 0 1.0\n",
      "45.0 PkmType.NORMAL PkmType.NORMAL 30.0 PkmType.NORMAL 0 0 1.0\n",
      "45.0 PkmType.NORMAL PkmType.NORMAL 30.0 PkmType.NORMAL 0 0 1.0\n",
      "45.0 PkmType.NORMAL PkmType.NORMAL 30.0 PkmType.NORMAL 0 0 1.0\n",
      "1 Move 3 0 Damage 45.0 Poke Pkm(Type=NORMAL, HP=240, Moves={PkmMove(Power=30, Acc=1.0, PP=10, Type=NORMAL), PkmMove(Power=30, Acc=1.0, PP=10, Type=NORMAL), PkmMove(Power=30, Acc=1.0, PP=10, Type=NORMAL), PkmMove(Power=30, Acc=1.0, PP=10, Type=NORMAL), })\n",
      "Pokemon 1 Pkm(Type=NORMAL, HP=240, Moves={PkmMove(Power=30, Acc=1.0, PP=10, Type=NORMAL), PkmMove(Power=30, Acc=1.0, PP=10, Type=NORMAL), PkmMove(Power=30, Acc=1.0, PP=10, Type=NORMAL), PkmMove(Power=30, Acc=1.0, PP=10, Type=NORMAL), }) Move 0 Damage 45.0\n",
      "45.0 PkmType.NORMAL PkmType.NORMAL 30.0 PkmType.NORMAL 0 0 1.0\n",
      "45.0 PkmType.NORMAL PkmType.NORMAL 30.0 PkmType.NORMAL 0 0 1.0\n",
      "45.0 PkmType.NORMAL PkmType.NORMAL 30.0 PkmType.NORMAL 0 0 1.0\n",
      "45.0 PkmType.NORMAL PkmType.NORMAL 30.0 PkmType.NORMAL 0 0 1.0\n",
      "2 Move 3 0 Damage 45.0 Poke Pkm(Type=NORMAL, HP=240, Moves={PkmMove(Power=30, Acc=1.0, PP=10, Type=NORMAL), PkmMove(Power=30, Acc=1.0, PP=10, Type=NORMAL), PkmMove(Power=30, Acc=1.0, PP=10, Type=NORMAL), PkmMove(Power=30, Acc=1.0, PP=10, Type=NORMAL), })\n",
      "Pokemon 2 Pkm(Type=NORMAL, HP=240, Moves={PkmMove(Power=30, Acc=1.0, PP=10, Type=NORMAL), PkmMove(Power=30, Acc=1.0, PP=10, Type=NORMAL), PkmMove(Power=30, Acc=1.0, PP=10, Type=NORMAL), PkmMove(Power=30, Acc=1.0, PP=10, Type=NORMAL), }) Move 0 Damage 45.0\n",
      "0\n",
      "45.0 PkmType.NORMAL PkmType.NORMAL 30.0 PkmType.NORMAL 0 0 1.0\n",
      "45.0 PkmType.NORMAL PkmType.NORMAL 30.0 PkmType.NORMAL 0 0 1.0\n",
      "45.0 PkmType.NORMAL PkmType.NORMAL 30.0 PkmType.NORMAL 0 0 1.0\n",
      "45.0 PkmType.NORMAL PkmType.NORMAL 30.0 PkmType.NORMAL 0 0 1.0\n",
      "0 Move 3 0 Damage 45.0 Poke Pkm(Type=NORMAL, HP=240, Moves={PkmMove(Power=30, Acc=1.0, PP=10, Type=NORMAL), PkmMove(Power=30, Acc=1.0, PP=10, Type=NORMAL), PkmMove(Power=30, Acc=1.0, PP=10, Type=NORMAL), PkmMove(Power=30, Acc=1.0, PP=10, Type=NORMAL), })\n",
      "Pokemon 0 Pkm(Type=NORMAL, HP=240, Moves={PkmMove(Power=30, Acc=1.0, PP=10, Type=NORMAL), PkmMove(Power=30, Acc=1.0, PP=10, Type=NORMAL), PkmMove(Power=30, Acc=1.0, PP=10, Type=NORMAL), PkmMove(Power=30, Acc=1.0, PP=10, Type=NORMAL), }) Move 0 Damage 45.0\n",
      "45.0 PkmType.NORMAL PkmType.NORMAL 30.0 PkmType.NORMAL 0 0 1.0\n",
      "45.0 PkmType.NORMAL PkmType.NORMAL 30.0 PkmType.NORMAL 0 0 1.0\n",
      "45.0 PkmType.NORMAL PkmType.NORMAL 30.0 PkmType.NORMAL 0 0 1.0\n",
      "45.0 PkmType.NORMAL PkmType.NORMAL 30.0 PkmType.NORMAL 0 0 1.0\n",
      "1 Move 3 0 Damage 45.0 Poke Pkm(Type=NORMAL, HP=240, Moves={PkmMove(Power=30, Acc=1.0, PP=10, Type=NORMAL), PkmMove(Power=30, Acc=1.0, PP=10, Type=NORMAL), PkmMove(Power=30, Acc=1.0, PP=10, Type=NORMAL), PkmMove(Power=30, Acc=1.0, PP=10, Type=NORMAL), })\n",
      "Pokemon 1 Pkm(Type=NORMAL, HP=240, Moves={PkmMove(Power=30, Acc=1.0, PP=10, Type=NORMAL), PkmMove(Power=30, Acc=1.0, PP=10, Type=NORMAL), PkmMove(Power=30, Acc=1.0, PP=10, Type=NORMAL), PkmMove(Power=30, Acc=1.0, PP=10, Type=NORMAL), }) Move 0 Damage 45.0\n",
      "45.0 PkmType.NORMAL PkmType.NORMAL 30.0 PkmType.NORMAL 0 0 1.0\n",
      "45.0 PkmType.NORMAL PkmType.NORMAL 30.0 PkmType.NORMAL 0 0 1.0\n",
      "45.0 PkmType.NORMAL PkmType.NORMAL 30.0 PkmType.NORMAL 0 0 1.0\n",
      "45.0 PkmType.NORMAL PkmType.NORMAL 30.0 PkmType.NORMAL 0 0 1.0\n",
      "2 Move 3 0 Damage 45.0 Poke Pkm(Type=NORMAL, HP=240, Moves={PkmMove(Power=30, Acc=1.0, PP=10, Type=NORMAL), PkmMove(Power=30, Acc=1.0, PP=10, Type=NORMAL), PkmMove(Power=30, Acc=1.0, PP=10, Type=NORMAL), PkmMove(Power=30, Acc=1.0, PP=10, Type=NORMAL), })\n",
      "Pokemon 2 Pkm(Type=NORMAL, HP=240, Moves={PkmMove(Power=30, Acc=1.0, PP=10, Type=NORMAL), PkmMove(Power=30, Acc=1.0, PP=10, Type=NORMAL), PkmMove(Power=30, Acc=1.0, PP=10, Type=NORMAL), PkmMove(Power=30, Acc=1.0, PP=10, Type=NORMAL), }) Move 0 Damage 45.0\n",
      "0\n",
      "45.0 PkmType.NORMAL PkmType.NORMAL 30.0 PkmType.NORMAL 0 0 1.0\n",
      "45.0 PkmType.NORMAL PkmType.NORMAL 30.0 PkmType.NORMAL 0 0 1.0\n",
      "45.0 PkmType.NORMAL PkmType.NORMAL 30.0 PkmType.NORMAL 0 0 1.0\n",
      "45.0 PkmType.NORMAL PkmType.NORMAL 30.0 PkmType.NORMAL 0 0 1.0\n",
      "0 Move 3 0 Damage 45.0 Poke Pkm(Type=NORMAL, HP=240, Moves={PkmMove(Power=30, Acc=1.0, PP=10, Type=NORMAL), PkmMove(Power=30, Acc=1.0, PP=10, Type=NORMAL), PkmMove(Power=30, Acc=1.0, PP=10, Type=NORMAL), PkmMove(Power=30, Acc=1.0, PP=10, Type=NORMAL), })\n",
      "Pokemon 0 Pkm(Type=NORMAL, HP=240, Moves={PkmMove(Power=30, Acc=1.0, PP=10, Type=NORMAL), PkmMove(Power=30, Acc=1.0, PP=10, Type=NORMAL), PkmMove(Power=30, Acc=1.0, PP=10, Type=NORMAL), PkmMove(Power=30, Acc=1.0, PP=10, Type=NORMAL), }) Move 0 Damage 45.0\n",
      "45.0 PkmType.NORMAL PkmType.NORMAL 30.0 PkmType.NORMAL 0 0 1.0\n",
      "45.0 PkmType.NORMAL PkmType.NORMAL 30.0 PkmType.NORMAL 0 0 1.0\n",
      "45.0 PkmType.NORMAL PkmType.NORMAL 30.0 PkmType.NORMAL 0 0 1.0\n",
      "45.0 PkmType.NORMAL PkmType.NORMAL 30.0 PkmType.NORMAL 0 0 1.0\n",
      "1 Move 3 0 Damage 45.0 Poke Pkm(Type=NORMAL, HP=240, Moves={PkmMove(Power=30, Acc=1.0, PP=10, Type=NORMAL), PkmMove(Power=30, Acc=1.0, PP=10, Type=NORMAL), PkmMove(Power=30, Acc=1.0, PP=10, Type=NORMAL), PkmMove(Power=30, Acc=1.0, PP=10, Type=NORMAL), })\n",
      "Pokemon 1 Pkm(Type=NORMAL, HP=240, Moves={PkmMove(Power=30, Acc=1.0, PP=10, Type=NORMAL), PkmMove(Power=30, Acc=1.0, PP=10, Type=NORMAL), PkmMove(Power=30, Acc=1.0, PP=10, Type=NORMAL), PkmMove(Power=30, Acc=1.0, PP=10, Type=NORMAL), }) Move 0 Damage 45.0\n",
      "45.0 PkmType.NORMAL PkmType.NORMAL 30.0 PkmType.NORMAL 0 0 1.0\n",
      "45.0 PkmType.NORMAL PkmType.NORMAL 30.0 PkmType.NORMAL 0 0 1.0\n",
      "45.0 PkmType.NORMAL PkmType.NORMAL 30.0 PkmType.NORMAL 0 0 1.0\n",
      "45.0 PkmType.NORMAL PkmType.NORMAL 30.0 PkmType.NORMAL 0 0 1.0\n",
      "2 Move 3 0 Damage 45.0 Poke Pkm(Type=NORMAL, HP=240, Moves={PkmMove(Power=30, Acc=1.0, PP=10, Type=NORMAL), PkmMove(Power=30, Acc=1.0, PP=10, Type=NORMAL), PkmMove(Power=30, Acc=1.0, PP=10, Type=NORMAL), PkmMove(Power=30, Acc=1.0, PP=10, Type=NORMAL), })\n",
      "Pokemon 2 Pkm(Type=NORMAL, HP=240, Moves={PkmMove(Power=30, Acc=1.0, PP=10, Type=NORMAL), PkmMove(Power=30, Acc=1.0, PP=10, Type=NORMAL), PkmMove(Power=30, Acc=1.0, PP=10, Type=NORMAL), PkmMove(Power=30, Acc=1.0, PP=10, Type=NORMAL), }) Move 0 Damage 45.0\n",
      "0\n",
      "45.0 PkmType.NORMAL PkmType.NORMAL 30.0 PkmType.NORMAL 0 0 1.0\n",
      "45.0 PkmType.NORMAL PkmType.NORMAL 30.0 PkmType.NORMAL 0 0 1.0\n",
      "45.0 PkmType.NORMAL PkmType.NORMAL 30.0 PkmType.NORMAL 0 0 1.0\n",
      "45.0 PkmType.NORMAL PkmType.NORMAL 30.0 PkmType.NORMAL 0 0 1.0\n",
      "0 Move 3 0 Damage 45.0 Poke Pkm(Type=NORMAL, HP=240, Moves={PkmMove(Power=30, Acc=1.0, PP=10, Type=NORMAL), PkmMove(Power=30, Acc=1.0, PP=10, Type=NORMAL), PkmMove(Power=30, Acc=1.0, PP=10, Type=NORMAL), PkmMove(Power=30, Acc=1.0, PP=10, Type=NORMAL), })\n",
      "Pokemon 0 Pkm(Type=NORMAL, HP=240, Moves={PkmMove(Power=30, Acc=1.0, PP=10, Type=NORMAL), PkmMove(Power=30, Acc=1.0, PP=10, Type=NORMAL), PkmMove(Power=30, Acc=1.0, PP=10, Type=NORMAL), PkmMove(Power=30, Acc=1.0, PP=10, Type=NORMAL), }) Move 0 Damage 45.0\n",
      "45.0 PkmType.NORMAL PkmType.NORMAL 30.0 PkmType.NORMAL 0 0 1.0\n",
      "45.0 PkmType.NORMAL PkmType.NORMAL 30.0 PkmType.NORMAL 0 0 1.0\n",
      "45.0 PkmType.NORMAL PkmType.NORMAL 30.0 PkmType.NORMAL 0 0 1.0\n",
      "45.0 PkmType.NORMAL PkmType.NORMAL 30.0 PkmType.NORMAL 0 0 1.0\n",
      "1 Move 3 0 Damage 45.0 Poke Pkm(Type=NORMAL, HP=240, Moves={PkmMove(Power=30, Acc=1.0, PP=10, Type=NORMAL), PkmMove(Power=30, Acc=1.0, PP=10, Type=NORMAL), PkmMove(Power=30, Acc=1.0, PP=10, Type=NORMAL), PkmMove(Power=30, Acc=1.0, PP=10, Type=NORMAL), })\n",
      "Pokemon 1 Pkm(Type=NORMAL, HP=240, Moves={PkmMove(Power=30, Acc=1.0, PP=10, Type=NORMAL), PkmMove(Power=30, Acc=1.0, PP=10, Type=NORMAL), PkmMove(Power=30, Acc=1.0, PP=10, Type=NORMAL), PkmMove(Power=30, Acc=1.0, PP=10, Type=NORMAL), }) Move 0 Damage 45.0\n",
      "45.0 PkmType.NORMAL PkmType.NORMAL 30.0 PkmType.NORMAL 0 0 1.0\n",
      "45.0 PkmType.NORMAL PkmType.NORMAL 30.0 PkmType.NORMAL 0 0 1.0\n",
      "45.0 PkmType.NORMAL PkmType.NORMAL 30.0 PkmType.NORMAL 0 0 1.0\n",
      "45.0 PkmType.NORMAL PkmType.NORMAL 30.0 PkmType.NORMAL 0 0 1.0\n",
      "2 Move 3 0 Damage 45.0 Poke Pkm(Type=NORMAL, HP=240, Moves={PkmMove(Power=30, Acc=1.0, PP=10, Type=NORMAL), PkmMove(Power=30, Acc=1.0, PP=10, Type=NORMAL), PkmMove(Power=30, Acc=1.0, PP=10, Type=NORMAL), PkmMove(Power=30, Acc=1.0, PP=10, Type=NORMAL), })\n",
      "Pokemon 2 Pkm(Type=NORMAL, HP=240, Moves={PkmMove(Power=30, Acc=1.0, PP=10, Type=NORMAL), PkmMove(Power=30, Acc=1.0, PP=10, Type=NORMAL), PkmMove(Power=30, Acc=1.0, PP=10, Type=NORMAL), PkmMove(Power=30, Acc=1.0, PP=10, Type=NORMAL), }) Move 0 Damage 45.0\n",
      "0\n",
      "45.0 PkmType.NORMAL PkmType.NORMAL 30.0 PkmType.NORMAL 0 0 1.0\n",
      "45.0 PkmType.NORMAL PkmType.NORMAL 30.0 PkmType.NORMAL 0 0 1.0\n",
      "45.0 PkmType.NORMAL PkmType.NORMAL 30.0 PkmType.NORMAL 0 0 1.0\n",
      "45.0 PkmType.NORMAL PkmType.NORMAL 30.0 PkmType.NORMAL 0 0 1.0\n",
      "0 Move 3 0 Damage 45.0 Poke Pkm(Type=NORMAL, HP=240, Moves={PkmMove(Power=30, Acc=1.0, PP=10, Type=NORMAL), PkmMove(Power=30, Acc=1.0, PP=10, Type=NORMAL), PkmMove(Power=30, Acc=1.0, PP=10, Type=NORMAL), PkmMove(Power=30, Acc=1.0, PP=10, Type=NORMAL), })\n",
      "Pokemon 0 Pkm(Type=NORMAL, HP=240, Moves={PkmMove(Power=30, Acc=1.0, PP=10, Type=NORMAL), PkmMove(Power=30, Acc=1.0, PP=10, Type=NORMAL), PkmMove(Power=30, Acc=1.0, PP=10, Type=NORMAL), PkmMove(Power=30, Acc=1.0, PP=10, Type=NORMAL), }) Move 0 Damage 45.0\n",
      "45.0 PkmType.NORMAL PkmType.NORMAL 30.0 PkmType.NORMAL 0 0 1.0\n",
      "45.0 PkmType.NORMAL PkmType.NORMAL 30.0 PkmType.NORMAL 0 0 1.0\n",
      "45.0 PkmType.NORMAL PkmType.NORMAL 30.0 PkmType.NORMAL 0 0 1.0\n",
      "45.0 PkmType.NORMAL PkmType.NORMAL 30.0 PkmType.NORMAL 0 0 1.0\n",
      "1 Move 3 0 Damage 45.0 Poke Pkm(Type=NORMAL, HP=240, Moves={PkmMove(Power=30, Acc=1.0, PP=10, Type=NORMAL), PkmMove(Power=30, Acc=1.0, PP=10, Type=NORMAL), PkmMove(Power=30, Acc=1.0, PP=10, Type=NORMAL), PkmMove(Power=30, Acc=1.0, PP=10, Type=NORMAL), })\n",
      "Pokemon 1 Pkm(Type=NORMAL, HP=240, Moves={PkmMove(Power=30, Acc=1.0, PP=10, Type=NORMAL), PkmMove(Power=30, Acc=1.0, PP=10, Type=NORMAL), PkmMove(Power=30, Acc=1.0, PP=10, Type=NORMAL), PkmMove(Power=30, Acc=1.0, PP=10, Type=NORMAL), }) Move 0 Damage 45.0\n",
      "45.0 PkmType.NORMAL PkmType.NORMAL 30.0 PkmType.NORMAL 0 0 1.0\n",
      "45.0 PkmType.NORMAL PkmType.NORMAL 30.0 PkmType.NORMAL 0 0 1.0\n",
      "45.0 PkmType.NORMAL PkmType.NORMAL 30.0 PkmType.NORMAL 0 0 1.0\n",
      "45.0 PkmType.NORMAL PkmType.NORMAL 30.0 PkmType.NORMAL 0 0 1.0\n",
      "2 Move 3 0 Damage 45.0 Poke Pkm(Type=NORMAL, HP=240, Moves={PkmMove(Power=30, Acc=1.0, PP=10, Type=NORMAL), PkmMove(Power=30, Acc=1.0, PP=10, Type=NORMAL), PkmMove(Power=30, Acc=1.0, PP=10, Type=NORMAL), PkmMove(Power=30, Acc=1.0, PP=10, Type=NORMAL), })\n",
      "Pokemon 2 Pkm(Type=NORMAL, HP=240, Moves={PkmMove(Power=30, Acc=1.0, PP=10, Type=NORMAL), PkmMove(Power=30, Acc=1.0, PP=10, Type=NORMAL), PkmMove(Power=30, Acc=1.0, PP=10, Type=NORMAL), PkmMove(Power=30, Acc=1.0, PP=10, Type=NORMAL), }) Move 0 Damage 45.0\n",
      "0\n",
      "45.0 PkmType.NORMAL PkmType.NORMAL 30.0 PkmType.NORMAL 0 0 1.0\n",
      "45.0 PkmType.NORMAL PkmType.NORMAL 30.0 PkmType.NORMAL 0 0 1.0\n",
      "45.0 PkmType.NORMAL PkmType.NORMAL 30.0 PkmType.NORMAL 0 0 1.0\n",
      "45.0 PkmType.NORMAL PkmType.NORMAL 30.0 PkmType.NORMAL 0 0 1.0\n",
      "0 Move 3 0 Damage 45.0 Poke Pkm(Type=NORMAL, HP=240, Moves={PkmMove(Power=30, Acc=1.0, PP=10, Type=NORMAL), PkmMove(Power=30, Acc=1.0, PP=10, Type=NORMAL), PkmMove(Power=30, Acc=1.0, PP=10, Type=NORMAL), PkmMove(Power=30, Acc=1.0, PP=10, Type=NORMAL), })\n",
      "Pokemon 0 Pkm(Type=NORMAL, HP=240, Moves={PkmMove(Power=30, Acc=1.0, PP=10, Type=NORMAL), PkmMove(Power=30, Acc=1.0, PP=10, Type=NORMAL), PkmMove(Power=30, Acc=1.0, PP=10, Type=NORMAL), PkmMove(Power=30, Acc=1.0, PP=10, Type=NORMAL), }) Move 0 Damage 45.0\n",
      "45.0 PkmType.NORMAL PkmType.NORMAL 30.0 PkmType.NORMAL 0 0 1.0\n",
      "45.0 PkmType.NORMAL PkmType.NORMAL 30.0 PkmType.NORMAL 0 0 1.0\n",
      "45.0 PkmType.NORMAL PkmType.NORMAL 30.0 PkmType.NORMAL 0 0 1.0\n",
      "45.0 PkmType.NORMAL PkmType.NORMAL 30.0 PkmType.NORMAL 0 0 1.0\n",
      "1 Move 3 0 Damage 45.0 Poke Pkm(Type=NORMAL, HP=240, Moves={PkmMove(Power=30, Acc=1.0, PP=10, Type=NORMAL), PkmMove(Power=30, Acc=1.0, PP=10, Type=NORMAL), PkmMove(Power=30, Acc=1.0, PP=10, Type=NORMAL), PkmMove(Power=30, Acc=1.0, PP=10, Type=NORMAL), })\n",
      "Pokemon 1 Pkm(Type=NORMAL, HP=240, Moves={PkmMove(Power=30, Acc=1.0, PP=10, Type=NORMAL), PkmMove(Power=30, Acc=1.0, PP=10, Type=NORMAL), PkmMove(Power=30, Acc=1.0, PP=10, Type=NORMAL), PkmMove(Power=30, Acc=1.0, PP=10, Type=NORMAL), }) Move 0 Damage 45.0\n",
      "45.0 PkmType.NORMAL PkmType.NORMAL 30.0 PkmType.NORMAL 0 0 1.0\n",
      "45.0 PkmType.NORMAL PkmType.NORMAL 30.0 PkmType.NORMAL 0 0 1.0\n",
      "45.0 PkmType.NORMAL PkmType.NORMAL 30.0 PkmType.NORMAL 0 0 1.0\n",
      "45.0 PkmType.NORMAL PkmType.NORMAL 30.0 PkmType.NORMAL 0 0 1.0\n",
      "2 Move 3 0 Damage 45.0 Poke Pkm(Type=NORMAL, HP=240, Moves={PkmMove(Power=30, Acc=1.0, PP=10, Type=NORMAL), PkmMove(Power=30, Acc=1.0, PP=10, Type=NORMAL), PkmMove(Power=30, Acc=1.0, PP=10, Type=NORMAL), PkmMove(Power=30, Acc=1.0, PP=10, Type=NORMAL), })\n",
      "Pokemon 2 Pkm(Type=NORMAL, HP=240, Moves={PkmMove(Power=30, Acc=1.0, PP=10, Type=NORMAL), PkmMove(Power=30, Acc=1.0, PP=10, Type=NORMAL), PkmMove(Power=30, Acc=1.0, PP=10, Type=NORMAL), PkmMove(Power=30, Acc=1.0, PP=10, Type=NORMAL), }) Move 0 Damage 45.0\n",
      "0\n",
      "45.0 PkmType.NORMAL PkmType.NORMAL 30.0 PkmType.NORMAL 0 0 1.0\n",
      "45.0 PkmType.NORMAL PkmType.NORMAL 30.0 PkmType.NORMAL 0 0 1.0\n",
      "45.0 PkmType.NORMAL PkmType.NORMAL 30.0 PkmType.NORMAL 0 0 1.0\n",
      "45.0 PkmType.NORMAL PkmType.NORMAL 30.0 PkmType.NORMAL 0 0 1.0\n",
      "0 Move 3 0 Damage 45.0 Poke Pkm(Type=NORMAL, HP=240, Moves={PkmMove(Power=30, Acc=1.0, PP=10, Type=NORMAL), PkmMove(Power=30, Acc=1.0, PP=10, Type=NORMAL), PkmMove(Power=30, Acc=1.0, PP=10, Type=NORMAL), PkmMove(Power=30, Acc=1.0, PP=10, Type=NORMAL), })\n",
      "Pokemon 0 Pkm(Type=NORMAL, HP=240, Moves={PkmMove(Power=30, Acc=1.0, PP=10, Type=NORMAL), PkmMove(Power=30, Acc=1.0, PP=10, Type=NORMAL), PkmMove(Power=30, Acc=1.0, PP=10, Type=NORMAL), PkmMove(Power=30, Acc=1.0, PP=10, Type=NORMAL), }) Move 0 Damage 45.0\n",
      "45.0 PkmType.NORMAL PkmType.NORMAL 30.0 PkmType.NORMAL 0 0 1.0\n",
      "45.0 PkmType.NORMAL PkmType.NORMAL 30.0 PkmType.NORMAL 0 0 1.0\n",
      "45.0 PkmType.NORMAL PkmType.NORMAL 30.0 PkmType.NORMAL 0 0 1.0\n",
      "45.0 PkmType.NORMAL PkmType.NORMAL 30.0 PkmType.NORMAL 0 0 1.0\n",
      "1 Move 3 0 Damage 45.0 Poke Pkm(Type=NORMAL, HP=240, Moves={PkmMove(Power=30, Acc=1.0, PP=10, Type=NORMAL), PkmMove(Power=30, Acc=1.0, PP=10, Type=NORMAL), PkmMove(Power=30, Acc=1.0, PP=10, Type=NORMAL), PkmMove(Power=30, Acc=1.0, PP=10, Type=NORMAL), })\n",
      "Pokemon 1 Pkm(Type=NORMAL, HP=240, Moves={PkmMove(Power=30, Acc=1.0, PP=10, Type=NORMAL), PkmMove(Power=30, Acc=1.0, PP=10, Type=NORMAL), PkmMove(Power=30, Acc=1.0, PP=10, Type=NORMAL), PkmMove(Power=30, Acc=1.0, PP=10, Type=NORMAL), }) Move 0 Damage 45.0\n",
      "45.0 PkmType.NORMAL PkmType.NORMAL 30.0 PkmType.NORMAL 0 0 1.0\n",
      "45.0 PkmType.NORMAL PkmType.NORMAL 30.0 PkmType.NORMAL 0 0 1.0\n",
      "45.0 PkmType.NORMAL PkmType.NORMAL 30.0 PkmType.NORMAL 0 0 1.0\n",
      "45.0 PkmType.NORMAL PkmType.NORMAL 30.0 PkmType.NORMAL 0 0 1.0\n",
      "2 Move 3 0 Damage 45.0 Poke Pkm(Type=NORMAL, HP=240, Moves={PkmMove(Power=30, Acc=1.0, PP=10, Type=NORMAL), PkmMove(Power=30, Acc=1.0, PP=10, Type=NORMAL), PkmMove(Power=30, Acc=1.0, PP=10, Type=NORMAL), PkmMove(Power=30, Acc=1.0, PP=10, Type=NORMAL), })\n",
      "Pokemon 2 Pkm(Type=NORMAL, HP=240, Moves={PkmMove(Power=30, Acc=1.0, PP=10, Type=NORMAL), PkmMove(Power=30, Acc=1.0, PP=10, Type=NORMAL), PkmMove(Power=30, Acc=1.0, PP=10, Type=NORMAL), PkmMove(Power=30, Acc=1.0, PP=10, Type=NORMAL), }) Move 0 Damage 45.0\n",
      "0\n",
      "45.0 PkmType.NORMAL PkmType.NORMAL 30.0 PkmType.NORMAL 0 0 1.0\n",
      "45.0 PkmType.NORMAL PkmType.NORMAL 30.0 PkmType.NORMAL 0 0 1.0\n",
      "45.0 PkmType.NORMAL PkmType.NORMAL 30.0 PkmType.NORMAL 0 0 1.0\n",
      "45.0 PkmType.NORMAL PkmType.NORMAL 30.0 PkmType.NORMAL 0 0 1.0\n",
      "0 Move 3 0 Damage 45.0 Poke Pkm(Type=NORMAL, HP=240, Moves={PkmMove(Power=30, Acc=1.0, PP=10, Type=NORMAL), PkmMove(Power=30, Acc=1.0, PP=10, Type=NORMAL), PkmMove(Power=30, Acc=1.0, PP=10, Type=NORMAL), PkmMove(Power=30, Acc=1.0, PP=10, Type=NORMAL), })\n",
      "Pokemon 0 Pkm(Type=NORMAL, HP=240, Moves={PkmMove(Power=30, Acc=1.0, PP=10, Type=NORMAL), PkmMove(Power=30, Acc=1.0, PP=10, Type=NORMAL), PkmMove(Power=30, Acc=1.0, PP=10, Type=NORMAL), PkmMove(Power=30, Acc=1.0, PP=10, Type=NORMAL), }) Move 0 Damage 45.0\n",
      "45.0 PkmType.NORMAL PkmType.NORMAL 30.0 PkmType.NORMAL 0 0 1.0\n",
      "45.0 PkmType.NORMAL PkmType.NORMAL 30.0 PkmType.NORMAL 0 0 1.0\n",
      "45.0 PkmType.NORMAL PkmType.NORMAL 30.0 PkmType.NORMAL 0 0 1.0\n",
      "45.0 PkmType.NORMAL PkmType.NORMAL 30.0 PkmType.NORMAL 0 0 1.0\n",
      "1 Move 3 0 Damage 45.0 Poke Pkm(Type=NORMAL, HP=240, Moves={PkmMove(Power=30, Acc=1.0, PP=10, Type=NORMAL), PkmMove(Power=30, Acc=1.0, PP=10, Type=NORMAL), PkmMove(Power=30, Acc=1.0, PP=10, Type=NORMAL), PkmMove(Power=30, Acc=1.0, PP=10, Type=NORMAL), })\n",
      "Pokemon 1 Pkm(Type=NORMAL, HP=240, Moves={PkmMove(Power=30, Acc=1.0, PP=10, Type=NORMAL), PkmMove(Power=30, Acc=1.0, PP=10, Type=NORMAL), PkmMove(Power=30, Acc=1.0, PP=10, Type=NORMAL), PkmMove(Power=30, Acc=1.0, PP=10, Type=NORMAL), }) Move 0 Damage 45.0\n",
      "45.0 PkmType.NORMAL PkmType.NORMAL 30.0 PkmType.NORMAL 0 0 1.0\n",
      "45.0 PkmType.NORMAL PkmType.NORMAL 30.0 PkmType.NORMAL 0 0 1.0\n",
      "45.0 PkmType.NORMAL PkmType.NORMAL 30.0 PkmType.NORMAL 0 0 1.0\n",
      "45.0 PkmType.NORMAL PkmType.NORMAL 30.0 PkmType.NORMAL 0 0 1.0\n",
      "2 Move 3 0 Damage 45.0 Poke Pkm(Type=NORMAL, HP=240, Moves={PkmMove(Power=30, Acc=1.0, PP=10, Type=NORMAL), PkmMove(Power=30, Acc=1.0, PP=10, Type=NORMAL), PkmMove(Power=30, Acc=1.0, PP=10, Type=NORMAL), PkmMove(Power=30, Acc=1.0, PP=10, Type=NORMAL), })\n",
      "Pokemon 2 Pkm(Type=NORMAL, HP=240, Moves={PkmMove(Power=30, Acc=1.0, PP=10, Type=NORMAL), PkmMove(Power=30, Acc=1.0, PP=10, Type=NORMAL), PkmMove(Power=30, Acc=1.0, PP=10, Type=NORMAL), PkmMove(Power=30, Acc=1.0, PP=10, Type=NORMAL), }) Move 0 Damage 45.0\n",
      "0\n",
      "45.0 PkmType.NORMAL PkmType.NORMAL 30.0 PkmType.NORMAL 0 0 1.0\n",
      "45.0 PkmType.NORMAL PkmType.NORMAL 30.0 PkmType.NORMAL 0 0 1.0\n",
      "45.0 PkmType.NORMAL PkmType.NORMAL 30.0 PkmType.NORMAL 0 0 1.0\n",
      "45.0 PkmType.NORMAL PkmType.NORMAL 30.0 PkmType.NORMAL 0 0 1.0\n",
      "0 Move 3 0 Damage 45.0 Poke Pkm(Type=NORMAL, HP=240, Moves={PkmMove(Power=30, Acc=1.0, PP=10, Type=NORMAL), PkmMove(Power=30, Acc=1.0, PP=10, Type=NORMAL), PkmMove(Power=30, Acc=1.0, PP=10, Type=NORMAL), PkmMove(Power=30, Acc=1.0, PP=10, Type=NORMAL), })\n",
      "Pokemon 0 Pkm(Type=NORMAL, HP=240, Moves={PkmMove(Power=30, Acc=1.0, PP=10, Type=NORMAL), PkmMove(Power=30, Acc=1.0, PP=10, Type=NORMAL), PkmMove(Power=30, Acc=1.0, PP=10, Type=NORMAL), PkmMove(Power=30, Acc=1.0, PP=10, Type=NORMAL), }) Move 0 Damage 45.0\n",
      "45.0 PkmType.NORMAL PkmType.NORMAL 30.0 PkmType.NORMAL 0 0 1.0\n",
      "45.0 PkmType.NORMAL PkmType.NORMAL 30.0 PkmType.NORMAL 0 0 1.0\n",
      "45.0 PkmType.NORMAL PkmType.NORMAL 30.0 PkmType.NORMAL 0 0 1.0\n",
      "45.0 PkmType.NORMAL PkmType.NORMAL 30.0 PkmType.NORMAL 0 0 1.0\n",
      "1 Move 3 0 Damage 45.0 Poke Pkm(Type=NORMAL, HP=240, Moves={PkmMove(Power=30, Acc=1.0, PP=10, Type=NORMAL), PkmMove(Power=30, Acc=1.0, PP=10, Type=NORMAL), PkmMove(Power=30, Acc=1.0, PP=10, Type=NORMAL), PkmMove(Power=30, Acc=1.0, PP=10, Type=NORMAL), })\n",
      "Pokemon 1 Pkm(Type=NORMAL, HP=240, Moves={PkmMove(Power=30, Acc=1.0, PP=10, Type=NORMAL), PkmMove(Power=30, Acc=1.0, PP=10, Type=NORMAL), PkmMove(Power=30, Acc=1.0, PP=10, Type=NORMAL), PkmMove(Power=30, Acc=1.0, PP=10, Type=NORMAL), }) Move 0 Damage 45.0\n",
      "45.0 PkmType.NORMAL PkmType.NORMAL 30.0 PkmType.NORMAL 0 0 1.0\n",
      "45.0 PkmType.NORMAL PkmType.NORMAL 30.0 PkmType.NORMAL 0 0 1.0\n",
      "45.0 PkmType.NORMAL PkmType.NORMAL 30.0 PkmType.NORMAL 0 0 1.0\n",
      "45.0 PkmType.NORMAL PkmType.NORMAL 30.0 PkmType.NORMAL 0 0 1.0\n",
      "2 Move 3 0 Damage 45.0 Poke Pkm(Type=NORMAL, HP=240, Moves={PkmMove(Power=30, Acc=1.0, PP=10, Type=NORMAL), PkmMove(Power=30, Acc=1.0, PP=10, Type=NORMAL), PkmMove(Power=30, Acc=1.0, PP=10, Type=NORMAL), PkmMove(Power=30, Acc=1.0, PP=10, Type=NORMAL), })\n",
      "Pokemon 2 Pkm(Type=NORMAL, HP=240, Moves={PkmMove(Power=30, Acc=1.0, PP=10, Type=NORMAL), PkmMove(Power=30, Acc=1.0, PP=10, Type=NORMAL), PkmMove(Power=30, Acc=1.0, PP=10, Type=NORMAL), PkmMove(Power=30, Acc=1.0, PP=10, Type=NORMAL), }) Move 0 Damage 45.0\n",
      "0\n"
     ]
    }
   ],
   "source": [
    "test_nibot = NiBot()\n",
    "for i in range(10):\n",
    "    #test_nibot.get_action(obs[1])\n",
    "    print(test_nibot.get_action(obs[1]))"
   ]
  },
  {
   "cell_type": "markdown",
   "metadata": {},
   "source": [
    "#### Testing nibot"
   ]
  },
  {
   "cell_type": "code",
   "execution_count": 26,
   "metadata": {},
   "outputs": [
    {
     "name": "stdout",
     "output_type": "stream",
     "text": [
      "pkm moves is  [<vgc.datatypes.Objects.PkmMove object at 0x00000192B7363B80>, <vgc.datatypes.Objects.PkmMove object at 0x00000192B74D97C0>, <vgc.datatypes.Objects.PkmMove object at 0x00000192B74D9160>, <vgc.datatypes.Objects.PkmMove object at 0x00000192B74D9730>]\n",
      "0 Move 0 0 Damage 45.0 Poke Pkm(Type=FAIRY, HP=228, Moves={PkmMove(Power=30, Acc=1.0, PP=10, Type=FAIRY), PkmMove(Power=30, Acc=1.0, PP=10, Type=ELECTRIC), PkmMove(Power=174, Acc=1.0, PP=10, Type=GROUND), PkmMove(Power=138, Acc=1.0, PP=10, Type=WATER), })\n",
      "0 Move 1 0 Damage 45.0 Poke Pkm(Type=FAIRY, HP=228, Moves={PkmMove(Power=30, Acc=1.0, PP=10, Type=FAIRY), PkmMove(Power=30, Acc=1.0, PP=10, Type=ELECTRIC), PkmMove(Power=174, Acc=1.0, PP=10, Type=GROUND), PkmMove(Power=138, Acc=1.0, PP=10, Type=WATER), })\n",
      "0 Move 2 2 Damage 87.0 Poke Pkm(Type=FAIRY, HP=228, Moves={PkmMove(Power=30, Acc=1.0, PP=10, Type=FAIRY), PkmMove(Power=30, Acc=1.0, PP=10, Type=ELECTRIC), PkmMove(Power=174, Acc=1.0, PP=10, Type=GROUND), PkmMove(Power=138, Acc=1.0, PP=10, Type=WATER), })\n",
      "0 Move 3 2 Damage 87.0 Poke Pkm(Type=FAIRY, HP=228, Moves={PkmMove(Power=30, Acc=1.0, PP=10, Type=FAIRY), PkmMove(Power=30, Acc=1.0, PP=10, Type=ELECTRIC), PkmMove(Power=174, Acc=1.0, PP=10, Type=GROUND), PkmMove(Power=138, Acc=1.0, PP=10, Type=WATER), })\n",
      "pkm moves is  [<vgc.datatypes.Objects.PkmMove object at 0x00000192B7130F40>, <vgc.datatypes.Objects.PkmMove object at 0x00000192B72EF5E0>, <vgc.datatypes.Objects.PkmMove object at 0x00000192B7231F40>, <vgc.datatypes.Objects.PkmMove object at 0x00000192B74D9AC0>]\n",
      "1 Move 0 2 Damage 87.0 Poke Pkm(Type=WATER, HP=192, Moves={PkmMove(Power=102, Acc=1.0, PP=10, Type=WATER), PkmMove(Power=102, Acc=1.0, PP=10, Type=FIGHT), PkmMove(Power=30, Acc=1.0, PP=10, Type=ICE), PkmMove(Power=174, Acc=1.0, PP=10, Type=WATER), })\n",
      "1 Move 1 5 Damage 102.0 Poke Pkm(Type=WATER, HP=192, Moves={PkmMove(Power=102, Acc=1.0, PP=10, Type=WATER), PkmMove(Power=102, Acc=1.0, PP=10, Type=FIGHT), PkmMove(Power=30, Acc=1.0, PP=10, Type=ICE), PkmMove(Power=174, Acc=1.0, PP=10, Type=WATER), })\n",
      "1 Move 2 5 Damage 102.0 Poke Pkm(Type=WATER, HP=192, Moves={PkmMove(Power=102, Acc=1.0, PP=10, Type=WATER), PkmMove(Power=102, Acc=1.0, PP=10, Type=FIGHT), PkmMove(Power=30, Acc=1.0, PP=10, Type=ICE), PkmMove(Power=174, Acc=1.0, PP=10, Type=WATER), })\n",
      "1 Move 3 7 Damage 130.5 Poke Pkm(Type=WATER, HP=192, Moves={PkmMove(Power=102, Acc=1.0, PP=10, Type=WATER), PkmMove(Power=102, Acc=1.0, PP=10, Type=FIGHT), PkmMove(Power=30, Acc=1.0, PP=10, Type=ICE), PkmMove(Power=174, Acc=1.0, PP=10, Type=WATER), })\n",
      "pkm moves is  [<vgc.datatypes.Objects.PkmMove object at 0x00000192B756C790>, <vgc.datatypes.Objects.PkmMove object at 0x00000192B756CD90>, <vgc.datatypes.Objects.PkmMove object at 0x00000192B756C850>, <vgc.datatypes.Objects.PkmMove object at 0x00000192B72317C0>]\n",
      "2 Move 0 8 Damage 369.0 Poke Pkm(Type=DARK, HP=120, Moves={PkmMove(Power=246, Acc=1.0, PP=10, Type=DARK), PkmMove(Power=66, Acc=1.0, PP=10, Type=FAIRY), PkmMove(Power=102, Acc=1.0, PP=10, Type=POISON), PkmMove(Power=66, Acc=1.0, PP=10, Type=STEEL), })\n",
      "2 Move 1 8 Damage 369.0 Poke Pkm(Type=DARK, HP=120, Moves={PkmMove(Power=246, Acc=1.0, PP=10, Type=DARK), PkmMove(Power=66, Acc=1.0, PP=10, Type=FAIRY), PkmMove(Power=102, Acc=1.0, PP=10, Type=POISON), PkmMove(Power=66, Acc=1.0, PP=10, Type=STEEL), })\n",
      "2 Move 2 8 Damage 369.0 Poke Pkm(Type=DARK, HP=120, Moves={PkmMove(Power=246, Acc=1.0, PP=10, Type=DARK), PkmMove(Power=66, Acc=1.0, PP=10, Type=FAIRY), PkmMove(Power=102, Acc=1.0, PP=10, Type=POISON), PkmMove(Power=66, Acc=1.0, PP=10, Type=STEEL), })\n",
      "2 Move 3 8 Damage 369.0 Poke Pkm(Type=DARK, HP=120, Moves={PkmMove(Power=246, Acc=1.0, PP=10, Type=DARK), PkmMove(Power=66, Acc=1.0, PP=10, Type=FAIRY), PkmMove(Power=102, Acc=1.0, PP=10, Type=POISON), PkmMove(Power=66, Acc=1.0, PP=10, Type=STEEL), })\n",
      "ni action is  5\n",
      "5\n",
      "pkm moves is  [<vgc.datatypes.Objects.PkmMove object at 0x00000192B754E130>, <vgc.datatypes.Objects.PkmMove object at 0x00000192B754E700>, <vgc.datatypes.Objects.PkmMove object at 0x00000192B754E520>, <vgc.datatypes.Objects.PkmMove object at 0x00000192B754EA90>]\n",
      "0 Move 0 0 Damage 369.0 Poke Pkm(Type=DARK, HP=90, Moves={PkmMove(Power=246, Acc=1.0, PP=10, Type=DARK), PkmMove(Power=66, Acc=1.0, PP=10, Type=FAIRY), PkmMove(Power=102, Acc=1.0, PP=10, Type=POISON), PkmMove(Power=66, Acc=1.0, PP=10, Type=STEEL), })\n",
      "0 Move 1 0 Damage 369.0 Poke Pkm(Type=DARK, HP=90, Moves={PkmMove(Power=246, Acc=1.0, PP=10, Type=DARK), PkmMove(Power=66, Acc=1.0, PP=10, Type=FAIRY), PkmMove(Power=102, Acc=1.0, PP=10, Type=POISON), PkmMove(Power=66, Acc=1.0, PP=10, Type=STEEL), })\n",
      "0 Move 2 0 Damage 369.0 Poke Pkm(Type=DARK, HP=90, Moves={PkmMove(Power=246, Acc=1.0, PP=10, Type=DARK), PkmMove(Power=66, Acc=1.0, PP=10, Type=FAIRY), PkmMove(Power=102, Acc=1.0, PP=10, Type=POISON), PkmMove(Power=66, Acc=1.0, PP=10, Type=STEEL), })\n",
      "0 Move 3 0 Damage 369.0 Poke Pkm(Type=DARK, HP=90, Moves={PkmMove(Power=246, Acc=1.0, PP=10, Type=DARK), PkmMove(Power=66, Acc=1.0, PP=10, Type=FAIRY), PkmMove(Power=102, Acc=1.0, PP=10, Type=POISON), PkmMove(Power=66, Acc=1.0, PP=10, Type=STEEL), })\n",
      "pkm moves is  [<vgc.datatypes.Objects.PkmMove object at 0x00000192B706E910>, <vgc.datatypes.Objects.PkmMove object at 0x00000192B706E370>, <vgc.datatypes.Objects.PkmMove object at 0x00000192B706E670>, <vgc.datatypes.Objects.PkmMove object at 0x00000192B706E460>]\n",
      "1 Move 0 0 Damage 369.0 Poke Pkm(Type=WATER, HP=192, Moves={PkmMove(Power=102, Acc=1.0, PP=10, Type=WATER), PkmMove(Power=102, Acc=1.0, PP=10, Type=FIGHT), PkmMove(Power=30, Acc=1.0, PP=10, Type=ICE), PkmMove(Power=174, Acc=1.0, PP=10, Type=WATER), })\n",
      "1 Move 1 0 Damage 369.0 Poke Pkm(Type=WATER, HP=192, Moves={PkmMove(Power=102, Acc=1.0, PP=10, Type=WATER), PkmMove(Power=102, Acc=1.0, PP=10, Type=FIGHT), PkmMove(Power=30, Acc=1.0, PP=10, Type=ICE), PkmMove(Power=174, Acc=1.0, PP=10, Type=WATER), })\n",
      "1 Move 2 0 Damage 369.0 Poke Pkm(Type=WATER, HP=192, Moves={PkmMove(Power=102, Acc=1.0, PP=10, Type=WATER), PkmMove(Power=102, Acc=1.0, PP=10, Type=FIGHT), PkmMove(Power=30, Acc=1.0, PP=10, Type=ICE), PkmMove(Power=174, Acc=1.0, PP=10, Type=WATER), })\n",
      "1 Move 3 0 Damage 369.0 Poke Pkm(Type=WATER, HP=192, Moves={PkmMove(Power=102, Acc=1.0, PP=10, Type=WATER), PkmMove(Power=102, Acc=1.0, PP=10, Type=FIGHT), PkmMove(Power=30, Acc=1.0, PP=10, Type=ICE), PkmMove(Power=174, Acc=1.0, PP=10, Type=WATER), })\n",
      "pkm moves is  [<vgc.datatypes.Objects.PkmMove object at 0x00000192B706E760>, <vgc.datatypes.Objects.PkmMove object at 0x00000192B706E130>, <vgc.datatypes.Objects.PkmMove object at 0x00000192B706E640>, <vgc.datatypes.Objects.PkmMove object at 0x00000192B706E3A0>]\n",
      "2 Move 0 0 Damage 369.0 Poke Pkm(Type=FAIRY, HP=228, Moves={PkmMove(Power=30, Acc=1.0, PP=10, Type=FAIRY), PkmMove(Power=30, Acc=1.0, PP=10, Type=ELECTRIC), PkmMove(Power=174, Acc=1.0, PP=10, Type=GROUND), PkmMove(Power=138, Acc=1.0, PP=10, Type=WATER), })\n",
      "2 Move 1 0 Damage 369.0 Poke Pkm(Type=FAIRY, HP=228, Moves={PkmMove(Power=30, Acc=1.0, PP=10, Type=FAIRY), PkmMove(Power=30, Acc=1.0, PP=10, Type=ELECTRIC), PkmMove(Power=174, Acc=1.0, PP=10, Type=GROUND), PkmMove(Power=138, Acc=1.0, PP=10, Type=WATER), })\n",
      "2 Move 2 0 Damage 369.0 Poke Pkm(Type=FAIRY, HP=228, Moves={PkmMove(Power=30, Acc=1.0, PP=10, Type=FAIRY), PkmMove(Power=30, Acc=1.0, PP=10, Type=ELECTRIC), PkmMove(Power=174, Acc=1.0, PP=10, Type=GROUND), PkmMove(Power=138, Acc=1.0, PP=10, Type=WATER), })\n",
      "2 Move 3 0 Damage 369.0 Poke Pkm(Type=FAIRY, HP=228, Moves={PkmMove(Power=30, Acc=1.0, PP=10, Type=FAIRY), PkmMove(Power=30, Acc=1.0, PP=10, Type=ELECTRIC), PkmMove(Power=174, Acc=1.0, PP=10, Type=GROUND), PkmMove(Power=138, Acc=1.0, PP=10, Type=WATER), })\n",
      "0\n",
      "pkm moves is  [<vgc.datatypes.Objects.PkmMove object at 0x00000192B74A1F10>, <vgc.datatypes.Objects.PkmMove object at 0x00000192B74A1160>, <vgc.datatypes.Objects.PkmMove object at 0x00000192B74A10A0>, <vgc.datatypes.Objects.PkmMove object at 0x00000192B74918B0>]\n",
      "0 Move 0 0 Damage 76.5 Poke Pkm(Type=WATER, HP=192, Moves={PkmMove(Power=102, Acc=1.0, PP=10, Type=WATER), PkmMove(Power=102, Acc=1.0, PP=10, Type=FIGHT), PkmMove(Power=30, Acc=1.0, PP=10, Type=ICE), PkmMove(Power=174, Acc=1.0, PP=10, Type=WATER), })\n",
      "0 Move 1 1 Damage 102.0 Poke Pkm(Type=WATER, HP=192, Moves={PkmMove(Power=102, Acc=1.0, PP=10, Type=WATER), PkmMove(Power=102, Acc=1.0, PP=10, Type=FIGHT), PkmMove(Power=30, Acc=1.0, PP=10, Type=ICE), PkmMove(Power=174, Acc=1.0, PP=10, Type=WATER), })\n",
      "0 Move 2 1 Damage 102.0 Poke Pkm(Type=WATER, HP=192, Moves={PkmMove(Power=102, Acc=1.0, PP=10, Type=WATER), PkmMove(Power=102, Acc=1.0, PP=10, Type=FIGHT), PkmMove(Power=30, Acc=1.0, PP=10, Type=ICE), PkmMove(Power=174, Acc=1.0, PP=10, Type=WATER), })\n",
      "0 Move 3 3 Damage 130.5 Poke Pkm(Type=WATER, HP=192, Moves={PkmMove(Power=102, Acc=1.0, PP=10, Type=WATER), PkmMove(Power=102, Acc=1.0, PP=10, Type=FIGHT), PkmMove(Power=30, Acc=1.0, PP=10, Type=ICE), PkmMove(Power=174, Acc=1.0, PP=10, Type=WATER), })\n",
      "pkm moves is  [<vgc.datatypes.Objects.PkmMove object at 0x00000192B7416E20>, <vgc.datatypes.Objects.PkmMove object at 0x00000192B7416DF0>, <vgc.datatypes.Objects.PkmMove object at 0x00000192B7416E50>, <vgc.datatypes.Objects.PkmMove object at 0x00000192B7416520>]\n",
      "pkm moves is  [<vgc.datatypes.Objects.PkmMove object at 0x00000192B7416580>, <vgc.datatypes.Objects.PkmMove object at 0x00000192B7416760>, <vgc.datatypes.Objects.PkmMove object at 0x00000192B7416430>, <vgc.datatypes.Objects.PkmMove object at 0x00000192B74164F0>]\n",
      "2 Move 0 3 Damage 130.5 Poke Pkm(Type=FAIRY, HP=228, Moves={PkmMove(Power=30, Acc=1.0, PP=10, Type=FAIRY), PkmMove(Power=30, Acc=1.0, PP=10, Type=ELECTRIC), PkmMove(Power=174, Acc=1.0, PP=10, Type=GROUND), PkmMove(Power=138, Acc=1.0, PP=10, Type=WATER), })\n",
      "2 Move 1 3 Damage 130.5 Poke Pkm(Type=FAIRY, HP=228, Moves={PkmMove(Power=30, Acc=1.0, PP=10, Type=FAIRY), PkmMove(Power=30, Acc=1.0, PP=10, Type=ELECTRIC), PkmMove(Power=174, Acc=1.0, PP=10, Type=GROUND), PkmMove(Power=138, Acc=1.0, PP=10, Type=WATER), })\n",
      "2 Move 2 3 Damage 130.5 Poke Pkm(Type=FAIRY, HP=228, Moves={PkmMove(Power=30, Acc=1.0, PP=10, Type=FAIRY), PkmMove(Power=30, Acc=1.0, PP=10, Type=ELECTRIC), PkmMove(Power=174, Acc=1.0, PP=10, Type=GROUND), PkmMove(Power=138, Acc=1.0, PP=10, Type=WATER), })\n",
      "2 Move 3 3 Damage 130.5 Poke Pkm(Type=FAIRY, HP=228, Moves={PkmMove(Power=30, Acc=1.0, PP=10, Type=FAIRY), PkmMove(Power=30, Acc=1.0, PP=10, Type=ELECTRIC), PkmMove(Power=174, Acc=1.0, PP=10, Type=GROUND), PkmMove(Power=138, Acc=1.0, PP=10, Type=WATER), })\n",
      "3\n",
      "pkm moves is  [<vgc.datatypes.Objects.PkmMove object at 0x00000192B74169D0>, <vgc.datatypes.Objects.PkmMove object at 0x00000192B7416490>, <vgc.datatypes.Objects.PkmMove object at 0x00000192B7416B80>, <vgc.datatypes.Objects.PkmMove object at 0x00000192B7416A00>]\n",
      "0 Move 0 0 Damage 45.0 Poke Pkm(Type=FAIRY, HP=228, Moves={PkmMove(Power=30, Acc=1.0, PP=10, Type=FAIRY), PkmMove(Power=30, Acc=1.0, PP=10, Type=ELECTRIC), PkmMove(Power=174, Acc=1.0, PP=10, Type=GROUND), PkmMove(Power=138, Acc=1.0, PP=10, Type=WATER), })\n",
      "0 Move 1 0 Damage 45.0 Poke Pkm(Type=FAIRY, HP=228, Moves={PkmMove(Power=30, Acc=1.0, PP=10, Type=FAIRY), PkmMove(Power=30, Acc=1.0, PP=10, Type=ELECTRIC), PkmMove(Power=174, Acc=1.0, PP=10, Type=GROUND), PkmMove(Power=138, Acc=1.0, PP=10, Type=WATER), })\n",
      "0 Move 2 2 Damage 87.0 Poke Pkm(Type=FAIRY, HP=228, Moves={PkmMove(Power=30, Acc=1.0, PP=10, Type=FAIRY), PkmMove(Power=30, Acc=1.0, PP=10, Type=ELECTRIC), PkmMove(Power=174, Acc=1.0, PP=10, Type=GROUND), PkmMove(Power=138, Acc=1.0, PP=10, Type=WATER), })\n",
      "0 Move 3 2 Damage 87.0 Poke Pkm(Type=FAIRY, HP=228, Moves={PkmMove(Power=30, Acc=1.0, PP=10, Type=FAIRY), PkmMove(Power=30, Acc=1.0, PP=10, Type=ELECTRIC), PkmMove(Power=174, Acc=1.0, PP=10, Type=GROUND), PkmMove(Power=138, Acc=1.0, PP=10, Type=WATER), })\n",
      "pkm moves is  [<vgc.datatypes.Objects.PkmMove object at 0x00000192B74CB4F0>, <vgc.datatypes.Objects.PkmMove object at 0x00000192B74CB820>, <vgc.datatypes.Objects.PkmMove object at 0x00000192B74CBDC0>, <vgc.datatypes.Objects.PkmMove object at 0x00000192B74169A0>]\n",
      "pkm moves is  [<vgc.datatypes.Objects.PkmMove object at 0x00000192B74CBCA0>, <vgc.datatypes.Objects.PkmMove object at 0x00000192B74CBFA0>, <vgc.datatypes.Objects.PkmMove object at 0x00000192B74CBD00>, <vgc.datatypes.Objects.PkmMove object at 0x00000192B74CB790>]\n",
      "2\n",
      "pkm moves is  [<vgc.datatypes.Objects.PkmMove object at 0x00000192B74AFC10>, <vgc.datatypes.Objects.PkmMove object at 0x00000192B74AF850>, <vgc.datatypes.Objects.PkmMove object at 0x00000192B74AF280>, <vgc.datatypes.Objects.PkmMove object at 0x00000192B74AF100>]\n",
      "0 Move 0 0 Damage 45.0 Poke Pkm(Type=FAIRY, HP=141, Moves={PkmMove(Power=30, Acc=1.0, PP=10, Type=FAIRY), PkmMove(Power=30, Acc=1.0, PP=10, Type=ELECTRIC), PkmMove(Power=174, Acc=1.0, PP=9, Type=GROUND), PkmMove(Power=138, Acc=1.0, PP=10, Type=WATER), })\n",
      "0 Move 1 0 Damage 45.0 Poke Pkm(Type=FAIRY, HP=141, Moves={PkmMove(Power=30, Acc=1.0, PP=10, Type=FAIRY), PkmMove(Power=30, Acc=1.0, PP=10, Type=ELECTRIC), PkmMove(Power=174, Acc=1.0, PP=9, Type=GROUND), PkmMove(Power=138, Acc=1.0, PP=10, Type=WATER), })\n",
      "0 Move 2 2 Damage 174.0 Poke Pkm(Type=FAIRY, HP=141, Moves={PkmMove(Power=30, Acc=1.0, PP=10, Type=FAIRY), PkmMove(Power=30, Acc=1.0, PP=10, Type=ELECTRIC), PkmMove(Power=174, Acc=1.0, PP=9, Type=GROUND), PkmMove(Power=138, Acc=1.0, PP=10, Type=WATER), })\n",
      "0 Move 3 2 Damage 174.0 Poke Pkm(Type=FAIRY, HP=141, Moves={PkmMove(Power=30, Acc=1.0, PP=10, Type=FAIRY), PkmMove(Power=30, Acc=1.0, PP=10, Type=ELECTRIC), PkmMove(Power=174, Acc=1.0, PP=9, Type=GROUND), PkmMove(Power=138, Acc=1.0, PP=10, Type=WATER), })\n",
      "pkm moves is  [<vgc.datatypes.Objects.PkmMove object at 0x00000192B74AF3D0>, <vgc.datatypes.Objects.PkmMove object at 0x00000192B74AF310>, <vgc.datatypes.Objects.PkmMove object at 0x00000192B74AFD90>, <vgc.datatypes.Objects.PkmMove object at 0x00000192B74AFCA0>]\n",
      "pkm moves is  [<vgc.datatypes.Objects.PkmMove object at 0x00000192B74AF9A0>, <vgc.datatypes.Objects.PkmMove object at 0x00000192B74AFBE0>, <vgc.datatypes.Objects.PkmMove object at 0x00000192B74A7970>, <vgc.datatypes.Objects.PkmMove object at 0x00000192B74CB3D0>]\n",
      "2\n",
      "1\n",
      "{'active': {5: 1, 0: 1, 3: 1, 2: 2}, 'opp': {}}\n"
     ]
    }
   ],
   "source": [
    "from vgc.util.generator.PkmTeamGenerators import RandomTeamGenerator\n",
    "import pkm_battle_env_wrapper\n",
    "\n",
    "importlib.reload(pkm_battle_env_wrapper)\n",
    "from pkm_battle_env_wrapper import NiBot\n",
    "\n",
    "n_battles = 1 # total number of battles\n",
    "active_dict = {'active':{}, 'opp':{}}\n",
    "t = False\n",
    "battle = 0\n",
    "while battle < n_battles:\n",
    "    team_generator = RandomTeamGenerator(2)\n",
    "    team0 = team_generator.get_team().get_battle_team([0, 1, 2])\n",
    "    team1 = team_generator.get_team().get_battle_team([0, 1, 2])\n",
    "    # print(team0, team1)\n",
    "    #team0, team1 = PkmTeam(), PkmTeam()\n",
    "    agent0, agent1 = NiBot(), RandomPlayer() #NiBot() #RandomPlayer()\n",
    "    env = PkmBattleEnv((team0, team1),\n",
    "                    encode=(agent0.requires_encode(), agent1.requires_encode()))  # set new environment with teams\n",
    "    s, _ = env.reset()\n",
    "    while not t:  # True when all pkms of one of the two PkmTeam faint\n",
    "        a = [agent0.get_action(s[0]), agent1.get_action(s[1])]\n",
    "        if a[0] < 0 or a[0] > 4:\n",
    "            print('ni action is ', a[0])\n",
    "        print(a[0])\n",
    "        if a[0] in active_dict['active']:\n",
    "            active_dict['active'][a[0]] += 1\n",
    "        else:\n",
    "            active_dict['active'][a[0]] = 1\n",
    "        #print('ni action is ', a[0], a[1])\n",
    "        # if a[1] < 0 or a[1] >= 0:\n",
    "        #     print('nibot action is ', a[1])\n",
    "        s, _, t, _, _ = env.step(a)  # for inference, we don't need reward\n",
    "        #env.render()\n",
    "    t = False\n",
    "    battle += 1\n",
    "    print(env.winner)  # winner id number\n",
    "\n",
    "print(active_dict)"
   ]
  },
  {
   "cell_type": "code",
   "execution_count": 26,
   "metadata": {},
   "outputs": [
    {
     "data": {
      "text/plain": [
       "6"
      ]
     },
     "execution_count": 26,
     "metadata": {},
     "output_type": "execute_result"
    }
   ],
   "source": []
  },
  {
   "cell_type": "code",
   "execution_count": null,
   "metadata": {},
   "outputs": [],
   "source": []
  },
  {
   "cell_type": "code",
   "execution_count": null,
   "metadata": {},
   "outputs": [],
   "source": []
  },
  {
   "cell_type": "code",
   "execution_count": null,
   "metadata": {},
   "outputs": [],
   "source": []
  },
  {
   "cell_type": "code",
   "execution_count": null,
   "metadata": {},
   "outputs": [],
   "source": [
    "team0, team1 = PkmTeam(), PkmTeam()\n",
    "agent0, agent1 = RandomPlayer(), RandomPlayer()\n",
    "env = PkmBattleEnv((team0, team1),\n",
    "                   encode=(agent0.requires_encode(), agent1.requires_encode()))  # set new environment with teams\n",
    "n_battles = 3  # total number of battles\n",
    "t = False\n",
    "battle = 0\n",
    "while battle < n_battles:\n",
    "    s, _ = env.reset()\n",
    "    while not t:  # True when all pkms of one of the two PkmTeam faint\n",
    "        a = [agent0.get_action(s[0]), agent1.get_action(s[1])]\n",
    "        s, _, t, _, _ = env.step(a)  # for inference, we don't need reward\n",
    "        #env.render()\n",
    "    t = False\n",
    "    battle += 1\n",
    "print(env.winner)  # winner id number"
   ]
  },
  {
   "cell_type": "code",
   "execution_count": null,
   "metadata": {},
   "outputs": [],
   "source": []
  },
  {
   "cell_type": "markdown",
   "metadata": {},
   "source": [
    "### Test generating roster per competition\n"
   ]
  },
  {
   "cell_type": "code",
   "execution_count": 2,
   "metadata": {},
   "outputs": [],
   "source": [
    "# https://gitlab.com/DracoStriker/pokemon-vgc-engine/-/tree/master/vgc/util/generator?ref_type=heads\n",
    "\n",
    "from vgc.competition.Competition import TreeChampionship\n",
    "from vgc.competition.Competitor import CompetitorManager\n",
    "from vgc.network.ProxyCompetitor import ProxyCompetitor\n",
    "from vgc.util.generator.PkmRosterGenerators import RandomPkmRosterGenerator\n",
    "from vgc.util.generator.PkmTeamGenerators import RandomTeamGenerator\n",
    "\n",
    "from vgc.datatypes.Objects import PkmTeam, Pkm, GameState, Weather"
   ]
  },
  {
   "cell_type": "markdown",
   "metadata": {},
   "source": [
    "#### Notes\n",
    "* roster is of size 100 with 100 pokemon on it\n",
    "* not quite following the logic in competition but can generate a random team with one method"
   ]
  },
  {
   "cell_type": "code",
   "execution_count": 49,
   "metadata": {},
   "outputs": [
    {
     "name": "stdout",
     "output_type": "stream",
     "text": [
      "Pkm(Type=WATER, HP=240, Moves={Bubble Beam, Ice Shard, Ember, String Shot, }) Pkm(Type=PSYCHIC, HP=210, Moves={Psybeam, Tackle, Dragon Rage, Close Combat, }) Pkm(Type=ELECTRIC, HP=180, Moves={Thunder Wave, Bullet Punch, Giga Drain, Leech Life, })\n",
      "Active:\n",
      "Pkm(Type=WATER, HP=240, Moves={Bubble Beam, Ice Shard, Ember, String Shot, })\n",
      "Party:\n",
      "Pkm(Type=PSYCHIC, HP=210, Moves={Psybeam, Tackle, Dragon Rage, Close Combat, })\n",
      "Pkm(Type=ELECTRIC, HP=180, Moves={Thunder Wave, Bullet Punch, Giga Drain, Leech Life, })\n",
      "\n",
      "6\n"
     ]
    }
   ],
   "source": [
    "# get random team but not competition styple\n",
    "roster = RandomPkmRosterGenerator().gen_roster()\n",
    "\n",
    "temp_pkm = roster[-1].gen_pkm([0,1,2,3])\n",
    "temp_pkm2 = roster[-2].gen_pkm([0,1,2,3])\n",
    "temp_pkm3 = roster[-3].gen_pkm([0,1,2,3])\n",
    "print(temp_pkm, temp_pkm2, temp_pkm3)\n",
    "my_team = PkmTeam([temp_pkm, temp_pkm2, temp_pkm3])\n",
    "print(my_team)\n",
    "\n",
    "# can then make two random teams on the fly with the resoter each tiem\n",
    "# can set roster size to only get certain number of pokemon\n",
    "roster = RandomPkmRosterGenerator(roster_size=6).gen_roster()\n",
    "\n",
    "print(len(roster))"
   ]
  },
  {
   "cell_type": "code",
   "execution_count": 51,
   "metadata": {},
   "outputs": [
    {
     "name": "stdout",
     "output_type": "stream",
     "text": [
      "Active:\n",
      "Pkm(Type=GHOST, HP=120, Moves={PkmMove(Power=102, Acc=1.0, PP=10, Type=GHOST), PkmMove(Power=30, Acc=1.0, PP=10, Type=ICE), PkmMove(Power=66, Acc=1.0, PP=10, Type=ICE), PkmMove(Power=282, Acc=1.0, PP=10, Type=GROUND), })\n",
      "Party:\n",
      "Pkm(Type=FIRE, HP=264, Moves={PkmMove(Power=30, Acc=1.0, PP=10, Type=FIRE), PkmMove(Power=102, Acc=1.0, PP=10, Type=GRASS), PkmMove(Power=174, Acc=1.0, PP=10, Type=DARK), PkmMove(Power=30, Acc=1.0, PP=10, Type=BUG), })\n",
      "Pkm(Type=POISON, HP=192, Moves={PkmMove(Power=138, Acc=1.0, PP=10, Type=POISON), PkmMove(Power=66, Acc=1.0, PP=10, Type=POISON), PkmMove(Power=102, Acc=1.0, PP=10, Type=STEEL), PkmMove(Power=102, Acc=1.0, PP=10, Type=GROUND), })\n",
      "\n",
      "Active:\n",
      "Pkm(Type=ELECTRIC, HP=156, Moves={PkmMove(Power=66, Acc=1.0, PP=10, Type=ELECTRIC), PkmMove(Power=174, Acc=1.0, PP=10, Type=FLYING), PkmMove(Power=66, Acc=1.0, PP=10, Type=GRASS), PkmMove(Power=138, Acc=1.0, PP=10, Type=ELECTRIC), })\n",
      "Party:\n",
      "Pkm(Type=ICE, HP=120, Moves={PkmMove(Power=318, Acc=1.0, PP=10, Type=ICE), PkmMove(Power=30, Acc=1.0, PP=10, Type=ROCK), PkmMove(Power=30, Acc=1.0, PP=10, Type=FIRE), PkmMove(Power=102, Acc=1.0, PP=10, Type=NORMAL), })\n",
      "Pkm(Type=FIGHT, HP=156, Moves={PkmMove(Power=174, Acc=1.0, PP=10, Type=FIGHT), PkmMove(Power=66, Acc=1.0, PP=10, Type=WATER), PkmMove(Power=174, Acc=1.0, PP=10, Type=GHOST), PkmMove(Power=30, Acc=1.0, PP=10, Type=FIRE), })\n",
      "\n"
     ]
    }
   ],
   "source": [
    "# maybe alternative way\n",
    "from vgc.util.generator.PkmTeamGenerators import RandomTeamGenerator\n",
    "\n",
    "team_generator = RandomTeamGenerator(2)\n",
    "team0 = team_generator.get_team().get_battle_team([0, 1, 2])\n",
    "team1 = team_generator.get_team().get_battle_team([0, 1, 2])\n",
    "print(team0)\n",
    "print(team1)\n",
    "\n",
    "# team0 = self.gen.get_team().get_battle_team([0, 1, 2])\n",
    "# team1 = self.gen.get_team().get_battle_team([0, 1, 2])\n"
   ]
  },
  {
   "cell_type": "code",
   "execution_count": null,
   "metadata": {},
   "outputs": [],
   "source": []
  },
  {
   "cell_type": "code",
   "execution_count": 3,
   "metadata": {},
   "outputs": [],
   "source": [
    "roster = RandomPkmRosterGenerator().gen_roster()\n",
    "championship = TreeChampionship(roster, debug=True, gen=RandomTeamGenerator(2))\n"
   ]
  },
  {
   "cell_type": "code",
   "execution_count": 11,
   "metadata": {},
   "outputs": [
    {
     "name": "stdout",
     "output_type": "stream",
     "text": [
      "100\n",
      "PkmTemplate(Type=DRAGON, Max_HP=210, Moves={Outrage, Bullet Punch, Tackle, Wing Attack, })\n",
      "PkmTemplate(Type=DRAGON, Max_HP=210, Moves={Outrage, Bullet Punch, Tackle, Wing Attack, })\n",
      "PkmTemplate(Type=DARK, Max_HP=120, Moves={Crunch, Thunder Shock, Fire Blast, Ice Beam, })\n",
      "PkmTemplate(Type=NORMAL, Max_HP=240, Moves={Slam, Sunny Day, Hail, Energy Ball, })\n",
      "PkmTemplate(Type=FAIRY, Max_HP=150, Moves={Play Rough, Hydro Pump, Slam, Power Gem, })\n",
      "PkmTemplate(Type=DARK, Max_HP=180, Moves={Crunch, Draco Meteor, Bullet Punch, Spore, })\n",
      "PkmTemplate(Type=PSYCHIC, Max_HP=240, Moves={Psychic, Bug Buzz, Sweet Kiss, Power Gem, })\n",
      "PkmTemplate(Type=GRASS, Max_HP=240, Moves={Energy Ball, Hail, Bubble Beam, Thunder Shock, })\n",
      "PkmTemplate(Type=GRASS, Max_HP=240, Moves={Razor Leaf, Giga Drain, Bug Buzz, Nasty Plot, })\n",
      "PkmTemplate(Type=GROUND, Max_HP=240, Moves={Mud Shot, Hydro Pump, Ice Shard, Dragon Rage, })\n",
      "PkmTemplate(Type=GHOST, Max_HP=180, Moves={Shadow Sneak, Bubble Beam, Hydro Pump, Aqua Jet, })\n"
     ]
    }
   ],
   "source": [
    "print(len(roster))\n",
    "\n",
    "#dir(roster[0])\n",
    "for i in range(10):\n",
    "    print(roster[i])"
   ]
  },
  {
   "cell_type": "code",
   "execution_count": 12,
   "metadata": {},
   "outputs": [],
   "source": [
    "rtg = RandomTeamGenerator(2)"
   ]
  },
  {
   "cell_type": "code",
   "execution_count": 46,
   "metadata": {},
   "outputs": [
    {
     "name": "stdout",
     "output_type": "stream",
     "text": [
      "Pkm(Type=FLYING, HP=180, Moves={Hurricane, Ember, Bullet Punch, Dragon Rage, }) Pkm(Type=GRASS, HP=240, Moves={Energy Ball, Rain Dance, Recover, Spore, }) Pkm(Type=ELECTRIC, HP=210, Moves={Thunder, Nasty Plot, Power Gem, Dragon Rage, })\n",
      "Active:\n",
      "Pkm(Type=FLYING, HP=180, Moves={Hurricane, Ember, Bullet Punch, Dragon Rage, })\n",
      "Party:\n",
      "Pkm(Type=GRASS, HP=240, Moves={Energy Ball, Rain Dance, Recover, Spore, })\n",
      "Pkm(Type=ELECTRIC, HP=210, Moves={Thunder, Nasty Plot, Power Gem, Dragon Rage, })\n",
      "\n"
     ]
    }
   ],
   "source": [
    "temp_pkm = roster[-1].gen_pkm([0,1,2,3])\n",
    "temp_pkm2 = roster[-2].gen_pkm([0,1,2,3])\n",
    "temp_pkm3 = roster[-3].gen_pkm([0,1,2,3])\n",
    "print(temp_pkm, temp_pkm2, temp_pkm3)\n",
    "my_team = PkmTeam([temp_pkm, temp_pkm2, temp_pkm3])\n",
    "print(my_team)"
   ]
  },
  {
   "cell_type": "code",
   "execution_count": 48,
   "metadata": {},
   "outputs": [
    {
     "name": "stdout",
     "output_type": "stream",
     "text": [
      "Active:\n",
      "Pkm(Type=FLYING, HP=180, Moves={Hurricane, Ember, Bullet Punch, Dragon Rage, })\n",
      "Party:\n",
      "Pkm(Type=GRASS, HP=240, Moves={Energy Ball, Rain Dance, Recover, Spore, })\n",
      "Pkm(Type=ELECTRIC, HP=210, Moves={Thunder, Nasty Plot, Power Gem, Dragon Rage, })\n",
      "\n"
     ]
    }
   ],
   "source": [
    "print(my_team)"
   ]
  },
  {
   "cell_type": "code",
   "execution_count": null,
   "metadata": {},
   "outputs": [],
   "source": []
  },
  {
   "cell_type": "code",
   "execution_count": null,
   "metadata": {},
   "outputs": [],
   "source": [
    "# generate pkm from template\n",
    "# templ = PkmTemplate()\n",
    "# pkm = templ.gen_pkm([1, 2, 5, 3])  # 4 max!\n"
   ]
  },
  {
   "cell_type": "code",
   "execution_count": 13,
   "metadata": {},
   "outputs": [
    {
     "data": {
      "text/plain": [
       "<vgc.util.generator.PkmTeamGenerators.RandomTeamGenerator at 0x235d44738b0>"
      ]
     },
     "execution_count": 13,
     "metadata": {},
     "output_type": "execute_result"
    }
   ],
   "source": [
    "rtg"
   ]
  },
  {
   "cell_type": "code",
   "execution_count": 16,
   "metadata": {},
   "outputs": [],
   "source": [
    "# team0 = self.gen.get_team().get_battle_team([0, 1, 2])\n",
    "team0 = rtg.get_team().get_battle_team([0, 1, 2])"
   ]
  },
  {
   "cell_type": "code",
   "execution_count": 37,
   "metadata": {},
   "outputs": [
    {
     "data": {
      "text/plain": [
       "-1"
      ]
     },
     "execution_count": 37,
     "metadata": {},
     "output_type": "execute_result"
    }
   ],
   "source": [
    "team0.active.pkm_id"
   ]
  },
  {
   "cell_type": "code",
   "execution_count": 39,
   "metadata": {},
   "outputs": [
    {
     "name": "stdout",
     "output_type": "stream",
     "text": [
      "[<vgc.datatypes.Objects.Pkm object at 0x00000235D4404070>, <vgc.datatypes.Objects.Pkm object at 0x00000235D44042B0>]\n"
     ]
    }
   ],
   "source": [
    "print(team0.party)"
   ]
  },
  {
   "cell_type": "code",
   "execution_count": 38,
   "metadata": {},
   "outputs": [
    {
     "data": {
      "text/plain": [
       "['__class__',\n",
       " '__delattr__',\n",
       " '__dict__',\n",
       " '__dir__',\n",
       " '__doc__',\n",
       " '__eq__',\n",
       " '__format__',\n",
       " '__ge__',\n",
       " '__getattribute__',\n",
       " '__gt__',\n",
       " '__hash__',\n",
       " '__init__',\n",
       " '__init_subclass__',\n",
       " '__le__',\n",
       " '__lt__',\n",
       " '__module__',\n",
       " '__ne__',\n",
       " '__new__',\n",
       " '__reduce__',\n",
       " '__reduce_ex__',\n",
       " '__repr__',\n",
       " '__setattr__',\n",
       " '__sizeof__',\n",
       " '__str__',\n",
       " '__subclasshook__',\n",
       " '__weakref__',\n",
       " 'active',\n",
       " 'confused',\n",
       " 'entry_hazard',\n",
       " 'fainted',\n",
       " 'get_not_fainted',\n",
       " 'get_pkm_list',\n",
       " 'n_turns_confused',\n",
       " 'party',\n",
       " 'reset',\n",
       " 'reset_team_members',\n",
       " 'size',\n",
       " 'stage',\n",
       " 'switch']"
      ]
     },
     "execution_count": 38,
     "metadata": {},
     "output_type": "execute_result"
    }
   ],
   "source": [
    "dir(team0)"
   ]
  },
  {
   "cell_type": "code",
   "execution_count": 34,
   "metadata": {},
   "outputs": [
    {
     "data": {
      "text/plain": [
       "['__class__',\n",
       " '__delattr__',\n",
       " '__dict__',\n",
       " '__dir__',\n",
       " '__doc__',\n",
       " '__eq__',\n",
       " '__format__',\n",
       " '__ge__',\n",
       " '__getattribute__',\n",
       " '__gt__',\n",
       " '__hash__',\n",
       " '__init__',\n",
       " '__init_subclass__',\n",
       " '__le__',\n",
       " '__lt__',\n",
       " '__module__',\n",
       " '__ne__',\n",
       " '__new__',\n",
       " '__reduce__',\n",
       " '__reduce_ex__',\n",
       " '__repr__',\n",
       " '__setattr__',\n",
       " '__sizeof__',\n",
       " '__str__',\n",
       " '__subclasshook__',\n",
       " '__weakref__',\n",
       " 'asleep',\n",
       " 'fainted',\n",
       " 'frozen',\n",
       " 'hide',\n",
       " 'hide_pkm',\n",
       " 'hp',\n",
       " 'max_hp',\n",
       " 'moves',\n",
       " 'n_turns_asleep',\n",
       " 'paralyzed',\n",
       " 'pkm_id',\n",
       " 'public',\n",
       " 'reset',\n",
       " 'reveal_pkm',\n",
       " 'revealed',\n",
       " 'status',\n",
       " 'type']"
      ]
     },
     "execution_count": 34,
     "metadata": {},
     "output_type": "execute_result"
    }
   ],
   "source": [
    "dir(team0.active)"
   ]
  },
  {
   "cell_type": "code",
   "execution_count": 18,
   "metadata": {},
   "outputs": [
    {
     "data": {
      "text/plain": [
       "['__class__',\n",
       " '__delattr__',\n",
       " '__dict__',\n",
       " '__dir__',\n",
       " '__doc__',\n",
       " '__eq__',\n",
       " '__format__',\n",
       " '__ge__',\n",
       " '__getattribute__',\n",
       " '__gt__',\n",
       " '__hash__',\n",
       " '__init__',\n",
       " '__init_subclass__',\n",
       " '__le__',\n",
       " '__lt__',\n",
       " '__module__',\n",
       " '__ne__',\n",
       " '__new__',\n",
       " '__reduce__',\n",
       " '__reduce_ex__',\n",
       " '__repr__',\n",
       " '__setattr__',\n",
       " '__sizeof__',\n",
       " '__str__',\n",
       " '__subclasshook__',\n",
       " '__weakref__',\n",
       " 'active',\n",
       " 'confused',\n",
       " 'entry_hazard',\n",
       " 'fainted',\n",
       " 'get_not_fainted',\n",
       " 'get_pkm_list',\n",
       " 'n_turns_confused',\n",
       " 'party',\n",
       " 'reset',\n",
       " 'reset_team_members',\n",
       " 'size',\n",
       " 'stage',\n",
       " 'switch']"
      ]
     },
     "execution_count": 18,
     "metadata": {},
     "output_type": "execute_result"
    }
   ],
   "source": [
    "dir(team0)"
   ]
  },
  {
   "cell_type": "code",
   "execution_count": 23,
   "metadata": {},
   "outputs": [
    {
     "data": {
      "text/plain": [
       "<vgc.datatypes.Objects.PkmTeam at 0x235d44738e0>"
      ]
     },
     "execution_count": 23,
     "metadata": {},
     "output_type": "execute_result"
    }
   ],
   "source": [
    "team0"
   ]
  },
  {
   "cell_type": "code",
   "execution_count": 24,
   "metadata": {},
   "outputs": [],
   "source": []
  },
  {
   "cell_type": "code",
   "execution_count": 25,
   "metadata": {},
   "outputs": [
    {
     "data": {
      "text/plain": [
       "<vgc.datatypes.Objects.PkmTeam at 0x235d445da00>"
      ]
     },
     "execution_count": 25,
     "metadata": {},
     "output_type": "execute_result"
    }
   ],
   "source": [
    "test_team = PkmTeam()\n",
    "test_team"
   ]
  },
  {
   "cell_type": "code",
   "execution_count": 26,
   "metadata": {},
   "outputs": [],
   "source": [
    "test_team_2 = PkmTeam(pkms=[roster[i] for i in [0, 1, 2]])"
   ]
  },
  {
   "cell_type": "code",
   "execution_count": 29,
   "metadata": {},
   "outputs": [
    {
     "data": {
      "text/plain": [
       "<vgc.datatypes.Objects.PkmTemplate at 0x2359f53b7c0>"
      ]
     },
     "execution_count": 29,
     "metadata": {},
     "output_type": "execute_result"
    }
   ],
   "source": [
    "test_team_2.active"
   ]
  },
  {
   "cell_type": "code",
   "execution_count": 30,
   "metadata": {},
   "outputs": [
    {
     "data": {
      "text/plain": [
       "<vgc.datatypes.Objects.Pkm at 0x235d445d880>"
      ]
     },
     "execution_count": 30,
     "metadata": {},
     "output_type": "execute_result"
    }
   ],
   "source": [
    "test_team.active"
   ]
  },
  {
   "cell_type": "code",
   "execution_count": 31,
   "metadata": {},
   "outputs": [
    {
     "data": {
      "text/plain": [
       "<vgc.datatypes.Objects.Pkm at 0x235d44734c0>"
      ]
     },
     "execution_count": 31,
     "metadata": {},
     "output_type": "execute_result"
    }
   ],
   "source": [
    "team0.active"
   ]
  },
  {
   "cell_type": "markdown",
   "metadata": {},
   "source": [
    "### timing recreating the env"
   ]
  },
  {
   "cell_type": "code",
   "execution_count": 52,
   "metadata": {},
   "outputs": [],
   "source": [
    "\n",
    "from vgc.datatypes.Objects import PkmTeam, Pkm, GameState, Weather\n",
    "from vgc.engine.PkmBattleEnv import PkmBattleEnv\n",
    "from vgc.behaviour.BattlePolicies import RandomPlayer, TerminalPlayer\n",
    "import time\n",
    "\n",
    "team_generator = RandomTeamGenerator(2)"
   ]
  },
  {
   "cell_type": "code",
   "execution_count": 61,
   "metadata": {},
   "outputs": [
    {
     "name": "stdout",
     "output_type": "stream",
     "text": [
      "Time taken for 100 iterations: 0.02202892303466797\n"
     ]
    }
   ],
   "source": [
    "num_iter = 100\n",
    "time_start = time.time()\n",
    "for i in range(num_iter):\n",
    "    \n",
    "\n",
    "    team0 = team_generator.get_team().get_battle_team([0, 1, 2])\n",
    "    team1 = team_generator.get_team().get_battle_team([0, 1, 2])\n",
    "\n",
    "    PkmBattleEnv((team0, team1),\n",
    "                    # encode Fasle for forward env\n",
    "                    #encode=(agent0.requires_encode(), agent1.requires_encode()))  # set new environment with teams\n",
    "                    encode=(True, True))\n",
    "    # print(i)\n",
    "\n",
    "print(\"Time taken for {} iterations: {}\".format(num_iter, time.time() - time_start))"
   ]
  },
  {
   "cell_type": "code",
   "execution_count": null,
   "metadata": {},
   "outputs": [],
   "source": []
  }
 ],
 "metadata": {
  "kernelspec": {
   "display_name": "Python 3",
   "language": "python",
   "name": "python3"
  },
  "language_info": {
   "codemirror_mode": {
    "name": "ipython",
    "version": 3
   },
   "file_extension": ".py",
   "mimetype": "text/x-python",
   "name": "python",
   "nbconvert_exporter": "python",
   "pygments_lexer": "ipython3",
   "version": "3.9.9"
  }
 },
 "nbformat": 4,
 "nbformat_minor": 2
}
