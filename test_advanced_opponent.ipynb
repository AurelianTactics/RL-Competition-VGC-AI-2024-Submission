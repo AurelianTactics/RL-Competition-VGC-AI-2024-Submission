{
 "cells": [
  {
   "cell_type": "code",
   "execution_count": null,
   "metadata": {},
   "outputs": [],
   "source": []
  },
  {
   "cell_type": "markdown",
   "metadata": {},
   "source": [
    "### Test an advanced Opponent set up"
   ]
  },
  {
   "cell_type": "code",
   "execution_count": 5,
   "metadata": {},
   "outputs": [],
   "source": [
    "from vgc.datatypes.Objects import PkmTeam, Pkm, GameState, Weather\n",
    "from vgc.engine.PkmBattleEnv import PkmBattleEnv\n",
    "from vgc.behaviour.BattlePolicies import RandomPlayer#, TerminalPlay\n",
    "\n",
    "from pkm_battle_env_wrapper import NiBot\n",
    "\n",
    "import importlib\n",
    "import pkm_battle_env_wrapper\n",
    "\n",
    "importlib.reload(pkm_battle_env_wrapper)\n",
    "from pkm_battle_env_wrapper import NiBot"
   ]
  },
  {
   "cell_type": "code",
   "execution_count": 6,
   "metadata": {},
   "outputs": [],
   "source": [
    "team0, team1 = PkmTeam(), PkmTeam()\n",
    "agent0, agent1 = RandomPlayer(), RandomPlayer()\n",
    "env = PkmBattleEnv((team0, team1),\n",
    "                   encode=(True, False))  # set new environment with teams\n",
    "\n",
    "obs, info = env.reset()  # reset environment and get initial observation"
   ]
  },
  {
   "cell_type": "code",
   "execution_count": 7,
   "metadata": {},
   "outputs": [
    {
     "name": "stdout",
     "output_type": "stream",
     "text": [
      "2\n",
      "<PkmBattleEnv instance>\n"
     ]
    }
   ],
   "source": [
    "print(len(obs))\n",
    "print(obs[1])"
   ]
  },
  {
   "cell_type": "code",
   "execution_count": 8,
   "metadata": {},
   "outputs": [
    {
     "data": {
      "text/plain": [
       "0"
      ]
     },
     "execution_count": 8,
     "metadata": {},
     "output_type": "execute_result"
    }
   ],
   "source": [
    "# how it works for random agent\n",
    "agent1.get_action(obs[1])"
   ]
  },
  {
   "cell_type": "code",
   "execution_count": 9,
   "metadata": {},
   "outputs": [
    {
     "name": "stdout",
     "output_type": "stream",
     "text": [
      "45.0 PkmType.NORMAL PkmType.NORMAL 30.0 PkmType.NORMAL 0 0 1.0\n",
      "45.0 PkmType.NORMAL PkmType.NORMAL 30.0 PkmType.NORMAL 0 0 1.0\n",
      "45.0 PkmType.NORMAL PkmType.NORMAL 30.0 PkmType.NORMAL 0 0 1.0\n",
      "45.0 PkmType.NORMAL PkmType.NORMAL 30.0 PkmType.NORMAL 0 0 1.0\n",
      "0 Move 3 0 Damage 45.0 Poke Pkm(Type=NORMAL, HP=240, Moves={PkmMove(Power=30, Acc=1.0, PP=10, Type=NORMAL), PkmMove(Power=30, Acc=1.0, PP=10, Type=NORMAL), PkmMove(Power=30, Acc=1.0, PP=10, Type=NORMAL), PkmMove(Power=30, Acc=1.0, PP=10, Type=NORMAL), })\n",
      "Pokemon 0 Pkm(Type=NORMAL, HP=240, Moves={PkmMove(Power=30, Acc=1.0, PP=10, Type=NORMAL), PkmMove(Power=30, Acc=1.0, PP=10, Type=NORMAL), PkmMove(Power=30, Acc=1.0, PP=10, Type=NORMAL), PkmMove(Power=30, Acc=1.0, PP=10, Type=NORMAL), }) Move 0 Damage 45.0\n",
      "45.0 PkmType.NORMAL PkmType.NORMAL 30.0 PkmType.NORMAL 0 0 1.0\n",
      "45.0 PkmType.NORMAL PkmType.NORMAL 30.0 PkmType.NORMAL 0 0 1.0\n",
      "45.0 PkmType.NORMAL PkmType.NORMAL 30.0 PkmType.NORMAL 0 0 1.0\n",
      "45.0 PkmType.NORMAL PkmType.NORMAL 30.0 PkmType.NORMAL 0 0 1.0\n",
      "1 Move 3 0 Damage 45.0 Poke Pkm(Type=NORMAL, HP=240, Moves={PkmMove(Power=30, Acc=1.0, PP=10, Type=NORMAL), PkmMove(Power=30, Acc=1.0, PP=10, Type=NORMAL), PkmMove(Power=30, Acc=1.0, PP=10, Type=NORMAL), PkmMove(Power=30, Acc=1.0, PP=10, Type=NORMAL), })\n",
      "Pokemon 1 Pkm(Type=NORMAL, HP=240, Moves={PkmMove(Power=30, Acc=1.0, PP=10, Type=NORMAL), PkmMove(Power=30, Acc=1.0, PP=10, Type=NORMAL), PkmMove(Power=30, Acc=1.0, PP=10, Type=NORMAL), PkmMove(Power=30, Acc=1.0, PP=10, Type=NORMAL), }) Move 0 Damage 45.0\n",
      "45.0 PkmType.NORMAL PkmType.NORMAL 30.0 PkmType.NORMAL 0 0 1.0\n",
      "45.0 PkmType.NORMAL PkmType.NORMAL 30.0 PkmType.NORMAL 0 0 1.0\n",
      "45.0 PkmType.NORMAL PkmType.NORMAL 30.0 PkmType.NORMAL 0 0 1.0\n",
      "45.0 PkmType.NORMAL PkmType.NORMAL 30.0 PkmType.NORMAL 0 0 1.0\n",
      "2 Move 3 0 Damage 45.0 Poke Pkm(Type=NORMAL, HP=240, Moves={PkmMove(Power=30, Acc=1.0, PP=10, Type=NORMAL), PkmMove(Power=30, Acc=1.0, PP=10, Type=NORMAL), PkmMove(Power=30, Acc=1.0, PP=10, Type=NORMAL), PkmMove(Power=30, Acc=1.0, PP=10, Type=NORMAL), })\n",
      "Pokemon 2 Pkm(Type=NORMAL, HP=240, Moves={PkmMove(Power=30, Acc=1.0, PP=10, Type=NORMAL), PkmMove(Power=30, Acc=1.0, PP=10, Type=NORMAL), PkmMove(Power=30, Acc=1.0, PP=10, Type=NORMAL), PkmMove(Power=30, Acc=1.0, PP=10, Type=NORMAL), }) Move 0 Damage 45.0\n",
      "0\n",
      "45.0 PkmType.NORMAL PkmType.NORMAL 30.0 PkmType.NORMAL 0 0 1.0\n",
      "45.0 PkmType.NORMAL PkmType.NORMAL 30.0 PkmType.NORMAL 0 0 1.0\n",
      "45.0 PkmType.NORMAL PkmType.NORMAL 30.0 PkmType.NORMAL 0 0 1.0\n",
      "45.0 PkmType.NORMAL PkmType.NORMAL 30.0 PkmType.NORMAL 0 0 1.0\n",
      "0 Move 3 0 Damage 45.0 Poke Pkm(Type=NORMAL, HP=240, Moves={PkmMove(Power=30, Acc=1.0, PP=10, Type=NORMAL), PkmMove(Power=30, Acc=1.0, PP=10, Type=NORMAL), PkmMove(Power=30, Acc=1.0, PP=10, Type=NORMAL), PkmMove(Power=30, Acc=1.0, PP=10, Type=NORMAL), })\n",
      "Pokemon 0 Pkm(Type=NORMAL, HP=240, Moves={PkmMove(Power=30, Acc=1.0, PP=10, Type=NORMAL), PkmMove(Power=30, Acc=1.0, PP=10, Type=NORMAL), PkmMove(Power=30, Acc=1.0, PP=10, Type=NORMAL), PkmMove(Power=30, Acc=1.0, PP=10, Type=NORMAL), }) Move 0 Damage 45.0\n",
      "45.0 PkmType.NORMAL PkmType.NORMAL 30.0 PkmType.NORMAL 0 0 1.0\n",
      "45.0 PkmType.NORMAL PkmType.NORMAL 30.0 PkmType.NORMAL 0 0 1.0\n",
      "45.0 PkmType.NORMAL PkmType.NORMAL 30.0 PkmType.NORMAL 0 0 1.0\n",
      "45.0 PkmType.NORMAL PkmType.NORMAL 30.0 PkmType.NORMAL 0 0 1.0\n",
      "1 Move 3 0 Damage 45.0 Poke Pkm(Type=NORMAL, HP=240, Moves={PkmMove(Power=30, Acc=1.0, PP=10, Type=NORMAL), PkmMove(Power=30, Acc=1.0, PP=10, Type=NORMAL), PkmMove(Power=30, Acc=1.0, PP=10, Type=NORMAL), PkmMove(Power=30, Acc=1.0, PP=10, Type=NORMAL), })\n",
      "Pokemon 1 Pkm(Type=NORMAL, HP=240, Moves={PkmMove(Power=30, Acc=1.0, PP=10, Type=NORMAL), PkmMove(Power=30, Acc=1.0, PP=10, Type=NORMAL), PkmMove(Power=30, Acc=1.0, PP=10, Type=NORMAL), PkmMove(Power=30, Acc=1.0, PP=10, Type=NORMAL), }) Move 0 Damage 45.0\n",
      "45.0 PkmType.NORMAL PkmType.NORMAL 30.0 PkmType.NORMAL 0 0 1.0\n",
      "45.0 PkmType.NORMAL PkmType.NORMAL 30.0 PkmType.NORMAL 0 0 1.0\n",
      "45.0 PkmType.NORMAL PkmType.NORMAL 30.0 PkmType.NORMAL 0 0 1.0\n",
      "45.0 PkmType.NORMAL PkmType.NORMAL 30.0 PkmType.NORMAL 0 0 1.0\n",
      "2 Move 3 0 Damage 45.0 Poke Pkm(Type=NORMAL, HP=240, Moves={PkmMove(Power=30, Acc=1.0, PP=10, Type=NORMAL), PkmMove(Power=30, Acc=1.0, PP=10, Type=NORMAL), PkmMove(Power=30, Acc=1.0, PP=10, Type=NORMAL), PkmMove(Power=30, Acc=1.0, PP=10, Type=NORMAL), })\n",
      "Pokemon 2 Pkm(Type=NORMAL, HP=240, Moves={PkmMove(Power=30, Acc=1.0, PP=10, Type=NORMAL), PkmMove(Power=30, Acc=1.0, PP=10, Type=NORMAL), PkmMove(Power=30, Acc=1.0, PP=10, Type=NORMAL), PkmMove(Power=30, Acc=1.0, PP=10, Type=NORMAL), }) Move 0 Damage 45.0\n",
      "0\n",
      "45.0 PkmType.NORMAL PkmType.NORMAL 30.0 PkmType.NORMAL 0 0 1.0\n",
      "45.0 PkmType.NORMAL PkmType.NORMAL 30.0 PkmType.NORMAL 0 0 1.0\n",
      "45.0 PkmType.NORMAL PkmType.NORMAL 30.0 PkmType.NORMAL 0 0 1.0\n",
      "45.0 PkmType.NORMAL PkmType.NORMAL 30.0 PkmType.NORMAL 0 0 1.0\n",
      "0 Move 3 0 Damage 45.0 Poke Pkm(Type=NORMAL, HP=240, Moves={PkmMove(Power=30, Acc=1.0, PP=10, Type=NORMAL), PkmMove(Power=30, Acc=1.0, PP=10, Type=NORMAL), PkmMove(Power=30, Acc=1.0, PP=10, Type=NORMAL), PkmMove(Power=30, Acc=1.0, PP=10, Type=NORMAL), })\n",
      "Pokemon 0 Pkm(Type=NORMAL, HP=240, Moves={PkmMove(Power=30, Acc=1.0, PP=10, Type=NORMAL), PkmMove(Power=30, Acc=1.0, PP=10, Type=NORMAL), PkmMove(Power=30, Acc=1.0, PP=10, Type=NORMAL), PkmMove(Power=30, Acc=1.0, PP=10, Type=NORMAL), }) Move 0 Damage 45.0\n",
      "45.0 PkmType.NORMAL PkmType.NORMAL 30.0 PkmType.NORMAL 0 0 1.0\n",
      "45.0 PkmType.NORMAL PkmType.NORMAL 30.0 PkmType.NORMAL 0 0 1.0\n",
      "45.0 PkmType.NORMAL PkmType.NORMAL 30.0 PkmType.NORMAL 0 0 1.0\n",
      "45.0 PkmType.NORMAL PkmType.NORMAL 30.0 PkmType.NORMAL 0 0 1.0\n",
      "1 Move 3 0 Damage 45.0 Poke Pkm(Type=NORMAL, HP=240, Moves={PkmMove(Power=30, Acc=1.0, PP=10, Type=NORMAL), PkmMove(Power=30, Acc=1.0, PP=10, Type=NORMAL), PkmMove(Power=30, Acc=1.0, PP=10, Type=NORMAL), PkmMove(Power=30, Acc=1.0, PP=10, Type=NORMAL), })\n",
      "Pokemon 1 Pkm(Type=NORMAL, HP=240, Moves={PkmMove(Power=30, Acc=1.0, PP=10, Type=NORMAL), PkmMove(Power=30, Acc=1.0, PP=10, Type=NORMAL), PkmMove(Power=30, Acc=1.0, PP=10, Type=NORMAL), PkmMove(Power=30, Acc=1.0, PP=10, Type=NORMAL), }) Move 0 Damage 45.0\n",
      "45.0 PkmType.NORMAL PkmType.NORMAL 30.0 PkmType.NORMAL 0 0 1.0\n",
      "45.0 PkmType.NORMAL PkmType.NORMAL 30.0 PkmType.NORMAL 0 0 1.0\n",
      "45.0 PkmType.NORMAL PkmType.NORMAL 30.0 PkmType.NORMAL 0 0 1.0\n",
      "45.0 PkmType.NORMAL PkmType.NORMAL 30.0 PkmType.NORMAL 0 0 1.0\n",
      "2 Move 3 0 Damage 45.0 Poke Pkm(Type=NORMAL, HP=240, Moves={PkmMove(Power=30, Acc=1.0, PP=10, Type=NORMAL), PkmMove(Power=30, Acc=1.0, PP=10, Type=NORMAL), PkmMove(Power=30, Acc=1.0, PP=10, Type=NORMAL), PkmMove(Power=30, Acc=1.0, PP=10, Type=NORMAL), })\n",
      "Pokemon 2 Pkm(Type=NORMAL, HP=240, Moves={PkmMove(Power=30, Acc=1.0, PP=10, Type=NORMAL), PkmMove(Power=30, Acc=1.0, PP=10, Type=NORMAL), PkmMove(Power=30, Acc=1.0, PP=10, Type=NORMAL), PkmMove(Power=30, Acc=1.0, PP=10, Type=NORMAL), }) Move 0 Damage 45.0\n",
      "0\n",
      "45.0 PkmType.NORMAL PkmType.NORMAL 30.0 PkmType.NORMAL 0 0 1.0\n",
      "45.0 PkmType.NORMAL PkmType.NORMAL 30.0 PkmType.NORMAL 0 0 1.0\n",
      "45.0 PkmType.NORMAL PkmType.NORMAL 30.0 PkmType.NORMAL 0 0 1.0\n",
      "45.0 PkmType.NORMAL PkmType.NORMAL 30.0 PkmType.NORMAL 0 0 1.0\n",
      "0 Move 3 0 Damage 45.0 Poke Pkm(Type=NORMAL, HP=240, Moves={PkmMove(Power=30, Acc=1.0, PP=10, Type=NORMAL), PkmMove(Power=30, Acc=1.0, PP=10, Type=NORMAL), PkmMove(Power=30, Acc=1.0, PP=10, Type=NORMAL), PkmMove(Power=30, Acc=1.0, PP=10, Type=NORMAL), })\n",
      "Pokemon 0 Pkm(Type=NORMAL, HP=240, Moves={PkmMove(Power=30, Acc=1.0, PP=10, Type=NORMAL), PkmMove(Power=30, Acc=1.0, PP=10, Type=NORMAL), PkmMove(Power=30, Acc=1.0, PP=10, Type=NORMAL), PkmMove(Power=30, Acc=1.0, PP=10, Type=NORMAL), }) Move 0 Damage 45.0\n",
      "45.0 PkmType.NORMAL PkmType.NORMAL 30.0 PkmType.NORMAL 0 0 1.0\n",
      "45.0 PkmType.NORMAL PkmType.NORMAL 30.0 PkmType.NORMAL 0 0 1.0\n",
      "45.0 PkmType.NORMAL PkmType.NORMAL 30.0 PkmType.NORMAL 0 0 1.0\n",
      "45.0 PkmType.NORMAL PkmType.NORMAL 30.0 PkmType.NORMAL 0 0 1.0\n",
      "1 Move 3 0 Damage 45.0 Poke Pkm(Type=NORMAL, HP=240, Moves={PkmMove(Power=30, Acc=1.0, PP=10, Type=NORMAL), PkmMove(Power=30, Acc=1.0, PP=10, Type=NORMAL), PkmMove(Power=30, Acc=1.0, PP=10, Type=NORMAL), PkmMove(Power=30, Acc=1.0, PP=10, Type=NORMAL), })\n",
      "Pokemon 1 Pkm(Type=NORMAL, HP=240, Moves={PkmMove(Power=30, Acc=1.0, PP=10, Type=NORMAL), PkmMove(Power=30, Acc=1.0, PP=10, Type=NORMAL), PkmMove(Power=30, Acc=1.0, PP=10, Type=NORMAL), PkmMove(Power=30, Acc=1.0, PP=10, Type=NORMAL), }) Move 0 Damage 45.0\n",
      "45.0 PkmType.NORMAL PkmType.NORMAL 30.0 PkmType.NORMAL 0 0 1.0\n",
      "45.0 PkmType.NORMAL PkmType.NORMAL 30.0 PkmType.NORMAL 0 0 1.0\n",
      "45.0 PkmType.NORMAL PkmType.NORMAL 30.0 PkmType.NORMAL 0 0 1.0\n",
      "45.0 PkmType.NORMAL PkmType.NORMAL 30.0 PkmType.NORMAL 0 0 1.0\n",
      "2 Move 3 0 Damage 45.0 Poke Pkm(Type=NORMAL, HP=240, Moves={PkmMove(Power=30, Acc=1.0, PP=10, Type=NORMAL), PkmMove(Power=30, Acc=1.0, PP=10, Type=NORMAL), PkmMove(Power=30, Acc=1.0, PP=10, Type=NORMAL), PkmMove(Power=30, Acc=1.0, PP=10, Type=NORMAL), })\n",
      "Pokemon 2 Pkm(Type=NORMAL, HP=240, Moves={PkmMove(Power=30, Acc=1.0, PP=10, Type=NORMAL), PkmMove(Power=30, Acc=1.0, PP=10, Type=NORMAL), PkmMove(Power=30, Acc=1.0, PP=10, Type=NORMAL), PkmMove(Power=30, Acc=1.0, PP=10, Type=NORMAL), }) Move 0 Damage 45.0\n",
      "0\n",
      "45.0 PkmType.NORMAL PkmType.NORMAL 30.0 PkmType.NORMAL 0 0 1.0\n",
      "45.0 PkmType.NORMAL PkmType.NORMAL 30.0 PkmType.NORMAL 0 0 1.0\n",
      "45.0 PkmType.NORMAL PkmType.NORMAL 30.0 PkmType.NORMAL 0 0 1.0\n",
      "45.0 PkmType.NORMAL PkmType.NORMAL 30.0 PkmType.NORMAL 0 0 1.0\n",
      "0 Move 3 0 Damage 45.0 Poke Pkm(Type=NORMAL, HP=240, Moves={PkmMove(Power=30, Acc=1.0, PP=10, Type=NORMAL), PkmMove(Power=30, Acc=1.0, PP=10, Type=NORMAL), PkmMove(Power=30, Acc=1.0, PP=10, Type=NORMAL), PkmMove(Power=30, Acc=1.0, PP=10, Type=NORMAL), })\n",
      "Pokemon 0 Pkm(Type=NORMAL, HP=240, Moves={PkmMove(Power=30, Acc=1.0, PP=10, Type=NORMAL), PkmMove(Power=30, Acc=1.0, PP=10, Type=NORMAL), PkmMove(Power=30, Acc=1.0, PP=10, Type=NORMAL), PkmMove(Power=30, Acc=1.0, PP=10, Type=NORMAL), }) Move 0 Damage 45.0\n",
      "45.0 PkmType.NORMAL PkmType.NORMAL 30.0 PkmType.NORMAL 0 0 1.0\n",
      "45.0 PkmType.NORMAL PkmType.NORMAL 30.0 PkmType.NORMAL 0 0 1.0\n",
      "45.0 PkmType.NORMAL PkmType.NORMAL 30.0 PkmType.NORMAL 0 0 1.0\n",
      "45.0 PkmType.NORMAL PkmType.NORMAL 30.0 PkmType.NORMAL 0 0 1.0\n",
      "1 Move 3 0 Damage 45.0 Poke Pkm(Type=NORMAL, HP=240, Moves={PkmMove(Power=30, Acc=1.0, PP=10, Type=NORMAL), PkmMove(Power=30, Acc=1.0, PP=10, Type=NORMAL), PkmMove(Power=30, Acc=1.0, PP=10, Type=NORMAL), PkmMove(Power=30, Acc=1.0, PP=10, Type=NORMAL), })\n",
      "Pokemon 1 Pkm(Type=NORMAL, HP=240, Moves={PkmMove(Power=30, Acc=1.0, PP=10, Type=NORMAL), PkmMove(Power=30, Acc=1.0, PP=10, Type=NORMAL), PkmMove(Power=30, Acc=1.0, PP=10, Type=NORMAL), PkmMove(Power=30, Acc=1.0, PP=10, Type=NORMAL), }) Move 0 Damage 45.0\n",
      "45.0 PkmType.NORMAL PkmType.NORMAL 30.0 PkmType.NORMAL 0 0 1.0\n",
      "45.0 PkmType.NORMAL PkmType.NORMAL 30.0 PkmType.NORMAL 0 0 1.0\n",
      "45.0 PkmType.NORMAL PkmType.NORMAL 30.0 PkmType.NORMAL 0 0 1.0\n",
      "45.0 PkmType.NORMAL PkmType.NORMAL 30.0 PkmType.NORMAL 0 0 1.0\n",
      "2 Move 3 0 Damage 45.0 Poke Pkm(Type=NORMAL, HP=240, Moves={PkmMove(Power=30, Acc=1.0, PP=10, Type=NORMAL), PkmMove(Power=30, Acc=1.0, PP=10, Type=NORMAL), PkmMove(Power=30, Acc=1.0, PP=10, Type=NORMAL), PkmMove(Power=30, Acc=1.0, PP=10, Type=NORMAL), })\n",
      "Pokemon 2 Pkm(Type=NORMAL, HP=240, Moves={PkmMove(Power=30, Acc=1.0, PP=10, Type=NORMAL), PkmMove(Power=30, Acc=1.0, PP=10, Type=NORMAL), PkmMove(Power=30, Acc=1.0, PP=10, Type=NORMAL), PkmMove(Power=30, Acc=1.0, PP=10, Type=NORMAL), }) Move 0 Damage 45.0\n",
      "0\n",
      "45.0 PkmType.NORMAL PkmType.NORMAL 30.0 PkmType.NORMAL 0 0 1.0\n",
      "45.0 PkmType.NORMAL PkmType.NORMAL 30.0 PkmType.NORMAL 0 0 1.0\n",
      "45.0 PkmType.NORMAL PkmType.NORMAL 30.0 PkmType.NORMAL 0 0 1.0\n",
      "45.0 PkmType.NORMAL PkmType.NORMAL 30.0 PkmType.NORMAL 0 0 1.0\n",
      "0 Move 3 0 Damage 45.0 Poke Pkm(Type=NORMAL, HP=240, Moves={PkmMove(Power=30, Acc=1.0, PP=10, Type=NORMAL), PkmMove(Power=30, Acc=1.0, PP=10, Type=NORMAL), PkmMove(Power=30, Acc=1.0, PP=10, Type=NORMAL), PkmMove(Power=30, Acc=1.0, PP=10, Type=NORMAL), })\n",
      "Pokemon 0 Pkm(Type=NORMAL, HP=240, Moves={PkmMove(Power=30, Acc=1.0, PP=10, Type=NORMAL), PkmMove(Power=30, Acc=1.0, PP=10, Type=NORMAL), PkmMove(Power=30, Acc=1.0, PP=10, Type=NORMAL), PkmMove(Power=30, Acc=1.0, PP=10, Type=NORMAL), }) Move 0 Damage 45.0\n",
      "45.0 PkmType.NORMAL PkmType.NORMAL 30.0 PkmType.NORMAL 0 0 1.0\n",
      "45.0 PkmType.NORMAL PkmType.NORMAL 30.0 PkmType.NORMAL 0 0 1.0\n",
      "45.0 PkmType.NORMAL PkmType.NORMAL 30.0 PkmType.NORMAL 0 0 1.0\n",
      "45.0 PkmType.NORMAL PkmType.NORMAL 30.0 PkmType.NORMAL 0 0 1.0\n",
      "1 Move 3 0 Damage 45.0 Poke Pkm(Type=NORMAL, HP=240, Moves={PkmMove(Power=30, Acc=1.0, PP=10, Type=NORMAL), PkmMove(Power=30, Acc=1.0, PP=10, Type=NORMAL), PkmMove(Power=30, Acc=1.0, PP=10, Type=NORMAL), PkmMove(Power=30, Acc=1.0, PP=10, Type=NORMAL), })\n",
      "Pokemon 1 Pkm(Type=NORMAL, HP=240, Moves={PkmMove(Power=30, Acc=1.0, PP=10, Type=NORMAL), PkmMove(Power=30, Acc=1.0, PP=10, Type=NORMAL), PkmMove(Power=30, Acc=1.0, PP=10, Type=NORMAL), PkmMove(Power=30, Acc=1.0, PP=10, Type=NORMAL), }) Move 0 Damage 45.0\n",
      "45.0 PkmType.NORMAL PkmType.NORMAL 30.0 PkmType.NORMAL 0 0 1.0\n",
      "45.0 PkmType.NORMAL PkmType.NORMAL 30.0 PkmType.NORMAL 0 0 1.0\n",
      "45.0 PkmType.NORMAL PkmType.NORMAL 30.0 PkmType.NORMAL 0 0 1.0\n",
      "45.0 PkmType.NORMAL PkmType.NORMAL 30.0 PkmType.NORMAL 0 0 1.0\n",
      "2 Move 3 0 Damage 45.0 Poke Pkm(Type=NORMAL, HP=240, Moves={PkmMove(Power=30, Acc=1.0, PP=10, Type=NORMAL), PkmMove(Power=30, Acc=1.0, PP=10, Type=NORMAL), PkmMove(Power=30, Acc=1.0, PP=10, Type=NORMAL), PkmMove(Power=30, Acc=1.0, PP=10, Type=NORMAL), })\n",
      "Pokemon 2 Pkm(Type=NORMAL, HP=240, Moves={PkmMove(Power=30, Acc=1.0, PP=10, Type=NORMAL), PkmMove(Power=30, Acc=1.0, PP=10, Type=NORMAL), PkmMove(Power=30, Acc=1.0, PP=10, Type=NORMAL), PkmMove(Power=30, Acc=1.0, PP=10, Type=NORMAL), }) Move 0 Damage 45.0\n",
      "0\n",
      "45.0 PkmType.NORMAL PkmType.NORMAL 30.0 PkmType.NORMAL 0 0 1.0\n",
      "45.0 PkmType.NORMAL PkmType.NORMAL 30.0 PkmType.NORMAL 0 0 1.0\n",
      "45.0 PkmType.NORMAL PkmType.NORMAL 30.0 PkmType.NORMAL 0 0 1.0\n",
      "45.0 PkmType.NORMAL PkmType.NORMAL 30.0 PkmType.NORMAL 0 0 1.0\n",
      "0 Move 3 0 Damage 45.0 Poke Pkm(Type=NORMAL, HP=240, Moves={PkmMove(Power=30, Acc=1.0, PP=10, Type=NORMAL), PkmMove(Power=30, Acc=1.0, PP=10, Type=NORMAL), PkmMove(Power=30, Acc=1.0, PP=10, Type=NORMAL), PkmMove(Power=30, Acc=1.0, PP=10, Type=NORMAL), })\n",
      "Pokemon 0 Pkm(Type=NORMAL, HP=240, Moves={PkmMove(Power=30, Acc=1.0, PP=10, Type=NORMAL), PkmMove(Power=30, Acc=1.0, PP=10, Type=NORMAL), PkmMove(Power=30, Acc=1.0, PP=10, Type=NORMAL), PkmMove(Power=30, Acc=1.0, PP=10, Type=NORMAL), }) Move 0 Damage 45.0\n",
      "45.0 PkmType.NORMAL PkmType.NORMAL 30.0 PkmType.NORMAL 0 0 1.0\n",
      "45.0 PkmType.NORMAL PkmType.NORMAL 30.0 PkmType.NORMAL 0 0 1.0\n",
      "45.0 PkmType.NORMAL PkmType.NORMAL 30.0 PkmType.NORMAL 0 0 1.0\n",
      "45.0 PkmType.NORMAL PkmType.NORMAL 30.0 PkmType.NORMAL 0 0 1.0\n",
      "1 Move 3 0 Damage 45.0 Poke Pkm(Type=NORMAL, HP=240, Moves={PkmMove(Power=30, Acc=1.0, PP=10, Type=NORMAL), PkmMove(Power=30, Acc=1.0, PP=10, Type=NORMAL), PkmMove(Power=30, Acc=1.0, PP=10, Type=NORMAL), PkmMove(Power=30, Acc=1.0, PP=10, Type=NORMAL), })\n",
      "Pokemon 1 Pkm(Type=NORMAL, HP=240, Moves={PkmMove(Power=30, Acc=1.0, PP=10, Type=NORMAL), PkmMove(Power=30, Acc=1.0, PP=10, Type=NORMAL), PkmMove(Power=30, Acc=1.0, PP=10, Type=NORMAL), PkmMove(Power=30, Acc=1.0, PP=10, Type=NORMAL), }) Move 0 Damage 45.0\n",
      "45.0 PkmType.NORMAL PkmType.NORMAL 30.0 PkmType.NORMAL 0 0 1.0\n",
      "45.0 PkmType.NORMAL PkmType.NORMAL 30.0 PkmType.NORMAL 0 0 1.0\n",
      "45.0 PkmType.NORMAL PkmType.NORMAL 30.0 PkmType.NORMAL 0 0 1.0\n",
      "45.0 PkmType.NORMAL PkmType.NORMAL 30.0 PkmType.NORMAL 0 0 1.0\n",
      "2 Move 3 0 Damage 45.0 Poke Pkm(Type=NORMAL, HP=240, Moves={PkmMove(Power=30, Acc=1.0, PP=10, Type=NORMAL), PkmMove(Power=30, Acc=1.0, PP=10, Type=NORMAL), PkmMove(Power=30, Acc=1.0, PP=10, Type=NORMAL), PkmMove(Power=30, Acc=1.0, PP=10, Type=NORMAL), })\n",
      "Pokemon 2 Pkm(Type=NORMAL, HP=240, Moves={PkmMove(Power=30, Acc=1.0, PP=10, Type=NORMAL), PkmMove(Power=30, Acc=1.0, PP=10, Type=NORMAL), PkmMove(Power=30, Acc=1.0, PP=10, Type=NORMAL), PkmMove(Power=30, Acc=1.0, PP=10, Type=NORMAL), }) Move 0 Damage 45.0\n",
      "0\n",
      "45.0 PkmType.NORMAL PkmType.NORMAL 30.0 PkmType.NORMAL 0 0 1.0\n",
      "45.0 PkmType.NORMAL PkmType.NORMAL 30.0 PkmType.NORMAL 0 0 1.0\n",
      "45.0 PkmType.NORMAL PkmType.NORMAL 30.0 PkmType.NORMAL 0 0 1.0\n",
      "45.0 PkmType.NORMAL PkmType.NORMAL 30.0 PkmType.NORMAL 0 0 1.0\n",
      "0 Move 3 0 Damage 45.0 Poke Pkm(Type=NORMAL, HP=240, Moves={PkmMove(Power=30, Acc=1.0, PP=10, Type=NORMAL), PkmMove(Power=30, Acc=1.0, PP=10, Type=NORMAL), PkmMove(Power=30, Acc=1.0, PP=10, Type=NORMAL), PkmMove(Power=30, Acc=1.0, PP=10, Type=NORMAL), })\n",
      "Pokemon 0 Pkm(Type=NORMAL, HP=240, Moves={PkmMove(Power=30, Acc=1.0, PP=10, Type=NORMAL), PkmMove(Power=30, Acc=1.0, PP=10, Type=NORMAL), PkmMove(Power=30, Acc=1.0, PP=10, Type=NORMAL), PkmMove(Power=30, Acc=1.0, PP=10, Type=NORMAL), }) Move 0 Damage 45.0\n",
      "45.0 PkmType.NORMAL PkmType.NORMAL 30.0 PkmType.NORMAL 0 0 1.0\n",
      "45.0 PkmType.NORMAL PkmType.NORMAL 30.0 PkmType.NORMAL 0 0 1.0\n",
      "45.0 PkmType.NORMAL PkmType.NORMAL 30.0 PkmType.NORMAL 0 0 1.0\n",
      "45.0 PkmType.NORMAL PkmType.NORMAL 30.0 PkmType.NORMAL 0 0 1.0\n",
      "1 Move 3 0 Damage 45.0 Poke Pkm(Type=NORMAL, HP=240, Moves={PkmMove(Power=30, Acc=1.0, PP=10, Type=NORMAL), PkmMove(Power=30, Acc=1.0, PP=10, Type=NORMAL), PkmMove(Power=30, Acc=1.0, PP=10, Type=NORMAL), PkmMove(Power=30, Acc=1.0, PP=10, Type=NORMAL), })\n",
      "Pokemon 1 Pkm(Type=NORMAL, HP=240, Moves={PkmMove(Power=30, Acc=1.0, PP=10, Type=NORMAL), PkmMove(Power=30, Acc=1.0, PP=10, Type=NORMAL), PkmMove(Power=30, Acc=1.0, PP=10, Type=NORMAL), PkmMove(Power=30, Acc=1.0, PP=10, Type=NORMAL), }) Move 0 Damage 45.0\n",
      "45.0 PkmType.NORMAL PkmType.NORMAL 30.0 PkmType.NORMAL 0 0 1.0\n",
      "45.0 PkmType.NORMAL PkmType.NORMAL 30.0 PkmType.NORMAL 0 0 1.0\n",
      "45.0 PkmType.NORMAL PkmType.NORMAL 30.0 PkmType.NORMAL 0 0 1.0\n",
      "45.0 PkmType.NORMAL PkmType.NORMAL 30.0 PkmType.NORMAL 0 0 1.0\n",
      "2 Move 3 0 Damage 45.0 Poke Pkm(Type=NORMAL, HP=240, Moves={PkmMove(Power=30, Acc=1.0, PP=10, Type=NORMAL), PkmMove(Power=30, Acc=1.0, PP=10, Type=NORMAL), PkmMove(Power=30, Acc=1.0, PP=10, Type=NORMAL), PkmMove(Power=30, Acc=1.0, PP=10, Type=NORMAL), })\n",
      "Pokemon 2 Pkm(Type=NORMAL, HP=240, Moves={PkmMove(Power=30, Acc=1.0, PP=10, Type=NORMAL), PkmMove(Power=30, Acc=1.0, PP=10, Type=NORMAL), PkmMove(Power=30, Acc=1.0, PP=10, Type=NORMAL), PkmMove(Power=30, Acc=1.0, PP=10, Type=NORMAL), }) Move 0 Damage 45.0\n",
      "0\n",
      "45.0 PkmType.NORMAL PkmType.NORMAL 30.0 PkmType.NORMAL 0 0 1.0\n",
      "45.0 PkmType.NORMAL PkmType.NORMAL 30.0 PkmType.NORMAL 0 0 1.0\n",
      "45.0 PkmType.NORMAL PkmType.NORMAL 30.0 PkmType.NORMAL 0 0 1.0\n",
      "45.0 PkmType.NORMAL PkmType.NORMAL 30.0 PkmType.NORMAL 0 0 1.0\n",
      "0 Move 3 0 Damage 45.0 Poke Pkm(Type=NORMAL, HP=240, Moves={PkmMove(Power=30, Acc=1.0, PP=10, Type=NORMAL), PkmMove(Power=30, Acc=1.0, PP=10, Type=NORMAL), PkmMove(Power=30, Acc=1.0, PP=10, Type=NORMAL), PkmMove(Power=30, Acc=1.0, PP=10, Type=NORMAL), })\n",
      "Pokemon 0 Pkm(Type=NORMAL, HP=240, Moves={PkmMove(Power=30, Acc=1.0, PP=10, Type=NORMAL), PkmMove(Power=30, Acc=1.0, PP=10, Type=NORMAL), PkmMove(Power=30, Acc=1.0, PP=10, Type=NORMAL), PkmMove(Power=30, Acc=1.0, PP=10, Type=NORMAL), }) Move 0 Damage 45.0\n",
      "45.0 PkmType.NORMAL PkmType.NORMAL 30.0 PkmType.NORMAL 0 0 1.0\n",
      "45.0 PkmType.NORMAL PkmType.NORMAL 30.0 PkmType.NORMAL 0 0 1.0\n",
      "45.0 PkmType.NORMAL PkmType.NORMAL 30.0 PkmType.NORMAL 0 0 1.0\n",
      "45.0 PkmType.NORMAL PkmType.NORMAL 30.0 PkmType.NORMAL 0 0 1.0\n",
      "1 Move 3 0 Damage 45.0 Poke Pkm(Type=NORMAL, HP=240, Moves={PkmMove(Power=30, Acc=1.0, PP=10, Type=NORMAL), PkmMove(Power=30, Acc=1.0, PP=10, Type=NORMAL), PkmMove(Power=30, Acc=1.0, PP=10, Type=NORMAL), PkmMove(Power=30, Acc=1.0, PP=10, Type=NORMAL), })\n",
      "Pokemon 1 Pkm(Type=NORMAL, HP=240, Moves={PkmMove(Power=30, Acc=1.0, PP=10, Type=NORMAL), PkmMove(Power=30, Acc=1.0, PP=10, Type=NORMAL), PkmMove(Power=30, Acc=1.0, PP=10, Type=NORMAL), PkmMove(Power=30, Acc=1.0, PP=10, Type=NORMAL), }) Move 0 Damage 45.0\n",
      "45.0 PkmType.NORMAL PkmType.NORMAL 30.0 PkmType.NORMAL 0 0 1.0\n",
      "45.0 PkmType.NORMAL PkmType.NORMAL 30.0 PkmType.NORMAL 0 0 1.0\n",
      "45.0 PkmType.NORMAL PkmType.NORMAL 30.0 PkmType.NORMAL 0 0 1.0\n",
      "45.0 PkmType.NORMAL PkmType.NORMAL 30.0 PkmType.NORMAL 0 0 1.0\n",
      "2 Move 3 0 Damage 45.0 Poke Pkm(Type=NORMAL, HP=240, Moves={PkmMove(Power=30, Acc=1.0, PP=10, Type=NORMAL), PkmMove(Power=30, Acc=1.0, PP=10, Type=NORMAL), PkmMove(Power=30, Acc=1.0, PP=10, Type=NORMAL), PkmMove(Power=30, Acc=1.0, PP=10, Type=NORMAL), })\n",
      "Pokemon 2 Pkm(Type=NORMAL, HP=240, Moves={PkmMove(Power=30, Acc=1.0, PP=10, Type=NORMAL), PkmMove(Power=30, Acc=1.0, PP=10, Type=NORMAL), PkmMove(Power=30, Acc=1.0, PP=10, Type=NORMAL), PkmMove(Power=30, Acc=1.0, PP=10, Type=NORMAL), }) Move 0 Damage 45.0\n",
      "0\n",
      "45.0 PkmType.NORMAL PkmType.NORMAL 30.0 PkmType.NORMAL 0 0 1.0\n",
      "45.0 PkmType.NORMAL PkmType.NORMAL 30.0 PkmType.NORMAL 0 0 1.0\n",
      "45.0 PkmType.NORMAL PkmType.NORMAL 30.0 PkmType.NORMAL 0 0 1.0\n",
      "45.0 PkmType.NORMAL PkmType.NORMAL 30.0 PkmType.NORMAL 0 0 1.0\n",
      "0 Move 3 0 Damage 45.0 Poke Pkm(Type=NORMAL, HP=240, Moves={PkmMove(Power=30, Acc=1.0, PP=10, Type=NORMAL), PkmMove(Power=30, Acc=1.0, PP=10, Type=NORMAL), PkmMove(Power=30, Acc=1.0, PP=10, Type=NORMAL), PkmMove(Power=30, Acc=1.0, PP=10, Type=NORMAL), })\n",
      "Pokemon 0 Pkm(Type=NORMAL, HP=240, Moves={PkmMove(Power=30, Acc=1.0, PP=10, Type=NORMAL), PkmMove(Power=30, Acc=1.0, PP=10, Type=NORMAL), PkmMove(Power=30, Acc=1.0, PP=10, Type=NORMAL), PkmMove(Power=30, Acc=1.0, PP=10, Type=NORMAL), }) Move 0 Damage 45.0\n",
      "45.0 PkmType.NORMAL PkmType.NORMAL 30.0 PkmType.NORMAL 0 0 1.0\n",
      "45.0 PkmType.NORMAL PkmType.NORMAL 30.0 PkmType.NORMAL 0 0 1.0\n",
      "45.0 PkmType.NORMAL PkmType.NORMAL 30.0 PkmType.NORMAL 0 0 1.0\n",
      "45.0 PkmType.NORMAL PkmType.NORMAL 30.0 PkmType.NORMAL 0 0 1.0\n",
      "1 Move 3 0 Damage 45.0 Poke Pkm(Type=NORMAL, HP=240, Moves={PkmMove(Power=30, Acc=1.0, PP=10, Type=NORMAL), PkmMove(Power=30, Acc=1.0, PP=10, Type=NORMAL), PkmMove(Power=30, Acc=1.0, PP=10, Type=NORMAL), PkmMove(Power=30, Acc=1.0, PP=10, Type=NORMAL), })\n",
      "Pokemon 1 Pkm(Type=NORMAL, HP=240, Moves={PkmMove(Power=30, Acc=1.0, PP=10, Type=NORMAL), PkmMove(Power=30, Acc=1.0, PP=10, Type=NORMAL), PkmMove(Power=30, Acc=1.0, PP=10, Type=NORMAL), PkmMove(Power=30, Acc=1.0, PP=10, Type=NORMAL), }) Move 0 Damage 45.0\n",
      "45.0 PkmType.NORMAL PkmType.NORMAL 30.0 PkmType.NORMAL 0 0 1.0\n",
      "45.0 PkmType.NORMAL PkmType.NORMAL 30.0 PkmType.NORMAL 0 0 1.0\n",
      "45.0 PkmType.NORMAL PkmType.NORMAL 30.0 PkmType.NORMAL 0 0 1.0\n",
      "45.0 PkmType.NORMAL PkmType.NORMAL 30.0 PkmType.NORMAL 0 0 1.0\n",
      "2 Move 3 0 Damage 45.0 Poke Pkm(Type=NORMAL, HP=240, Moves={PkmMove(Power=30, Acc=1.0, PP=10, Type=NORMAL), PkmMove(Power=30, Acc=1.0, PP=10, Type=NORMAL), PkmMove(Power=30, Acc=1.0, PP=10, Type=NORMAL), PkmMove(Power=30, Acc=1.0, PP=10, Type=NORMAL), })\n",
      "Pokemon 2 Pkm(Type=NORMAL, HP=240, Moves={PkmMove(Power=30, Acc=1.0, PP=10, Type=NORMAL), PkmMove(Power=30, Acc=1.0, PP=10, Type=NORMAL), PkmMove(Power=30, Acc=1.0, PP=10, Type=NORMAL), PkmMove(Power=30, Acc=1.0, PP=10, Type=NORMAL), }) Move 0 Damage 45.0\n",
      "0\n"
     ]
    }
   ],
   "source": [
    "test_nibot = NiBot()\n",
    "for i in range(10):\n",
    "    #test_nibot.get_action(obs[1])\n",
    "    print(test_nibot.get_action(obs[1]))"
   ]
  },
  {
   "cell_type": "markdown",
   "metadata": {},
   "source": [
    "#### Testing nibot"
   ]
  },
  {
   "cell_type": "code",
   "execution_count": 24,
   "metadata": {},
   "outputs": [
    {
     "name": "stdout",
     "output_type": "stream",
     "text": [
      "pkm moves is  [<vgc.datatypes.Objects.PkmMove object at 0x00000192B756E9D0>, <vgc.datatypes.Objects.PkmMove object at 0x00000192B756E7F0>, <vgc.datatypes.Objects.PkmMove object at 0x00000192B756E730>, <vgc.datatypes.Objects.PkmMove object at 0x00000192B756E250>]\n",
      "0 Move 0 0 Damage 238.5 Poke Pkm(Type=BUG, HP=156, Moves={PkmMove(Power=318, Acc=1.0, PP=10, Type=BUG), PkmMove(Power=30, Acc=1.0, PP=10, Type=FIGHT), PkmMove(Power=30, Acc=1.0, PP=10, Type=BUG), PkmMove(Power=66, Acc=1.0, PP=10, Type=BUG), })\n",
      "0 Move 1 0 Damage 238.5 Poke Pkm(Type=BUG, HP=156, Moves={PkmMove(Power=318, Acc=1.0, PP=10, Type=BUG), PkmMove(Power=30, Acc=1.0, PP=10, Type=FIGHT), PkmMove(Power=30, Acc=1.0, PP=10, Type=BUG), PkmMove(Power=66, Acc=1.0, PP=10, Type=BUG), })\n",
      "0 Move 2 0 Damage 238.5 Poke Pkm(Type=BUG, HP=156, Moves={PkmMove(Power=318, Acc=1.0, PP=10, Type=BUG), PkmMove(Power=30, Acc=1.0, PP=10, Type=FIGHT), PkmMove(Power=30, Acc=1.0, PP=10, Type=BUG), PkmMove(Power=66, Acc=1.0, PP=10, Type=BUG), })\n",
      "0 Move 3 0 Damage 238.5 Poke Pkm(Type=BUG, HP=156, Moves={PkmMove(Power=318, Acc=1.0, PP=10, Type=BUG), PkmMove(Power=30, Acc=1.0, PP=10, Type=FIGHT), PkmMove(Power=30, Acc=1.0, PP=10, Type=BUG), PkmMove(Power=66, Acc=1.0, PP=10, Type=BUG), })\n",
      "pkm moves is  [<vgc.datatypes.Objects.PkmMove object at 0x00000192B756EFD0>, <vgc.datatypes.Objects.PkmMove object at 0x00000192B756E340>, <vgc.datatypes.Objects.PkmMove object at 0x00000192B756E850>, <vgc.datatypes.Objects.PkmMove object at 0x00000192B756EEB0>]\n",
      "1 Move 0 0 Damage 238.5 Poke Pkm(Type=ELECTRIC, HP=156, Moves={PkmMove(Power=30, Acc=1.0, PP=10, Type=ELECTRIC), PkmMove(Power=138, Acc=1.0, PP=10, Type=FIGHT), PkmMove(Power=138, Acc=1.0, PP=10, Type=ROCK), PkmMove(Power=138, Acc=1.0, PP=10, Type=FLYING), })\n",
      "1 Move 1 0 Damage 238.5 Poke Pkm(Type=ELECTRIC, HP=156, Moves={PkmMove(Power=30, Acc=1.0, PP=10, Type=ELECTRIC), PkmMove(Power=138, Acc=1.0, PP=10, Type=FIGHT), PkmMove(Power=138, Acc=1.0, PP=10, Type=ROCK), PkmMove(Power=138, Acc=1.0, PP=10, Type=FLYING), })\n",
      "1 Move 2 6 Damage 276.0 Poke Pkm(Type=ELECTRIC, HP=156, Moves={PkmMove(Power=30, Acc=1.0, PP=10, Type=ELECTRIC), PkmMove(Power=138, Acc=1.0, PP=10, Type=FIGHT), PkmMove(Power=138, Acc=1.0, PP=10, Type=ROCK), PkmMove(Power=138, Acc=1.0, PP=10, Type=FLYING), })\n",
      "1 Move 3 6 Damage 276.0 Poke Pkm(Type=ELECTRIC, HP=156, Moves={PkmMove(Power=30, Acc=1.0, PP=10, Type=ELECTRIC), PkmMove(Power=138, Acc=1.0, PP=10, Type=FIGHT), PkmMove(Power=138, Acc=1.0, PP=10, Type=ROCK), PkmMove(Power=138, Acc=1.0, PP=10, Type=FLYING), })\n",
      "pkm moves is  [<vgc.datatypes.Objects.PkmMove object at 0x00000192B756E580>, <vgc.datatypes.Objects.PkmMove object at 0x00000192B756EFA0>, <vgc.datatypes.Objects.PkmMove object at 0x00000192B756E2B0>, <vgc.datatypes.Objects.PkmMove object at 0x00000192B756E790>]\n",
      "2 Move 0 6 Damage 276.0 Poke Pkm(Type=GRASS, HP=372, Moves={PkmMove(Power=66, Acc=1.0, PP=10, Type=GRASS), PkmMove(Power=30, Acc=1.0, PP=10, Type=STEEL), PkmMove(Power=30, Acc=1.0, PP=10, Type=FAIRY), PkmMove(Power=102, Acc=1.0, PP=10, Type=NORMAL), })\n",
      "2 Move 1 6 Damage 276.0 Poke Pkm(Type=GRASS, HP=372, Moves={PkmMove(Power=66, Acc=1.0, PP=10, Type=GRASS), PkmMove(Power=30, Acc=1.0, PP=10, Type=STEEL), PkmMove(Power=30, Acc=1.0, PP=10, Type=FAIRY), PkmMove(Power=102, Acc=1.0, PP=10, Type=NORMAL), })\n",
      "2 Move 2 6 Damage 276.0 Poke Pkm(Type=GRASS, HP=372, Moves={PkmMove(Power=66, Acc=1.0, PP=10, Type=GRASS), PkmMove(Power=30, Acc=1.0, PP=10, Type=STEEL), PkmMove(Power=30, Acc=1.0, PP=10, Type=FAIRY), PkmMove(Power=102, Acc=1.0, PP=10, Type=NORMAL), })\n",
      "2 Move 3 6 Damage 276.0 Poke Pkm(Type=GRASS, HP=372, Moves={PkmMove(Power=66, Acc=1.0, PP=10, Type=GRASS), PkmMove(Power=30, Acc=1.0, PP=10, Type=STEEL), PkmMove(Power=30, Acc=1.0, PP=10, Type=FAIRY), PkmMove(Power=102, Acc=1.0, PP=10, Type=NORMAL), })\n",
      "pkm moves is  [<vgc.datatypes.Objects.PkmMove object at 0x00000192B7363880>, <vgc.datatypes.Objects.PkmMove object at 0x00000192B7363AC0>, <vgc.datatypes.Objects.PkmMove object at 0x00000192B7363970>, <vgc.datatypes.Objects.PkmMove object at 0x00000192B7363FA0>]\n",
      "0 Move 0 0 Damage 90.0 Poke Pkm(Type=ELECTRIC, HP=18, Moves={PkmMove(Power=30, Acc=1.0, PP=10, Type=ELECTRIC), PkmMove(Power=138, Acc=1.0, PP=10, Type=FIGHT), PkmMove(Power=138, Acc=1.0, PP=10, Type=ROCK), PkmMove(Power=138, Acc=1.0, PP=10, Type=FLYING), })\n",
      "0 Move 1 0 Damage 90.0 Poke Pkm(Type=ELECTRIC, HP=18, Moves={PkmMove(Power=30, Acc=1.0, PP=10, Type=ELECTRIC), PkmMove(Power=138, Acc=1.0, PP=10, Type=FIGHT), PkmMove(Power=138, Acc=1.0, PP=10, Type=ROCK), PkmMove(Power=138, Acc=1.0, PP=10, Type=FLYING), })\n",
      "0 Move 2 2 Damage 276.0 Poke Pkm(Type=ELECTRIC, HP=18, Moves={PkmMove(Power=30, Acc=1.0, PP=10, Type=ELECTRIC), PkmMove(Power=138, Acc=1.0, PP=10, Type=FIGHT), PkmMove(Power=138, Acc=1.0, PP=10, Type=ROCK), PkmMove(Power=138, Acc=1.0, PP=10, Type=FLYING), })\n",
      "0 Move 3 2 Damage 276.0 Poke Pkm(Type=ELECTRIC, HP=18, Moves={PkmMove(Power=30, Acc=1.0, PP=10, Type=ELECTRIC), PkmMove(Power=138, Acc=1.0, PP=10, Type=FIGHT), PkmMove(Power=138, Acc=1.0, PP=10, Type=ROCK), PkmMove(Power=138, Acc=1.0, PP=10, Type=FLYING), })\n",
      "pkm moves is  [<vgc.datatypes.Objects.PkmMove object at 0x00000192B7363A00>, <vgc.datatypes.Objects.PkmMove object at 0x00000192B7363DF0>, <vgc.datatypes.Objects.PkmMove object at 0x00000192B7363D90>, <vgc.datatypes.Objects.PkmMove object at 0x00000192B7363FD0>]\n",
      "1 Move 0 2 Damage 276.0 Poke Pkm(Type=BUG, HP=156, Moves={PkmMove(Power=318, Acc=1.0, PP=10, Type=BUG), PkmMove(Power=30, Acc=1.0, PP=10, Type=FIGHT), PkmMove(Power=30, Acc=1.0, PP=10, Type=BUG), PkmMove(Power=66, Acc=1.0, PP=10, Type=BUG), })\n",
      "1 Move 1 2 Damage 276.0 Poke Pkm(Type=BUG, HP=156, Moves={PkmMove(Power=318, Acc=1.0, PP=10, Type=BUG), PkmMove(Power=30, Acc=1.0, PP=10, Type=FIGHT), PkmMove(Power=30, Acc=1.0, PP=10, Type=BUG), PkmMove(Power=66, Acc=1.0, PP=10, Type=BUG), })\n",
      "1 Move 2 2 Damage 276.0 Poke Pkm(Type=BUG, HP=156, Moves={PkmMove(Power=318, Acc=1.0, PP=10, Type=BUG), PkmMove(Power=30, Acc=1.0, PP=10, Type=FIGHT), PkmMove(Power=30, Acc=1.0, PP=10, Type=BUG), PkmMove(Power=66, Acc=1.0, PP=10, Type=BUG), })\n",
      "1 Move 3 2 Damage 276.0 Poke Pkm(Type=BUG, HP=156, Moves={PkmMove(Power=318, Acc=1.0, PP=10, Type=BUG), PkmMove(Power=30, Acc=1.0, PP=10, Type=FIGHT), PkmMove(Power=30, Acc=1.0, PP=10, Type=BUG), PkmMove(Power=66, Acc=1.0, PP=10, Type=BUG), })\n",
      "pkm moves is  [<vgc.datatypes.Objects.PkmMove object at 0x00000192B7363BB0>, <vgc.datatypes.Objects.PkmMove object at 0x00000192B7363A90>, <vgc.datatypes.Objects.PkmMove object at 0x00000192B7363D30>, <vgc.datatypes.Objects.PkmMove object at 0x00000192B7363EE0>]\n",
      "2 Move 0 2 Damage 276.0 Poke Pkm(Type=GRASS, HP=372, Moves={PkmMove(Power=66, Acc=1.0, PP=10, Type=GRASS), PkmMove(Power=30, Acc=1.0, PP=10, Type=STEEL), PkmMove(Power=30, Acc=1.0, PP=10, Type=FAIRY), PkmMove(Power=102, Acc=1.0, PP=10, Type=NORMAL), })\n",
      "2 Move 1 2 Damage 276.0 Poke Pkm(Type=GRASS, HP=372, Moves={PkmMove(Power=66, Acc=1.0, PP=10, Type=GRASS), PkmMove(Power=30, Acc=1.0, PP=10, Type=STEEL), PkmMove(Power=30, Acc=1.0, PP=10, Type=FAIRY), PkmMove(Power=102, Acc=1.0, PP=10, Type=NORMAL), })\n",
      "2 Move 2 2 Damage 276.0 Poke Pkm(Type=GRASS, HP=372, Moves={PkmMove(Power=66, Acc=1.0, PP=10, Type=GRASS), PkmMove(Power=30, Acc=1.0, PP=10, Type=STEEL), PkmMove(Power=30, Acc=1.0, PP=10, Type=FAIRY), PkmMove(Power=102, Acc=1.0, PP=10, Type=NORMAL), })\n",
      "2 Move 3 2 Damage 276.0 Poke Pkm(Type=GRASS, HP=372, Moves={PkmMove(Power=66, Acc=1.0, PP=10, Type=GRASS), PkmMove(Power=30, Acc=1.0, PP=10, Type=STEEL), PkmMove(Power=30, Acc=1.0, PP=10, Type=FAIRY), PkmMove(Power=102, Acc=1.0, PP=10, Type=NORMAL), })\n",
      "pkm moves is  [<vgc.datatypes.Objects.PkmMove object at 0x00000192B74A7370>, <vgc.datatypes.Objects.PkmMove object at 0x00000192B74A7BB0>, <vgc.datatypes.Objects.PkmMove object at 0x00000192B74A7130>, <vgc.datatypes.Objects.PkmMove object at 0x00000192B74A74F0>]\n",
      "0 Move 0 0 Damage 45.0 Poke Pkm(Type=ELECTRIC, HP=18, Moves={PkmMove(Power=30, Acc=1.0, PP=10, Type=ELECTRIC), PkmMove(Power=138, Acc=1.0, PP=10, Type=FIGHT), PkmMove(Power=138, Acc=1.0, PP=9, Type=ROCK), PkmMove(Power=138, Acc=1.0, PP=10, Type=FLYING), })\n",
      "0 Move 1 1 Damage 276.0 Poke Pkm(Type=ELECTRIC, HP=18, Moves={PkmMove(Power=30, Acc=1.0, PP=10, Type=ELECTRIC), PkmMove(Power=138, Acc=1.0, PP=10, Type=FIGHT), PkmMove(Power=138, Acc=1.0, PP=9, Type=ROCK), PkmMove(Power=138, Acc=1.0, PP=10, Type=FLYING), })\n",
      "0 Move 2 1 Damage 276.0 Poke Pkm(Type=ELECTRIC, HP=18, Moves={PkmMove(Power=30, Acc=1.0, PP=10, Type=ELECTRIC), PkmMove(Power=138, Acc=1.0, PP=10, Type=FIGHT), PkmMove(Power=138, Acc=1.0, PP=9, Type=ROCK), PkmMove(Power=138, Acc=1.0, PP=10, Type=FLYING), })\n",
      "0 Move 3 1 Damage 276.0 Poke Pkm(Type=ELECTRIC, HP=18, Moves={PkmMove(Power=30, Acc=1.0, PP=10, Type=ELECTRIC), PkmMove(Power=138, Acc=1.0, PP=10, Type=FIGHT), PkmMove(Power=138, Acc=1.0, PP=9, Type=ROCK), PkmMove(Power=138, Acc=1.0, PP=10, Type=FLYING), })\n",
      "pkm moves is  [<vgc.datatypes.Objects.PkmMove object at 0x00000192B74A7670>, <vgc.datatypes.Objects.PkmMove object at 0x00000192B74A7B50>, <vgc.datatypes.Objects.PkmMove object at 0x00000192B74A1580>, <vgc.datatypes.Objects.PkmMove object at 0x00000192B74A1670>]\n",
      "1 Move 0 1 Damage 276.0 Poke Pkm(Type=BUG, HP=156, Moves={PkmMove(Power=318, Acc=1.0, PP=10, Type=BUG), PkmMove(Power=30, Acc=1.0, PP=10, Type=FIGHT), PkmMove(Power=30, Acc=1.0, PP=10, Type=BUG), PkmMove(Power=66, Acc=1.0, PP=10, Type=BUG), })\n",
      "1 Move 1 1 Damage 276.0 Poke Pkm(Type=BUG, HP=156, Moves={PkmMove(Power=318, Acc=1.0, PP=10, Type=BUG), PkmMove(Power=30, Acc=1.0, PP=10, Type=FIGHT), PkmMove(Power=30, Acc=1.0, PP=10, Type=BUG), PkmMove(Power=66, Acc=1.0, PP=10, Type=BUG), })\n",
      "1 Move 2 1 Damage 276.0 Poke Pkm(Type=BUG, HP=156, Moves={PkmMove(Power=318, Acc=1.0, PP=10, Type=BUG), PkmMove(Power=30, Acc=1.0, PP=10, Type=FIGHT), PkmMove(Power=30, Acc=1.0, PP=10, Type=BUG), PkmMove(Power=66, Acc=1.0, PP=10, Type=BUG), })\n",
      "1 Move 3 1 Damage 276.0 Poke Pkm(Type=BUG, HP=156, Moves={PkmMove(Power=318, Acc=1.0, PP=10, Type=BUG), PkmMove(Power=30, Acc=1.0, PP=10, Type=FIGHT), PkmMove(Power=30, Acc=1.0, PP=10, Type=BUG), PkmMove(Power=66, Acc=1.0, PP=10, Type=BUG), })\n",
      "pkm moves is  [<vgc.datatypes.Objects.PkmMove object at 0x00000192B74A18B0>, <vgc.datatypes.Objects.PkmMove object at 0x00000192B74A1820>, <vgc.datatypes.Objects.PkmMove object at 0x00000192B74A1E20>, <vgc.datatypes.Objects.PkmMove object at 0x00000192B74A17C0>]\n",
      "2 Move 0 1 Damage 276.0 Poke Pkm(Type=GRASS, HP=372, Moves={PkmMove(Power=66, Acc=1.0, PP=10, Type=GRASS), PkmMove(Power=30, Acc=1.0, PP=10, Type=STEEL), PkmMove(Power=30, Acc=1.0, PP=10, Type=FAIRY), PkmMove(Power=102, Acc=1.0, PP=10, Type=NORMAL), })\n",
      "2 Move 1 1 Damage 276.0 Poke Pkm(Type=GRASS, HP=372, Moves={PkmMove(Power=66, Acc=1.0, PP=10, Type=GRASS), PkmMove(Power=30, Acc=1.0, PP=10, Type=STEEL), PkmMove(Power=30, Acc=1.0, PP=10, Type=FAIRY), PkmMove(Power=102, Acc=1.0, PP=10, Type=NORMAL), })\n",
      "2 Move 2 1 Damage 276.0 Poke Pkm(Type=GRASS, HP=372, Moves={PkmMove(Power=66, Acc=1.0, PP=10, Type=GRASS), PkmMove(Power=30, Acc=1.0, PP=10, Type=STEEL), PkmMove(Power=30, Acc=1.0, PP=10, Type=FAIRY), PkmMove(Power=102, Acc=1.0, PP=10, Type=NORMAL), })\n",
      "2 Move 3 1 Damage 276.0 Poke Pkm(Type=GRASS, HP=372, Moves={PkmMove(Power=66, Acc=1.0, PP=10, Type=GRASS), PkmMove(Power=30, Acc=1.0, PP=10, Type=STEEL), PkmMove(Power=30, Acc=1.0, PP=10, Type=FAIRY), PkmMove(Power=102, Acc=1.0, PP=10, Type=NORMAL), })\n",
      "pkm moves is  [<vgc.datatypes.Objects.PkmMove object at 0x00000192B74043D0>, <vgc.datatypes.Objects.PkmMove object at 0x00000192B74044C0>, <vgc.datatypes.Objects.PkmMove object at 0x00000192B7404D00>, <vgc.datatypes.Objects.PkmMove object at 0x00000192B7404B80>]\n",
      "0 Move 0 0 Damage 45.0 Poke Pkm(Type=ELECTRIC, HP=18, Moves={PkmMove(Power=30, Acc=1.0, PP=10, Type=ELECTRIC), PkmMove(Power=138, Acc=1.0, PP=9, Type=FIGHT), PkmMove(Power=138, Acc=1.0, PP=9, Type=ROCK), PkmMove(Power=138, Acc=1.0, PP=10, Type=FLYING), })\n",
      "0 Move 1 1 Damage 276.0 Poke Pkm(Type=ELECTRIC, HP=18, Moves={PkmMove(Power=30, Acc=1.0, PP=10, Type=ELECTRIC), PkmMove(Power=138, Acc=1.0, PP=9, Type=FIGHT), PkmMove(Power=138, Acc=1.0, PP=9, Type=ROCK), PkmMove(Power=138, Acc=1.0, PP=10, Type=FLYING), })\n",
      "0 Move 2 1 Damage 276.0 Poke Pkm(Type=ELECTRIC, HP=18, Moves={PkmMove(Power=30, Acc=1.0, PP=10, Type=ELECTRIC), PkmMove(Power=138, Acc=1.0, PP=9, Type=FIGHT), PkmMove(Power=138, Acc=1.0, PP=9, Type=ROCK), PkmMove(Power=138, Acc=1.0, PP=10, Type=FLYING), })\n",
      "0 Move 3 1 Damage 276.0 Poke Pkm(Type=ELECTRIC, HP=18, Moves={PkmMove(Power=30, Acc=1.0, PP=10, Type=ELECTRIC), PkmMove(Power=138, Acc=1.0, PP=9, Type=FIGHT), PkmMove(Power=138, Acc=1.0, PP=9, Type=ROCK), PkmMove(Power=138, Acc=1.0, PP=10, Type=FLYING), })\n",
      "pkm moves is  [<vgc.datatypes.Objects.PkmMove object at 0x00000192B7404070>, <vgc.datatypes.Objects.PkmMove object at 0x00000192B74048E0>, <vgc.datatypes.Objects.PkmMove object at 0x00000192B7404190>, <vgc.datatypes.Objects.PkmMove object at 0x00000192B7404880>]\n",
      "1 Move 0 1 Damage 276.0 Poke Pkm(Type=BUG, HP=156, Moves={PkmMove(Power=318, Acc=1.0, PP=10, Type=BUG), PkmMove(Power=30, Acc=1.0, PP=10, Type=FIGHT), PkmMove(Power=30, Acc=1.0, PP=10, Type=BUG), PkmMove(Power=66, Acc=1.0, PP=10, Type=BUG), })\n",
      "1 Move 1 1 Damage 276.0 Poke Pkm(Type=BUG, HP=156, Moves={PkmMove(Power=318, Acc=1.0, PP=10, Type=BUG), PkmMove(Power=30, Acc=1.0, PP=10, Type=FIGHT), PkmMove(Power=30, Acc=1.0, PP=10, Type=BUG), PkmMove(Power=66, Acc=1.0, PP=10, Type=BUG), })\n",
      "1 Move 2 1 Damage 276.0 Poke Pkm(Type=BUG, HP=156, Moves={PkmMove(Power=318, Acc=1.0, PP=10, Type=BUG), PkmMove(Power=30, Acc=1.0, PP=10, Type=FIGHT), PkmMove(Power=30, Acc=1.0, PP=10, Type=BUG), PkmMove(Power=66, Acc=1.0, PP=10, Type=BUG), })\n",
      "1 Move 3 1 Damage 276.0 Poke Pkm(Type=BUG, HP=156, Moves={PkmMove(Power=318, Acc=1.0, PP=10, Type=BUG), PkmMove(Power=30, Acc=1.0, PP=10, Type=FIGHT), PkmMove(Power=30, Acc=1.0, PP=10, Type=BUG), PkmMove(Power=66, Acc=1.0, PP=10, Type=BUG), })\n",
      "pkm moves is  [<vgc.datatypes.Objects.PkmMove object at 0x00000192B74047F0>, <vgc.datatypes.Objects.PkmMove object at 0x00000192B7404CD0>, <vgc.datatypes.Objects.PkmMove object at 0x00000192B7404D90>, <vgc.datatypes.Objects.PkmMove object at 0x00000192B7404EE0>]\n",
      "2 Move 0 1 Damage 276.0 Poke Pkm(Type=GRASS, HP=372, Moves={PkmMove(Power=66, Acc=1.0, PP=10, Type=GRASS), PkmMove(Power=30, Acc=1.0, PP=10, Type=STEEL), PkmMove(Power=30, Acc=1.0, PP=10, Type=FAIRY), PkmMove(Power=102, Acc=1.0, PP=10, Type=NORMAL), })\n",
      "2 Move 1 1 Damage 276.0 Poke Pkm(Type=GRASS, HP=372, Moves={PkmMove(Power=66, Acc=1.0, PP=10, Type=GRASS), PkmMove(Power=30, Acc=1.0, PP=10, Type=STEEL), PkmMove(Power=30, Acc=1.0, PP=10, Type=FAIRY), PkmMove(Power=102, Acc=1.0, PP=10, Type=NORMAL), })\n",
      "2 Move 2 1 Damage 276.0 Poke Pkm(Type=GRASS, HP=372, Moves={PkmMove(Power=66, Acc=1.0, PP=10, Type=GRASS), PkmMove(Power=30, Acc=1.0, PP=10, Type=STEEL), PkmMove(Power=30, Acc=1.0, PP=10, Type=FAIRY), PkmMove(Power=102, Acc=1.0, PP=10, Type=NORMAL), })\n",
      "2 Move 3 1 Damage 276.0 Poke Pkm(Type=GRASS, HP=372, Moves={PkmMove(Power=66, Acc=1.0, PP=10, Type=GRASS), PkmMove(Power=30, Acc=1.0, PP=10, Type=STEEL), PkmMove(Power=30, Acc=1.0, PP=10, Type=FAIRY), PkmMove(Power=102, Acc=1.0, PP=10, Type=NORMAL), })\n",
      "pkm moves is  [<vgc.datatypes.Objects.PkmMove object at 0x00000192B74A72B0>, <vgc.datatypes.Objects.PkmMove object at 0x00000192B74A7D30>, <vgc.datatypes.Objects.PkmMove object at 0x00000192B74A7E50>, <vgc.datatypes.Objects.PkmMove object at 0x00000192B74A78B0>]\n",
      "0 Move 0 0 Damage 49.5 Poke Pkm(Type=GRASS, HP=372, Moves={PkmMove(Power=66, Acc=1.0, PP=10, Type=GRASS), PkmMove(Power=30, Acc=1.0, PP=10, Type=STEEL), PkmMove(Power=30, Acc=1.0, PP=10, Type=FAIRY), PkmMove(Power=102, Acc=1.0, PP=10, Type=NORMAL), })\n",
      "0 Move 1 0 Damage 49.5 Poke Pkm(Type=GRASS, HP=372, Moves={PkmMove(Power=66, Acc=1.0, PP=10, Type=GRASS), PkmMove(Power=30, Acc=1.0, PP=10, Type=STEEL), PkmMove(Power=30, Acc=1.0, PP=10, Type=FAIRY), PkmMove(Power=102, Acc=1.0, PP=10, Type=NORMAL), })\n",
      "0 Move 2 0 Damage 49.5 Poke Pkm(Type=GRASS, HP=372, Moves={PkmMove(Power=66, Acc=1.0, PP=10, Type=GRASS), PkmMove(Power=30, Acc=1.0, PP=10, Type=STEEL), PkmMove(Power=30, Acc=1.0, PP=10, Type=FAIRY), PkmMove(Power=102, Acc=1.0, PP=10, Type=NORMAL), })\n",
      "0 Move 3 3 Damage 51.0 Poke Pkm(Type=GRASS, HP=372, Moves={PkmMove(Power=66, Acc=1.0, PP=10, Type=GRASS), PkmMove(Power=30, Acc=1.0, PP=10, Type=STEEL), PkmMove(Power=30, Acc=1.0, PP=10, Type=FAIRY), PkmMove(Power=102, Acc=1.0, PP=10, Type=NORMAL), })\n",
      "pkm moves is  [<vgc.datatypes.Objects.PkmMove object at 0x00000192B74A75E0>, <vgc.datatypes.Objects.PkmMove object at 0x00000192B7551FA0>, <vgc.datatypes.Objects.PkmMove object at 0x00000192B74A76A0>, <vgc.datatypes.Objects.PkmMove object at 0x00000192B7551AF0>]\n",
      "1 Move 0 4 Damage 238.5 Poke Pkm(Type=BUG, HP=156, Moves={PkmMove(Power=318, Acc=1.0, PP=10, Type=BUG), PkmMove(Power=30, Acc=1.0, PP=10, Type=FIGHT), PkmMove(Power=30, Acc=1.0, PP=10, Type=BUG), PkmMove(Power=66, Acc=1.0, PP=10, Type=BUG), })\n",
      "1 Move 1 4 Damage 238.5 Poke Pkm(Type=BUG, HP=156, Moves={PkmMove(Power=318, Acc=1.0, PP=10, Type=BUG), PkmMove(Power=30, Acc=1.0, PP=10, Type=FIGHT), PkmMove(Power=30, Acc=1.0, PP=10, Type=BUG), PkmMove(Power=66, Acc=1.0, PP=10, Type=BUG), })\n",
      "1 Move 2 4 Damage 238.5 Poke Pkm(Type=BUG, HP=156, Moves={PkmMove(Power=318, Acc=1.0, PP=10, Type=BUG), PkmMove(Power=30, Acc=1.0, PP=10, Type=FIGHT), PkmMove(Power=30, Acc=1.0, PP=10, Type=BUG), PkmMove(Power=66, Acc=1.0, PP=10, Type=BUG), })\n",
      "1 Move 3 4 Damage 238.5 Poke Pkm(Type=BUG, HP=156, Moves={PkmMove(Power=318, Acc=1.0, PP=10, Type=BUG), PkmMove(Power=30, Acc=1.0, PP=10, Type=FIGHT), PkmMove(Power=30, Acc=1.0, PP=10, Type=BUG), PkmMove(Power=66, Acc=1.0, PP=10, Type=BUG), })\n",
      "pkm moves is  [<vgc.datatypes.Objects.PkmMove object at 0x00000192B7551520>, <vgc.datatypes.Objects.PkmMove object at 0x00000192B7551E80>, <vgc.datatypes.Objects.PkmMove object at 0x00000192B75518E0>, <vgc.datatypes.Objects.PkmMove object at 0x00000192B7551E20>]\n",
      "pkm moves is  [<vgc.datatypes.Objects.PkmMove object at 0x00000192B74BFAC0>, <vgc.datatypes.Objects.PkmMove object at 0x00000192B74BFFD0>, <vgc.datatypes.Objects.PkmMove object at 0x00000192B74BFE50>, <vgc.datatypes.Objects.PkmMove object at 0x00000192B756E8B0>]\n",
      "0 Move 0 0 Damage 238.5 Poke Pkm(Type=BUG, HP=90, Moves={PkmMove(Power=318, Acc=1.0, PP=10, Type=BUG), PkmMove(Power=30, Acc=1.0, PP=10, Type=FIGHT), PkmMove(Power=30, Acc=1.0, PP=10, Type=BUG), PkmMove(Power=66, Acc=1.0, PP=10, Type=BUG), })\n",
      "0 Move 1 0 Damage 238.5 Poke Pkm(Type=BUG, HP=90, Moves={PkmMove(Power=318, Acc=1.0, PP=10, Type=BUG), PkmMove(Power=30, Acc=1.0, PP=10, Type=FIGHT), PkmMove(Power=30, Acc=1.0, PP=10, Type=BUG), PkmMove(Power=66, Acc=1.0, PP=10, Type=BUG), })\n",
      "0 Move 2 0 Damage 238.5 Poke Pkm(Type=BUG, HP=90, Moves={PkmMove(Power=318, Acc=1.0, PP=10, Type=BUG), PkmMove(Power=30, Acc=1.0, PP=10, Type=FIGHT), PkmMove(Power=30, Acc=1.0, PP=10, Type=BUG), PkmMove(Power=66, Acc=1.0, PP=10, Type=BUG), })\n",
      "0 Move 3 0 Damage 238.5 Poke Pkm(Type=BUG, HP=90, Moves={PkmMove(Power=318, Acc=1.0, PP=10, Type=BUG), PkmMove(Power=30, Acc=1.0, PP=10, Type=FIGHT), PkmMove(Power=30, Acc=1.0, PP=10, Type=BUG), PkmMove(Power=66, Acc=1.0, PP=10, Type=BUG), })\n",
      "pkm moves is  [<vgc.datatypes.Objects.PkmMove object at 0x00000192B756EA00>, <vgc.datatypes.Objects.PkmMove object at 0x00000192B756E6D0>, <vgc.datatypes.Objects.PkmMove object at 0x00000192B756EAF0>, <vgc.datatypes.Objects.PkmMove object at 0x00000192B756EC40>]\n",
      "1 Move 0 0 Damage 238.5 Poke Pkm(Type=GRASS, HP=372, Moves={PkmMove(Power=66, Acc=1.0, PP=10, Type=GRASS), PkmMove(Power=30, Acc=1.0, PP=10, Type=STEEL), PkmMove(Power=30, Acc=1.0, PP=10, Type=FAIRY), PkmMove(Power=102, Acc=1.0, PP=10, Type=NORMAL), })\n",
      "1 Move 1 0 Damage 238.5 Poke Pkm(Type=GRASS, HP=372, Moves={PkmMove(Power=66, Acc=1.0, PP=10, Type=GRASS), PkmMove(Power=30, Acc=1.0, PP=10, Type=STEEL), PkmMove(Power=30, Acc=1.0, PP=10, Type=FAIRY), PkmMove(Power=102, Acc=1.0, PP=10, Type=NORMAL), })\n",
      "1 Move 2 0 Damage 238.5 Poke Pkm(Type=GRASS, HP=372, Moves={PkmMove(Power=66, Acc=1.0, PP=10, Type=GRASS), PkmMove(Power=30, Acc=1.0, PP=10, Type=STEEL), PkmMove(Power=30, Acc=1.0, PP=10, Type=FAIRY), PkmMove(Power=102, Acc=1.0, PP=10, Type=NORMAL), })\n",
      "1 Move 3 0 Damage 238.5 Poke Pkm(Type=GRASS, HP=372, Moves={PkmMove(Power=66, Acc=1.0, PP=10, Type=GRASS), PkmMove(Power=30, Acc=1.0, PP=10, Type=STEEL), PkmMove(Power=30, Acc=1.0, PP=10, Type=FAIRY), PkmMove(Power=102, Acc=1.0, PP=10, Type=NORMAL), })\n",
      "pkm moves is  [<vgc.datatypes.Objects.PkmMove object at 0x00000192B756E640>, <vgc.datatypes.Objects.PkmMove object at 0x00000192B756EDF0>, <vgc.datatypes.Objects.PkmMove object at 0x00000192B756EC70>, <vgc.datatypes.Objects.PkmMove object at 0x00000192B756E280>]\n",
      "pkm moves is  [<vgc.datatypes.Objects.PkmMove object at 0x00000192B7590D00>, <vgc.datatypes.Objects.PkmMove object at 0x00000192B7590940>, <vgc.datatypes.Objects.PkmMove object at 0x00000192B7590D30>, <vgc.datatypes.Objects.PkmMove object at 0x00000192B75904F0>]\n",
      "0 Move 0 0 Damage 49.5 Poke Pkm(Type=GRASS, HP=372, Moves={PkmMove(Power=66, Acc=1.0, PP=10, Type=GRASS), PkmMove(Power=30, Acc=1.0, PP=10, Type=STEEL), PkmMove(Power=30, Acc=1.0, PP=10, Type=FAIRY), PkmMove(Power=102, Acc=1.0, PP=10, Type=NORMAL), })\n",
      "0 Move 1 0 Damage 49.5 Poke Pkm(Type=GRASS, HP=372, Moves={PkmMove(Power=66, Acc=1.0, PP=10, Type=GRASS), PkmMove(Power=30, Acc=1.0, PP=10, Type=STEEL), PkmMove(Power=30, Acc=1.0, PP=10, Type=FAIRY), PkmMove(Power=102, Acc=1.0, PP=10, Type=NORMAL), })\n",
      "0 Move 2 0 Damage 49.5 Poke Pkm(Type=GRASS, HP=372, Moves={PkmMove(Power=66, Acc=1.0, PP=10, Type=GRASS), PkmMove(Power=30, Acc=1.0, PP=10, Type=STEEL), PkmMove(Power=30, Acc=1.0, PP=10, Type=FAIRY), PkmMove(Power=102, Acc=1.0, PP=10, Type=NORMAL), })\n",
      "0 Move 3 3 Damage 51.0 Poke Pkm(Type=GRASS, HP=372, Moves={PkmMove(Power=66, Acc=1.0, PP=10, Type=GRASS), PkmMove(Power=30, Acc=1.0, PP=10, Type=STEEL), PkmMove(Power=30, Acc=1.0, PP=10, Type=FAIRY), PkmMove(Power=102, Acc=1.0, PP=10, Type=NORMAL), })\n",
      "pkm moves is  [<vgc.datatypes.Objects.PkmMove object at 0x00000192B75908E0>, <vgc.datatypes.Objects.PkmMove object at 0x00000192B7590610>, <vgc.datatypes.Objects.PkmMove object at 0x00000192B7590D60>, <vgc.datatypes.Objects.PkmMove object at 0x00000192B7590400>]\n",
      "pkm moves is  [<vgc.datatypes.Objects.PkmMove object at 0x00000192B7590310>, <vgc.datatypes.Objects.PkmMove object at 0x00000192B7590280>, <vgc.datatypes.Objects.PkmMove object at 0x00000192B75903A0>, <vgc.datatypes.Objects.PkmMove object at 0x00000192B7590220>]\n",
      "pkm moves is  [<vgc.datatypes.Objects.PkmMove object at 0x00000192B706E640>, <vgc.datatypes.Objects.PkmMove object at 0x00000192B706E2E0>, <vgc.datatypes.Objects.PkmMove object at 0x00000192B706E9D0>, <vgc.datatypes.Objects.PkmMove object at 0x00000192B706E610>]\n",
      "0 Move 0 0 Damage 49.5 Poke Pkm(Type=GRASS, HP=240, Moves={PkmMove(Power=66, Acc=1.0, PP=10, Type=GRASS), PkmMove(Power=30, Acc=1.0, PP=10, Type=STEEL), PkmMove(Power=30, Acc=1.0, PP=10, Type=FAIRY), PkmMove(Power=102, Acc=1.0, PP=9, Type=NORMAL), })\n",
      "0 Move 1 0 Damage 49.5 Poke Pkm(Type=GRASS, HP=240, Moves={PkmMove(Power=66, Acc=1.0, PP=10, Type=GRASS), PkmMove(Power=30, Acc=1.0, PP=10, Type=STEEL), PkmMove(Power=30, Acc=1.0, PP=10, Type=FAIRY), PkmMove(Power=102, Acc=1.0, PP=9, Type=NORMAL), })\n",
      "0 Move 2 0 Damage 49.5 Poke Pkm(Type=GRASS, HP=240, Moves={PkmMove(Power=66, Acc=1.0, PP=10, Type=GRASS), PkmMove(Power=30, Acc=1.0, PP=10, Type=STEEL), PkmMove(Power=30, Acc=1.0, PP=10, Type=FAIRY), PkmMove(Power=102, Acc=1.0, PP=9, Type=NORMAL), })\n",
      "0 Move 3 3 Damage 51.0 Poke Pkm(Type=GRASS, HP=240, Moves={PkmMove(Power=66, Acc=1.0, PP=10, Type=GRASS), PkmMove(Power=30, Acc=1.0, PP=10, Type=STEEL), PkmMove(Power=30, Acc=1.0, PP=10, Type=FAIRY), PkmMove(Power=102, Acc=1.0, PP=9, Type=NORMAL), })\n",
      "pkm moves is  [<vgc.datatypes.Objects.PkmMove object at 0x00000192B706E670>, <vgc.datatypes.Objects.PkmMove object at 0x00000192B706E6D0>, <vgc.datatypes.Objects.PkmMove object at 0x00000192B706E280>, <vgc.datatypes.Objects.PkmMove object at 0x00000192B754E610>]\n",
      "pkm moves is  [<vgc.datatypes.Objects.PkmMove object at 0x00000192B754EBB0>, <vgc.datatypes.Objects.PkmMove object at 0x00000192B754E190>, <vgc.datatypes.Objects.PkmMove object at 0x00000192B754E880>, <vgc.datatypes.Objects.PkmMove object at 0x00000192B754E8B0>]\n",
      "pkm moves is  [<vgc.datatypes.Objects.PkmMove object at 0x00000192B754ED90>, <vgc.datatypes.Objects.PkmMove object at 0x00000192B754EA60>, <vgc.datatypes.Objects.PkmMove object at 0x00000192B754EFA0>, <vgc.datatypes.Objects.PkmMove object at 0x00000192B74C8D90>]\n",
      "0 Move 0 0 Damage 49.5 Poke Pkm(Type=GRASS, HP=240, Moves={PkmMove(Power=66, Acc=1.0, PP=10, Type=GRASS), PkmMove(Power=30, Acc=1.0, PP=10, Type=STEEL), PkmMove(Power=30, Acc=1.0, PP=10, Type=FAIRY), PkmMove(Power=102, Acc=1.0, PP=8, Type=NORMAL), })\n",
      "0 Move 1 0 Damage 49.5 Poke Pkm(Type=GRASS, HP=240, Moves={PkmMove(Power=66, Acc=1.0, PP=10, Type=GRASS), PkmMove(Power=30, Acc=1.0, PP=10, Type=STEEL), PkmMove(Power=30, Acc=1.0, PP=10, Type=FAIRY), PkmMove(Power=102, Acc=1.0, PP=8, Type=NORMAL), })\n",
      "0 Move 2 0 Damage 49.5 Poke Pkm(Type=GRASS, HP=240, Moves={PkmMove(Power=66, Acc=1.0, PP=10, Type=GRASS), PkmMove(Power=30, Acc=1.0, PP=10, Type=STEEL), PkmMove(Power=30, Acc=1.0, PP=10, Type=FAIRY), PkmMove(Power=102, Acc=1.0, PP=8, Type=NORMAL), })\n",
      "0 Move 3 3 Damage 51.0 Poke Pkm(Type=GRASS, HP=240, Moves={PkmMove(Power=66, Acc=1.0, PP=10, Type=GRASS), PkmMove(Power=30, Acc=1.0, PP=10, Type=STEEL), PkmMove(Power=30, Acc=1.0, PP=10, Type=FAIRY), PkmMove(Power=102, Acc=1.0, PP=8, Type=NORMAL), })\n",
      "pkm moves is  [<vgc.datatypes.Objects.PkmMove object at 0x00000192B74C8490>, <vgc.datatypes.Objects.PkmMove object at 0x00000192B74C8D00>, <vgc.datatypes.Objects.PkmMove object at 0x00000192B74C8100>, <vgc.datatypes.Objects.PkmMove object at 0x00000192B7311790>]\n",
      "pkm moves is  [<vgc.datatypes.Objects.PkmMove object at 0x00000192B7311520>, <vgc.datatypes.Objects.PkmMove object at 0x00000192B756E040>, <vgc.datatypes.Objects.PkmMove object at 0x00000192B756E9D0>, <vgc.datatypes.Objects.PkmMove object at 0x00000192B74C8CA0>]\n",
      "pkm moves is  [<vgc.datatypes.Objects.PkmMove object at 0x00000192B756E130>, <vgc.datatypes.Objects.PkmMove object at 0x00000192B756E4C0>, <vgc.datatypes.Objects.PkmMove object at 0x00000192B7590BB0>, <vgc.datatypes.Objects.PkmMove object at 0x00000192B7363EB0>]\n",
      "0 Move 0 0 Damage 49.5 Poke Pkm(Type=GRASS, HP=174, Moves={PkmMove(Power=66, Acc=1.0, PP=10, Type=GRASS), PkmMove(Power=30, Acc=1.0, PP=10, Type=STEEL), PkmMove(Power=30, Acc=1.0, PP=10, Type=FAIRY), PkmMove(Power=102, Acc=1.0, PP=7, Type=NORMAL), })\n",
      "0 Move 1 0 Damage 49.5 Poke Pkm(Type=GRASS, HP=174, Moves={PkmMove(Power=66, Acc=1.0, PP=10, Type=GRASS), PkmMove(Power=30, Acc=1.0, PP=10, Type=STEEL), PkmMove(Power=30, Acc=1.0, PP=10, Type=FAIRY), PkmMove(Power=102, Acc=1.0, PP=7, Type=NORMAL), })\n",
      "0 Move 2 0 Damage 49.5 Poke Pkm(Type=GRASS, HP=174, Moves={PkmMove(Power=66, Acc=1.0, PP=10, Type=GRASS), PkmMove(Power=30, Acc=1.0, PP=10, Type=STEEL), PkmMove(Power=30, Acc=1.0, PP=10, Type=FAIRY), PkmMove(Power=102, Acc=1.0, PP=7, Type=NORMAL), })\n",
      "0 Move 3 3 Damage 51.0 Poke Pkm(Type=GRASS, HP=174, Moves={PkmMove(Power=66, Acc=1.0, PP=10, Type=GRASS), PkmMove(Power=30, Acc=1.0, PP=10, Type=STEEL), PkmMove(Power=30, Acc=1.0, PP=10, Type=FAIRY), PkmMove(Power=102, Acc=1.0, PP=7, Type=NORMAL), })\n",
      "pkm moves is  [<vgc.datatypes.Objects.PkmMove object at 0x00000192B7363FD0>, <vgc.datatypes.Objects.PkmMove object at 0x00000192B7363E50>, <vgc.datatypes.Objects.PkmMove object at 0x00000192B7363850>, <vgc.datatypes.Objects.PkmMove object at 0x00000192B7363BB0>]\n",
      "pkm moves is  [<vgc.datatypes.Objects.PkmMove object at 0x00000192B7363B50>, <vgc.datatypes.Objects.PkmMove object at 0x00000192B7363EE0>, <vgc.datatypes.Objects.PkmMove object at 0x00000192B7363D00>, <vgc.datatypes.Objects.PkmMove object at 0x00000192B7363E80>]\n",
      "1\n",
      "{'active': {4: 2, 2: 1, 1: 2, 0: 1, 3: 4}, 'opp': {}}\n"
     ]
    }
   ],
   "source": [
    "from vgc.util.generator.PkmTeamGenerators import RandomTeamGenerator\n",
    "import pkm_battle_env_wrapper\n",
    "\n",
    "importlib.reload(pkm_battle_env_wrapper)\n",
    "from pkm_battle_env_wrapper import NiBot\n",
    "\n",
    "n_battles = 1 # total number of battles\n",
    "active_dict = {'active':{}, 'opp':{}}\n",
    "t = False\n",
    "battle = 0\n",
    "while battle < n_battles:\n",
    "    team_generator = RandomTeamGenerator(2)\n",
    "    team0 = team_generator.get_team().get_battle_team([0, 1, 2])\n",
    "    team1 = team_generator.get_team().get_battle_team([0, 1, 2])\n",
    "    # print(team0, team1)\n",
    "    #team0, team1 = PkmTeam(), PkmTeam()\n",
    "    agent0, agent1 = NiBot(), RandomPlayer() #NiBot() #RandomPlayer()\n",
    "    env = PkmBattleEnv((team0, team1),\n",
    "                    encode=(agent0.requires_encode(), agent1.requires_encode()))  # set new environment with teams\n",
    "    s, _ = env.reset()\n",
    "    while not t:  # True when all pkms of one of the two PkmTeam faint\n",
    "        a = [agent0.get_action(s[0]), agent1.get_action(s[1])]\n",
    "        if a[0] < 0:# or a[1] > 3:\n",
    "            print('ni action is ', a[0])\n",
    "        # print(a[0])\n",
    "        if a[0] in active_dict['active']:\n",
    "            active_dict['active'][a[0]] += 1\n",
    "        else:\n",
    "            active_dict['active'][a[0]] = 1\n",
    "        #print('ni action is ', a[0], a[1])\n",
    "        # if a[1] < 0 or a[1] >= 0:\n",
    "        #     print('nibot action is ', a[1])\n",
    "        s, _, t, _, _ = env.step(a)  # for inference, we don't need reward\n",
    "        #env.render()\n",
    "    t = False\n",
    "    battle += 1\n",
    "    print(env.winner)  # winner id number\n",
    "\n",
    "print(active_dict)"
   ]
  },
  {
   "cell_type": "code",
   "execution_count": 26,
   "metadata": {},
   "outputs": [
    {
     "data": {
      "text/plain": [
       "6"
      ]
     },
     "execution_count": 26,
     "metadata": {},
     "output_type": "execute_result"
    }
   ],
   "source": []
  },
  {
   "cell_type": "code",
   "execution_count": null,
   "metadata": {},
   "outputs": [],
   "source": []
  },
  {
   "cell_type": "code",
   "execution_count": null,
   "metadata": {},
   "outputs": [],
   "source": []
  },
  {
   "cell_type": "code",
   "execution_count": null,
   "metadata": {},
   "outputs": [],
   "source": []
  },
  {
   "cell_type": "code",
   "execution_count": null,
   "metadata": {},
   "outputs": [],
   "source": [
    "team0, team1 = PkmTeam(), PkmTeam()\n",
    "agent0, agent1 = RandomPlayer(), RandomPlayer()\n",
    "env = PkmBattleEnv((team0, team1),\n",
    "                   encode=(agent0.requires_encode(), agent1.requires_encode()))  # set new environment with teams\n",
    "n_battles = 3  # total number of battles\n",
    "t = False\n",
    "battle = 0\n",
    "while battle < n_battles:\n",
    "    s, _ = env.reset()\n",
    "    while not t:  # True when all pkms of one of the two PkmTeam faint\n",
    "        a = [agent0.get_action(s[0]), agent1.get_action(s[1])]\n",
    "        s, _, t, _, _ = env.step(a)  # for inference, we don't need reward\n",
    "        #env.render()\n",
    "    t = False\n",
    "    battle += 1\n",
    "print(env.winner)  # winner id number"
   ]
  },
  {
   "cell_type": "code",
   "execution_count": null,
   "metadata": {},
   "outputs": [],
   "source": []
  },
  {
   "cell_type": "markdown",
   "metadata": {},
   "source": [
    "### Test generating roster per competition\n"
   ]
  },
  {
   "cell_type": "code",
   "execution_count": 2,
   "metadata": {},
   "outputs": [],
   "source": [
    "# https://gitlab.com/DracoStriker/pokemon-vgc-engine/-/tree/master/vgc/util/generator?ref_type=heads\n",
    "\n",
    "from vgc.competition.Competition import TreeChampionship\n",
    "from vgc.competition.Competitor import CompetitorManager\n",
    "from vgc.network.ProxyCompetitor import ProxyCompetitor\n",
    "from vgc.util.generator.PkmRosterGenerators import RandomPkmRosterGenerator\n",
    "from vgc.util.generator.PkmTeamGenerators import RandomTeamGenerator\n",
    "\n",
    "from vgc.datatypes.Objects import PkmTeam, Pkm, GameState, Weather"
   ]
  },
  {
   "cell_type": "markdown",
   "metadata": {},
   "source": [
    "#### Notes\n",
    "* roster is of size 100 with 100 pokemon on it\n",
    "* not quite following the logic in competition but can generate a random team with one method"
   ]
  },
  {
   "cell_type": "code",
   "execution_count": 49,
   "metadata": {},
   "outputs": [
    {
     "name": "stdout",
     "output_type": "stream",
     "text": [
      "Pkm(Type=WATER, HP=240, Moves={Bubble Beam, Ice Shard, Ember, String Shot, }) Pkm(Type=PSYCHIC, HP=210, Moves={Psybeam, Tackle, Dragon Rage, Close Combat, }) Pkm(Type=ELECTRIC, HP=180, Moves={Thunder Wave, Bullet Punch, Giga Drain, Leech Life, })\n",
      "Active:\n",
      "Pkm(Type=WATER, HP=240, Moves={Bubble Beam, Ice Shard, Ember, String Shot, })\n",
      "Party:\n",
      "Pkm(Type=PSYCHIC, HP=210, Moves={Psybeam, Tackle, Dragon Rage, Close Combat, })\n",
      "Pkm(Type=ELECTRIC, HP=180, Moves={Thunder Wave, Bullet Punch, Giga Drain, Leech Life, })\n",
      "\n",
      "6\n"
     ]
    }
   ],
   "source": [
    "# get random team but not competition styple\n",
    "roster = RandomPkmRosterGenerator().gen_roster()\n",
    "\n",
    "temp_pkm = roster[-1].gen_pkm([0,1,2,3])\n",
    "temp_pkm2 = roster[-2].gen_pkm([0,1,2,3])\n",
    "temp_pkm3 = roster[-3].gen_pkm([0,1,2,3])\n",
    "print(temp_pkm, temp_pkm2, temp_pkm3)\n",
    "my_team = PkmTeam([temp_pkm, temp_pkm2, temp_pkm3])\n",
    "print(my_team)\n",
    "\n",
    "# can then make two random teams on the fly with the resoter each tiem\n",
    "# can set roster size to only get certain number of pokemon\n",
    "roster = RandomPkmRosterGenerator(roster_size=6).gen_roster()\n",
    "\n",
    "print(len(roster))"
   ]
  },
  {
   "cell_type": "code",
   "execution_count": 51,
   "metadata": {},
   "outputs": [
    {
     "name": "stdout",
     "output_type": "stream",
     "text": [
      "Active:\n",
      "Pkm(Type=GHOST, HP=120, Moves={PkmMove(Power=102, Acc=1.0, PP=10, Type=GHOST), PkmMove(Power=30, Acc=1.0, PP=10, Type=ICE), PkmMove(Power=66, Acc=1.0, PP=10, Type=ICE), PkmMove(Power=282, Acc=1.0, PP=10, Type=GROUND), })\n",
      "Party:\n",
      "Pkm(Type=FIRE, HP=264, Moves={PkmMove(Power=30, Acc=1.0, PP=10, Type=FIRE), PkmMove(Power=102, Acc=1.0, PP=10, Type=GRASS), PkmMove(Power=174, Acc=1.0, PP=10, Type=DARK), PkmMove(Power=30, Acc=1.0, PP=10, Type=BUG), })\n",
      "Pkm(Type=POISON, HP=192, Moves={PkmMove(Power=138, Acc=1.0, PP=10, Type=POISON), PkmMove(Power=66, Acc=1.0, PP=10, Type=POISON), PkmMove(Power=102, Acc=1.0, PP=10, Type=STEEL), PkmMove(Power=102, Acc=1.0, PP=10, Type=GROUND), })\n",
      "\n",
      "Active:\n",
      "Pkm(Type=ELECTRIC, HP=156, Moves={PkmMove(Power=66, Acc=1.0, PP=10, Type=ELECTRIC), PkmMove(Power=174, Acc=1.0, PP=10, Type=FLYING), PkmMove(Power=66, Acc=1.0, PP=10, Type=GRASS), PkmMove(Power=138, Acc=1.0, PP=10, Type=ELECTRIC), })\n",
      "Party:\n",
      "Pkm(Type=ICE, HP=120, Moves={PkmMove(Power=318, Acc=1.0, PP=10, Type=ICE), PkmMove(Power=30, Acc=1.0, PP=10, Type=ROCK), PkmMove(Power=30, Acc=1.0, PP=10, Type=FIRE), PkmMove(Power=102, Acc=1.0, PP=10, Type=NORMAL), })\n",
      "Pkm(Type=FIGHT, HP=156, Moves={PkmMove(Power=174, Acc=1.0, PP=10, Type=FIGHT), PkmMove(Power=66, Acc=1.0, PP=10, Type=WATER), PkmMove(Power=174, Acc=1.0, PP=10, Type=GHOST), PkmMove(Power=30, Acc=1.0, PP=10, Type=FIRE), })\n",
      "\n"
     ]
    }
   ],
   "source": [
    "# maybe alternative way\n",
    "from vgc.util.generator.PkmTeamGenerators import RandomTeamGenerator\n",
    "\n",
    "team_generator = RandomTeamGenerator(2)\n",
    "team0 = team_generator.get_team().get_battle_team([0, 1, 2])\n",
    "team1 = team_generator.get_team().get_battle_team([0, 1, 2])\n",
    "print(team0)\n",
    "print(team1)\n",
    "\n",
    "# team0 = self.gen.get_team().get_battle_team([0, 1, 2])\n",
    "# team1 = self.gen.get_team().get_battle_team([0, 1, 2])\n"
   ]
  },
  {
   "cell_type": "code",
   "execution_count": null,
   "metadata": {},
   "outputs": [],
   "source": []
  },
  {
   "cell_type": "code",
   "execution_count": 3,
   "metadata": {},
   "outputs": [],
   "source": [
    "roster = RandomPkmRosterGenerator().gen_roster()\n",
    "championship = TreeChampionship(roster, debug=True, gen=RandomTeamGenerator(2))\n"
   ]
  },
  {
   "cell_type": "code",
   "execution_count": 11,
   "metadata": {},
   "outputs": [
    {
     "name": "stdout",
     "output_type": "stream",
     "text": [
      "100\n",
      "PkmTemplate(Type=DRAGON, Max_HP=210, Moves={Outrage, Bullet Punch, Tackle, Wing Attack, })\n",
      "PkmTemplate(Type=DRAGON, Max_HP=210, Moves={Outrage, Bullet Punch, Tackle, Wing Attack, })\n",
      "PkmTemplate(Type=DARK, Max_HP=120, Moves={Crunch, Thunder Shock, Fire Blast, Ice Beam, })\n",
      "PkmTemplate(Type=NORMAL, Max_HP=240, Moves={Slam, Sunny Day, Hail, Energy Ball, })\n",
      "PkmTemplate(Type=FAIRY, Max_HP=150, Moves={Play Rough, Hydro Pump, Slam, Power Gem, })\n",
      "PkmTemplate(Type=DARK, Max_HP=180, Moves={Crunch, Draco Meteor, Bullet Punch, Spore, })\n",
      "PkmTemplate(Type=PSYCHIC, Max_HP=240, Moves={Psychic, Bug Buzz, Sweet Kiss, Power Gem, })\n",
      "PkmTemplate(Type=GRASS, Max_HP=240, Moves={Energy Ball, Hail, Bubble Beam, Thunder Shock, })\n",
      "PkmTemplate(Type=GRASS, Max_HP=240, Moves={Razor Leaf, Giga Drain, Bug Buzz, Nasty Plot, })\n",
      "PkmTemplate(Type=GROUND, Max_HP=240, Moves={Mud Shot, Hydro Pump, Ice Shard, Dragon Rage, })\n",
      "PkmTemplate(Type=GHOST, Max_HP=180, Moves={Shadow Sneak, Bubble Beam, Hydro Pump, Aqua Jet, })\n"
     ]
    }
   ],
   "source": [
    "print(len(roster))\n",
    "\n",
    "#dir(roster[0])\n",
    "for i in range(10):\n",
    "    print(roster[i])"
   ]
  },
  {
   "cell_type": "code",
   "execution_count": 12,
   "metadata": {},
   "outputs": [],
   "source": [
    "rtg = RandomTeamGenerator(2)"
   ]
  },
  {
   "cell_type": "code",
   "execution_count": 46,
   "metadata": {},
   "outputs": [
    {
     "name": "stdout",
     "output_type": "stream",
     "text": [
      "Pkm(Type=FLYING, HP=180, Moves={Hurricane, Ember, Bullet Punch, Dragon Rage, }) Pkm(Type=GRASS, HP=240, Moves={Energy Ball, Rain Dance, Recover, Spore, }) Pkm(Type=ELECTRIC, HP=210, Moves={Thunder, Nasty Plot, Power Gem, Dragon Rage, })\n",
      "Active:\n",
      "Pkm(Type=FLYING, HP=180, Moves={Hurricane, Ember, Bullet Punch, Dragon Rage, })\n",
      "Party:\n",
      "Pkm(Type=GRASS, HP=240, Moves={Energy Ball, Rain Dance, Recover, Spore, })\n",
      "Pkm(Type=ELECTRIC, HP=210, Moves={Thunder, Nasty Plot, Power Gem, Dragon Rage, })\n",
      "\n"
     ]
    }
   ],
   "source": [
    "temp_pkm = roster[-1].gen_pkm([0,1,2,3])\n",
    "temp_pkm2 = roster[-2].gen_pkm([0,1,2,3])\n",
    "temp_pkm3 = roster[-3].gen_pkm([0,1,2,3])\n",
    "print(temp_pkm, temp_pkm2, temp_pkm3)\n",
    "my_team = PkmTeam([temp_pkm, temp_pkm2, temp_pkm3])\n",
    "print(my_team)"
   ]
  },
  {
   "cell_type": "code",
   "execution_count": 48,
   "metadata": {},
   "outputs": [
    {
     "name": "stdout",
     "output_type": "stream",
     "text": [
      "Active:\n",
      "Pkm(Type=FLYING, HP=180, Moves={Hurricane, Ember, Bullet Punch, Dragon Rage, })\n",
      "Party:\n",
      "Pkm(Type=GRASS, HP=240, Moves={Energy Ball, Rain Dance, Recover, Spore, })\n",
      "Pkm(Type=ELECTRIC, HP=210, Moves={Thunder, Nasty Plot, Power Gem, Dragon Rage, })\n",
      "\n"
     ]
    }
   ],
   "source": [
    "print(my_team)"
   ]
  },
  {
   "cell_type": "code",
   "execution_count": null,
   "metadata": {},
   "outputs": [],
   "source": []
  },
  {
   "cell_type": "code",
   "execution_count": null,
   "metadata": {},
   "outputs": [],
   "source": [
    "# generate pkm from template\n",
    "# templ = PkmTemplate()\n",
    "# pkm = templ.gen_pkm([1, 2, 5, 3])  # 4 max!\n"
   ]
  },
  {
   "cell_type": "code",
   "execution_count": 13,
   "metadata": {},
   "outputs": [
    {
     "data": {
      "text/plain": [
       "<vgc.util.generator.PkmTeamGenerators.RandomTeamGenerator at 0x235d44738b0>"
      ]
     },
     "execution_count": 13,
     "metadata": {},
     "output_type": "execute_result"
    }
   ],
   "source": [
    "rtg"
   ]
  },
  {
   "cell_type": "code",
   "execution_count": 16,
   "metadata": {},
   "outputs": [],
   "source": [
    "# team0 = self.gen.get_team().get_battle_team([0, 1, 2])\n",
    "team0 = rtg.get_team().get_battle_team([0, 1, 2])"
   ]
  },
  {
   "cell_type": "code",
   "execution_count": 37,
   "metadata": {},
   "outputs": [
    {
     "data": {
      "text/plain": [
       "-1"
      ]
     },
     "execution_count": 37,
     "metadata": {},
     "output_type": "execute_result"
    }
   ],
   "source": [
    "team0.active.pkm_id"
   ]
  },
  {
   "cell_type": "code",
   "execution_count": 39,
   "metadata": {},
   "outputs": [
    {
     "name": "stdout",
     "output_type": "stream",
     "text": [
      "[<vgc.datatypes.Objects.Pkm object at 0x00000235D4404070>, <vgc.datatypes.Objects.Pkm object at 0x00000235D44042B0>]\n"
     ]
    }
   ],
   "source": [
    "print(team0.party)"
   ]
  },
  {
   "cell_type": "code",
   "execution_count": 38,
   "metadata": {},
   "outputs": [
    {
     "data": {
      "text/plain": [
       "['__class__',\n",
       " '__delattr__',\n",
       " '__dict__',\n",
       " '__dir__',\n",
       " '__doc__',\n",
       " '__eq__',\n",
       " '__format__',\n",
       " '__ge__',\n",
       " '__getattribute__',\n",
       " '__gt__',\n",
       " '__hash__',\n",
       " '__init__',\n",
       " '__init_subclass__',\n",
       " '__le__',\n",
       " '__lt__',\n",
       " '__module__',\n",
       " '__ne__',\n",
       " '__new__',\n",
       " '__reduce__',\n",
       " '__reduce_ex__',\n",
       " '__repr__',\n",
       " '__setattr__',\n",
       " '__sizeof__',\n",
       " '__str__',\n",
       " '__subclasshook__',\n",
       " '__weakref__',\n",
       " 'active',\n",
       " 'confused',\n",
       " 'entry_hazard',\n",
       " 'fainted',\n",
       " 'get_not_fainted',\n",
       " 'get_pkm_list',\n",
       " 'n_turns_confused',\n",
       " 'party',\n",
       " 'reset',\n",
       " 'reset_team_members',\n",
       " 'size',\n",
       " 'stage',\n",
       " 'switch']"
      ]
     },
     "execution_count": 38,
     "metadata": {},
     "output_type": "execute_result"
    }
   ],
   "source": [
    "dir(team0)"
   ]
  },
  {
   "cell_type": "code",
   "execution_count": 34,
   "metadata": {},
   "outputs": [
    {
     "data": {
      "text/plain": [
       "['__class__',\n",
       " '__delattr__',\n",
       " '__dict__',\n",
       " '__dir__',\n",
       " '__doc__',\n",
       " '__eq__',\n",
       " '__format__',\n",
       " '__ge__',\n",
       " '__getattribute__',\n",
       " '__gt__',\n",
       " '__hash__',\n",
       " '__init__',\n",
       " '__init_subclass__',\n",
       " '__le__',\n",
       " '__lt__',\n",
       " '__module__',\n",
       " '__ne__',\n",
       " '__new__',\n",
       " '__reduce__',\n",
       " '__reduce_ex__',\n",
       " '__repr__',\n",
       " '__setattr__',\n",
       " '__sizeof__',\n",
       " '__str__',\n",
       " '__subclasshook__',\n",
       " '__weakref__',\n",
       " 'asleep',\n",
       " 'fainted',\n",
       " 'frozen',\n",
       " 'hide',\n",
       " 'hide_pkm',\n",
       " 'hp',\n",
       " 'max_hp',\n",
       " 'moves',\n",
       " 'n_turns_asleep',\n",
       " 'paralyzed',\n",
       " 'pkm_id',\n",
       " 'public',\n",
       " 'reset',\n",
       " 'reveal_pkm',\n",
       " 'revealed',\n",
       " 'status',\n",
       " 'type']"
      ]
     },
     "execution_count": 34,
     "metadata": {},
     "output_type": "execute_result"
    }
   ],
   "source": [
    "dir(team0.active)"
   ]
  },
  {
   "cell_type": "code",
   "execution_count": 18,
   "metadata": {},
   "outputs": [
    {
     "data": {
      "text/plain": [
       "['__class__',\n",
       " '__delattr__',\n",
       " '__dict__',\n",
       " '__dir__',\n",
       " '__doc__',\n",
       " '__eq__',\n",
       " '__format__',\n",
       " '__ge__',\n",
       " '__getattribute__',\n",
       " '__gt__',\n",
       " '__hash__',\n",
       " '__init__',\n",
       " '__init_subclass__',\n",
       " '__le__',\n",
       " '__lt__',\n",
       " '__module__',\n",
       " '__ne__',\n",
       " '__new__',\n",
       " '__reduce__',\n",
       " '__reduce_ex__',\n",
       " '__repr__',\n",
       " '__setattr__',\n",
       " '__sizeof__',\n",
       " '__str__',\n",
       " '__subclasshook__',\n",
       " '__weakref__',\n",
       " 'active',\n",
       " 'confused',\n",
       " 'entry_hazard',\n",
       " 'fainted',\n",
       " 'get_not_fainted',\n",
       " 'get_pkm_list',\n",
       " 'n_turns_confused',\n",
       " 'party',\n",
       " 'reset',\n",
       " 'reset_team_members',\n",
       " 'size',\n",
       " 'stage',\n",
       " 'switch']"
      ]
     },
     "execution_count": 18,
     "metadata": {},
     "output_type": "execute_result"
    }
   ],
   "source": [
    "dir(team0)"
   ]
  },
  {
   "cell_type": "code",
   "execution_count": 23,
   "metadata": {},
   "outputs": [
    {
     "data": {
      "text/plain": [
       "<vgc.datatypes.Objects.PkmTeam at 0x235d44738e0>"
      ]
     },
     "execution_count": 23,
     "metadata": {},
     "output_type": "execute_result"
    }
   ],
   "source": [
    "team0"
   ]
  },
  {
   "cell_type": "code",
   "execution_count": 24,
   "metadata": {},
   "outputs": [],
   "source": []
  },
  {
   "cell_type": "code",
   "execution_count": 25,
   "metadata": {},
   "outputs": [
    {
     "data": {
      "text/plain": [
       "<vgc.datatypes.Objects.PkmTeam at 0x235d445da00>"
      ]
     },
     "execution_count": 25,
     "metadata": {},
     "output_type": "execute_result"
    }
   ],
   "source": [
    "test_team = PkmTeam()\n",
    "test_team"
   ]
  },
  {
   "cell_type": "code",
   "execution_count": 26,
   "metadata": {},
   "outputs": [],
   "source": [
    "test_team_2 = PkmTeam(pkms=[roster[i] for i in [0, 1, 2]])"
   ]
  },
  {
   "cell_type": "code",
   "execution_count": 29,
   "metadata": {},
   "outputs": [
    {
     "data": {
      "text/plain": [
       "<vgc.datatypes.Objects.PkmTemplate at 0x2359f53b7c0>"
      ]
     },
     "execution_count": 29,
     "metadata": {},
     "output_type": "execute_result"
    }
   ],
   "source": [
    "test_team_2.active"
   ]
  },
  {
   "cell_type": "code",
   "execution_count": 30,
   "metadata": {},
   "outputs": [
    {
     "data": {
      "text/plain": [
       "<vgc.datatypes.Objects.Pkm at 0x235d445d880>"
      ]
     },
     "execution_count": 30,
     "metadata": {},
     "output_type": "execute_result"
    }
   ],
   "source": [
    "test_team.active"
   ]
  },
  {
   "cell_type": "code",
   "execution_count": 31,
   "metadata": {},
   "outputs": [
    {
     "data": {
      "text/plain": [
       "<vgc.datatypes.Objects.Pkm at 0x235d44734c0>"
      ]
     },
     "execution_count": 31,
     "metadata": {},
     "output_type": "execute_result"
    }
   ],
   "source": [
    "team0.active"
   ]
  },
  {
   "cell_type": "markdown",
   "metadata": {},
   "source": [
    "### timing recreating the env"
   ]
  },
  {
   "cell_type": "code",
   "execution_count": 52,
   "metadata": {},
   "outputs": [],
   "source": [
    "\n",
    "from vgc.datatypes.Objects import PkmTeam, Pkm, GameState, Weather\n",
    "from vgc.engine.PkmBattleEnv import PkmBattleEnv\n",
    "from vgc.behaviour.BattlePolicies import RandomPlayer, TerminalPlayer\n",
    "import time\n",
    "\n",
    "team_generator = RandomTeamGenerator(2)"
   ]
  },
  {
   "cell_type": "code",
   "execution_count": 61,
   "metadata": {},
   "outputs": [
    {
     "name": "stdout",
     "output_type": "stream",
     "text": [
      "Time taken for 100 iterations: 0.02202892303466797\n"
     ]
    }
   ],
   "source": [
    "num_iter = 100\n",
    "time_start = time.time()\n",
    "for i in range(num_iter):\n",
    "    \n",
    "\n",
    "    team0 = team_generator.get_team().get_battle_team([0, 1, 2])\n",
    "    team1 = team_generator.get_team().get_battle_team([0, 1, 2])\n",
    "\n",
    "    PkmBattleEnv((team0, team1),\n",
    "                    # encode Fasle for forward env\n",
    "                    #encode=(agent0.requires_encode(), agent1.requires_encode()))  # set new environment with teams\n",
    "                    encode=(True, True))\n",
    "    # print(i)\n",
    "\n",
    "print(\"Time taken for {} iterations: {}\".format(num_iter, time.time() - time_start))"
   ]
  },
  {
   "cell_type": "code",
   "execution_count": null,
   "metadata": {},
   "outputs": [],
   "source": []
  }
 ],
 "metadata": {
  "kernelspec": {
   "display_name": "Python 3",
   "language": "python",
   "name": "python3"
  },
  "language_info": {
   "codemirror_mode": {
    "name": "ipython",
    "version": 3
   },
   "file_extension": ".py",
   "mimetype": "text/x-python",
   "name": "python",
   "nbconvert_exporter": "python",
   "pygments_lexer": "ipython3",
   "version": "3.9.9"
  }
 },
 "nbformat": 4,
 "nbformat_minor": 2
}
