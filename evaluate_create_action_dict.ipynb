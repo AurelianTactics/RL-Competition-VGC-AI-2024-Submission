{
 "cells": [
  {
   "cell_type": "code",
   "execution_count": 1,
   "metadata": {},
   "outputs": [],
   "source": [
    "import numpy as np\n",
    "import pickle\n",
    "import os\n",
    "import copy\n",
    "from scipy.stats import chi2_contingency\n",
    "import time\n",
    "import pprint"
   ]
  },
  {
   "cell_type": "code",
   "execution_count": 2,
   "metadata": {},
   "outputs": [
    {
     "data": {
      "text/plain": [
       "'\\nEvaluate dicts\\n    DONE overall size\\n    TEST states that do not have enough samples\\n    swaps that are better\\n        overall number\\n        return sample size, p value etc and see\\n    would be nice to have how often the swaps occur as overall percent but the dict will stop collecting keys\\n        so not an accurate caught\\n\\nChoose the p values\\n    which swap values are better with win %\\n    then how many by the different narrowing things\\n\\nMaybe examine some specific states\\n'"
      ]
     },
     "execution_count": 2,
     "metadata": {},
     "output_type": "execute_result"
    }
   ],
   "source": [
    "'''\n",
    "Evaluate dicts\n",
    "    DONE overall size\n",
    "    TEST states that do not have enough samples\n",
    "    swaps that are better\n",
    "        overall number\n",
    "        return sample size, p value etc and see\n",
    "    would be nice to have how often the swaps occur as overall percent but the dict will stop collecting keys\n",
    "        so not an accurate caught\n",
    "\n",
    "Choose the p values\n",
    "    which swap values are better with win %\n",
    "    then how many by the different narrowing things\n",
    "\n",
    "Maybe examine some specific states\n",
    "'''"
   ]
  },
  {
   "cell_type": "markdown",
   "metadata": {},
   "source": [
    "### Constants and Functions"
   ]
  },
  {
   "cell_type": "code",
   "execution_count": null,
   "metadata": {},
   "outputs": [],
   "source": []
  },
  {
   "cell_type": "code",
   "execution_count": 3,
   "metadata": {},
   "outputs": [],
   "source": [
    "def load_pkl_object(pkl_path):\n",
    "    '''\n",
    "    Load a pickle object\n",
    "    '''\n",
    "    with open(pkl_path, 'rb') as handle:\n",
    "        return pickle.load(handle)\n",
    "\n",
    "\n",
    "def save_object_as_pkl(object_to_save, save_tag):\n",
    "    '''\n",
    "    Save object a pickle file\n",
    "    '''\n",
    "    save_path = f'joined_dict_results\\\\{save_tag}.pickle'\n",
    "\n",
    "    with open(save_path, 'wb') as handle:\n",
    "        print(\"saving: \", save_path)\n",
    "        pickle.dump(object_to_save, handle, protocol=pickle.HIGHEST_PROTOCOL)\n",
    "\n",
    "\n",
    "def get_chi_square_test_from_action_dict(\n",
    "    action_dict,\n",
    "    state_key,\n",
    "    min_total_count=50,\n",
    "    min_swap_count=25,\n",
    "    min_attack_count=25,\n",
    "    swap_key='swap_0', attack_key='attack',\n",
    "    sum_wins_key='sum_wins', count_key='count',\n",
    "    is_print_statistics=False):\n",
    "\n",
    "    attack_action = 0\n",
    "    swap_party_zero_action = 1\n",
    "    swap_party_one_action = 2\n",
    "\n",
    "    is_use_p_value = False\n",
    "    is_swap_better = False\n",
    "    p_value = None\n",
    "    swap_win_rate_better_rate = 0.\n",
    "    recommended_action = attack_action\n",
    "\n",
    "    try:\n",
    "        if state_key in action_dict:\n",
    "\n",
    "            if swap_key in action_dict[state_key] and attack_key in action_dict[state_key]:\n",
    "                swap_wins = action_dict[state_key][swap_key][sum_wins_key]\n",
    "                swap_count = action_dict[state_key][swap_key][count_key]\n",
    "                attack_wins = action_dict[state_key][attack_key][sum_wins_key]\n",
    "                attack_count = action_dict[state_key][attack_key][count_key]\n",
    "\n",
    "                total_count = swap_count + attack_count\n",
    "\n",
    "                if total_count > min_total_count and swap_count > min_swap_count and attack_count > min_attack_count:\n",
    "\n",
    "                    swap_win_percent = swap_wins / swap_count\n",
    "                    attack_win_percent = attack_wins / attack_count\n",
    "                    \n",
    "                    if swap_win_percent > attack_win_percent:\n",
    "                        is_swap_better = True\n",
    "                        swap_win_rate_better_rate = swap_win_percent - attack_win_percent\n",
    "                    else:\n",
    "                        is_swap_better = False\n",
    "                        swap_win_rate_better_rate = 0.\n",
    "\n",
    "                    # chi squared table breaks down if any 0 values\n",
    "                    # really should not have less than 5\n",
    "                    if attack_wins == attack_count:\n",
    "                        recommended_action = attack_action\n",
    "                        # choose attack as attack always wins\n",
    "                        if is_print_statistics:\n",
    "                            print(\"Attack always wins\")\n",
    "                            print(f\"Swap win rate: {swap_wins / swap_count:.3f} | Count {swap_count}\")\n",
    "                            print(f\"Attack win rate: {attack_wins / attack_count:.3f} | Count {attack_count}\")\n",
    "                    elif swap_wins == swap_count:\n",
    "                        # choose swap\n",
    "                        is_use_p_value = True\n",
    "                        is_swap_better = True\n",
    "                        p_value = 0.\n",
    "                        recommended_action = swap_party_zero_action\n",
    "                        if is_print_statistics:\n",
    "                            print(\"swap always wins, choosing swap\")\n",
    "                            print(f\"Swap win rate: {swap_wins / swap_count:.3f} | Count {swap_count}\")\n",
    "                            print(f\"Attack win rate: {attack_wins / attack_count:.3f} | Count {attack_count}\")\n",
    "                    elif swap_wins == 0:\n",
    "                        recommended_action = attack_action\n",
    "                        # swap always loses\n",
    "                        if is_print_statistics:\n",
    "                            print(\"Swap always loses\")\n",
    "                            print(f\"Swap win rate: {swap_wins / swap_count:.3f} | Count {swap_count}\")\n",
    "                            print(f\"Attack win rate: {attack_wins / attack_count:.3f} | Count {attack_count}\")\n",
    "                    elif attack_wins == 0:\n",
    "                        # attack always loses and swap won at least once so choose swap\n",
    "                        is_use_p_value = True\n",
    "                        is_swap_better = True\n",
    "                        p_value = 0.\n",
    "                        recommended_action = swap_party_zero_action\n",
    "                        if is_print_statistics:\n",
    "                            print(\"Attack always loses, choosing swap \")\n",
    "                            print(f\"Swap win rate: {swap_wins / swap_count:.3f} | Count {swap_count}\")\n",
    "                            print(f\"Attack win rate: {attack_wins / attack_count:.3f} | Count {attack_count}\")\n",
    "                    else:\n",
    "                        contingency_table = [[swap_wins, swap_count - swap_wins], [attack_wins, attack_count - attack_wins]]\n",
    "                        chi2, p_value, dof, expected = chi2_contingency(contingency_table)\n",
    "                        is_use_p_value = True\n",
    "\n",
    "                        if is_swap_better:\n",
    "                            if p_value < 0.25:\n",
    "                                recommended_action = swap_party_zero_action\n",
    "                            elif swap_win_rate_better_rate >= .1:\n",
    "                                recommended_action = swap_party_zero_action\n",
    "                            elif swap_win_rate_better_rate >= .05 and p_value < .6:\n",
    "                                recommended_action = swap_party_zero_action\n",
    "\n",
    "                        if is_print_statistics:\n",
    "                            #print(f'Swap Win : { win_loss_draw1[0] / sum(win_loss_draw1):.3f}')\n",
    "                            print(f\"Swap win rate: {swap_wins / swap_count:.3f} | Count {swap_count}\")\n",
    "                            print(f\"Attack win rate: {attack_wins / attack_count:.3f} | Count {attack_count}\")\n",
    "                            print(f'Chi-square statistic: {chi2:.3f}')\n",
    "                            print(f'P-value: {p_value:.5f}')\n",
    "\n",
    "        else:\n",
    "            is_use_p_value = False\n",
    "            is_swap_better = False\n",
    "            p_value = None\n",
    "            swap_win_rate_better_rate = 0.\n",
    "            recommended_action = attack_action\n",
    "    except Exception as e:\n",
    "        print(\"Error: in chi square test \", str(e) )\n",
    "        is_use_p_value = False\n",
    "        is_swap_better = False\n",
    "        p_value = None\n",
    "        swap_win_rate_better_rate = 0.\n",
    "        recommended_action = attack_action\n",
    "    \n",
    "    return recommended_action, swap_win_rate_better_rate, is_use_p_value, is_swap_better, p_value"
   ]
  },
  {
   "cell_type": "markdown",
   "metadata": {},
   "source": [
    "### 2v2"
   ]
  },
  {
   "cell_type": "code",
   "execution_count": 4,
   "metadata": {},
   "outputs": [],
   "source": [
    "two_combined_dict = load_pkl_object('joined_dict_results\\\\two_vs_two_combined_results.pickle')\n"
   ]
  },
  {
   "cell_type": "code",
   "execution_count": 5,
   "metadata": {},
   "outputs": [
    {
     "name": "stdout",
     "output_type": "stream",
     "text": [
      "3118229\n"
     ]
    }
   ],
   "source": [
    "print(len(two_combined_dict))"
   ]
  },
  {
   "cell_type": "code",
   "execution_count": 6,
   "metadata": {},
   "outputs": [
    {
     "name": "stdout",
     "output_type": "stream",
     "text": [
      "(2, 2, 2, 1, 3, 3, 1, 1, 0, 0, 1, 0) {'attack': {'sum_wins': 455, 'count': 900}, 'swap_0': {'sum_wins': 306, 'count': 846}}\n"
     ]
    }
   ],
   "source": [
    "for k, v in two_combined_dict.items():\n",
    "    print(k, v)\n",
    "    break"
   ]
  },
  {
   "cell_type": "code",
   "execution_count": 7,
   "metadata": {},
   "outputs": [
    {
     "name": "stdout",
     "output_type": "stream",
     "text": [
      "swap better count: 38194 | len swap dict 38194\n",
      "saving:  joined_dict_results\\count_list_2v2_1720491755.pickle\n",
      "saving:  joined_dict_results\\swap_2v2_dict_1720491755.pickle\n"
     ]
    }
   ],
   "source": [
    "# getting the counts\n",
    "# need to filter out the times when TTF is 0 (ie not a true 2v2)\n",
    "\n",
    "\n",
    "\n",
    "def get_state_counts(check_dict):\n",
    "    count_key = 'count'\n",
    "    sum_wins_key = 'sum_wins'\n",
    "    agent_first_move_attack_key = 'attack'\n",
    "    agent_first_move_swap_party_0_key = 'swap_0'\n",
    "    agent_first_move_swap_party_1_key = 'swap_1'\n",
    "    time_int = int(time.time())\n",
    "\n",
    "    count_list = []\n",
    "    swap_2v2_dict = {}\n",
    "    swap_better_count = 0\n",
    "\n",
    "    for state_key, state_dict in check_dict.items():\n",
    "        if agent_first_move_swap_party_0_key in state_dict and agent_first_move_attack_key in state_dict:\n",
    "            count_list.append(state_dict[agent_first_move_swap_party_0_key].get(count_key, np.NaN))\n",
    "            count_list.append(state_dict[agent_first_move_attack_key].get(count_key, np.NaN))\n",
    "\n",
    "            recommended_action, swap_win_rate_better_rate, is_use_p_value, is_swap_better, p_value = get_chi_square_test_from_action_dict(\n",
    "                check_dict, state_key, is_print_statistics=False)\n",
    "        \n",
    "            if is_swap_better:\n",
    "\n",
    "                swap_better_count += 1\n",
    "\n",
    "                swap_2v2_dict[state_key] = {\n",
    "                    'recommended_action': recommended_action,\n",
    "                    'swap_win_rate_better_rate': swap_win_rate_better_rate,\n",
    "                    'is_use_p_value': is_use_p_value,\n",
    "                    'is_swap_better': is_swap_better,\n",
    "                    'p_value': p_value,\n",
    "                    'swap_0_count': state_dict[agent_first_move_swap_party_0_key].get(count_key, np.NaN),\n",
    "                    'attack_count': state_dict[agent_first_move_attack_key].get(count_key, np.NaN),\n",
    "                    'swap_0_win_count': state_dict[agent_first_move_swap_party_0_key].get(sum_wins_key, np.NaN),\n",
    "                    'attack_win_count': state_dict[agent_first_move_attack_key].get(sum_wins_key, np.NaN)\n",
    "                }\n",
    "            \n",
    "                \n",
    "\n",
    "        # for move_key, move_dict in state_dict.items():\n",
    "        #     count_list.append(move_dict.get(count_key, np.NaN))\n",
    "\n",
    "    count_array = np.array(count_list)\n",
    "    print(f\"swap better count: {swap_better_count} | len swap dict {len(swap_2v2_dict)}\")\n",
    "\n",
    "    save_object_as_pkl(count_list, f'count_list_2v2_{time_int}')\n",
    "    save_object_as_pkl(swap_2v2_dict, f'swap_2v2_dict_{time_int}')\n",
    "\n",
    "    return count_array, swap_better_count, swap_2v2_dict\n",
    "\n",
    "two_count_array, swap_better_count, swap_2v2_dict = get_state_counts(copy.deepcopy(two_combined_dict))\n"
   ]
  },
  {
   "cell_type": "code",
   "execution_count": 8,
   "metadata": {},
   "outputs": [
    {
     "name": "stdout",
     "output_type": "stream",
     "text": [
      "(2426156,) 89.4686932744638 3.0 1 3426669\n"
     ]
    }
   ],
   "source": [
    "print(two_count_array.shape, np.mean(two_count_array), np.median(two_count_array), np.min(two_count_array), np.max(two_count_array))\n",
    "\n"
   ]
  },
  {
   "cell_type": "code",
   "execution_count": 12,
   "metadata": {},
   "outputs": [
    {
     "name": "stdout",
     "output_type": "stream",
     "text": [
      "count less than 5: 1403590 | 0.579 \n",
      "count less than 10: 1775533 | 0.732 \n",
      "count less than 15: 1928543 | 0.795 \n",
      "count less than 20: 2015950 | 0.831 \n",
      "count less than 25: 2073878 | 0.855 \n",
      "count less than 50: 2206844 | 0.910 \n",
      "count less than 100: 2292732 | 0.945 \n"
     ]
    }
   ],
   "source": [
    "for x in [5, 10, 15, 20, 25, 50, 100]:\n",
    "    less_than_x = np.sum(two_count_array < x)\n",
    "    print(f'count less than {x}: {less_than_x} | {less_than_x / len(two_count_array):.3f} ')"
   ]
  },
  {
   "cell_type": "code",
   "execution_count": 10,
   "metadata": {},
   "outputs": [
    {
     "name": "stdout",
     "output_type": "stream",
     "text": [
      "(1, 2, 1, 1, 2, 3, 1, 1, 0, 0, 0, 0)\n",
      "{'attack_count': 38328,\n",
      " 'attack_win_count': 19162,\n",
      " 'is_swap_better': True,\n",
      " 'is_use_p_value': True,\n",
      " 'p_value': 0.21553126209387186,\n",
      " 'recommended_action': 1,\n",
      " 'swap_0_count': 1396,\n",
      " 'swap_0_win_count': 722,\n",
      " 'swap_win_rate_better_rate': 0.017244158250396657}\n",
      "(1, 1, 2, 2, 1, 3, 1, 2, 0, 2, 0, 0)\n",
      "{'attack_count': 80936,\n",
      " 'attack_win_count': 27488,\n",
      " 'is_swap_better': True,\n",
      " 'is_use_p_value': True,\n",
      " 'p_value': 1.084388778413714e-09,\n",
      " 'recommended_action': 1,\n",
      " 'swap_0_count': 1005,\n",
      " 'swap_0_win_count': 434,\n",
      " 'swap_win_rate_better_rate': 0.09221442456591217}\n",
      "(2, 1, 1, 2, -1, -1, 1, 1, 0, 0, 1, 0)\n",
      "{'attack_count': 3933,\n",
      " 'attack_win_count': 329,\n",
      " 'is_swap_better': True,\n",
      " 'is_use_p_value': True,\n",
      " 'p_value': 6.6842593945635835e-96,\n",
      " 'recommended_action': 1,\n",
      " 'swap_0_count': 4039,\n",
      " 'swap_0_win_count': 1050,\n",
      " 'swap_win_rate_better_rate': 0.17631418107723787}\n",
      "(1, 1, 1, 2, -1, -1, 1, 1, 0, 0, 0, 0)\n",
      "{'attack_count': 69193,\n",
      " 'attack_win_count': 19315,\n",
      " 'is_swap_better': True,\n",
      " 'is_use_p_value': True,\n",
      " 'p_value': 5.0459238991891116e-11,\n",
      " 'recommended_action': 1,\n",
      " 'swap_0_count': 37214,\n",
      " 'swap_0_win_count': 11099,\n",
      " 'swap_win_rate_better_rate': 0.019101236697372737}\n"
     ]
    }
   ],
   "source": [
    "break_num = 0\n",
    "\n",
    "for k, v in swap_2v2_dict.items():\n",
    "    pprint.pprint(k)\n",
    "    pprint.pprint(v)\n",
    "    break_num += 1\n",
    "    if break_num > 3:\n",
    "        break"
   ]
  },
  {
   "cell_type": "code",
   "execution_count": 11,
   "metadata": {},
   "outputs": [
    {
     "name": "stdout",
     "output_type": "stream",
     "text": [
      "29863 38194\n"
     ]
    }
   ],
   "source": [
    "break_num = 0\n",
    "recommend_swap_count = 0\n",
    "for k, v in swap_2v2_dict.items():\n",
    "    if v['recommended_action'] == 1:\n",
    "        recommend_swap_count += 1\n",
    "\n",
    "    # pprint.pprint(k)\n",
    "    # pprint.pprint(v)\n",
    "    # break_num += 1\n",
    "    # if break_num > 10:\n",
    "    #     break\n",
    "print(recommend_swap_count, len(swap_2v2_dict))"
   ]
  },
  {
   "cell_type": "code",
   "execution_count": null,
   "metadata": {},
   "outputs": [],
   "source": []
  }
 ],
 "metadata": {
  "kernelspec": {
   "display_name": "vgc",
   "language": "python",
   "name": "python3"
  },
  "language_info": {
   "codemirror_mode": {
    "name": "ipython",
    "version": 3
   },
   "file_extension": ".py",
   "mimetype": "text/x-python",
   "name": "python",
   "nbconvert_exporter": "python",
   "pygments_lexer": "ipython3",
   "version": "3.9.9"
  }
 },
 "nbformat": 4,
 "nbformat_minor": 2
}
