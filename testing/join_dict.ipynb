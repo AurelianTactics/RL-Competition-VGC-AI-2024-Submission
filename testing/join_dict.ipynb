{
 "cells": [
  {
   "cell_type": "code",
   "execution_count": 1,
   "metadata": {},
   "outputs": [],
   "source": [
    "import numpy as np\n",
    "import pickle\n",
    "import os\n",
    "import copy"
   ]
  },
  {
   "cell_type": "code",
   "execution_count": 2,
   "metadata": {},
   "outputs": [
    {
     "data": {
      "text/plain": [
       "'\\nJoin dict results\\n    get files\\n        completed savings\\n        last checkpoints\\n\\nEvaluate dicts\\n    overall size\\n    states that do not have enough samples\\n    swaps that are better\\n    would be nice to have how often the swaps occur as overall percent but the dict will stop collecting keys\\n        so not an accurate caught\\n\\nChoose the p values\\n    which swap values are better with win %\\n    then how many by the different narrowing things\\n\\nMaybe examine some specific states\\n'"
      ]
     },
     "execution_count": 2,
     "metadata": {},
     "output_type": "execute_result"
    }
   ],
   "source": [
    "'''\n",
    "Join dict results\n",
    "    get files\n",
    "        completed savings\n",
    "        last checkpoints\n",
    "\n",
    "Evaluate dicts\n",
    "    overall size\n",
    "    states that do not have enough samples\n",
    "    swaps that are better\n",
    "    would be nice to have how often the swaps occur as overall percent but the dict will stop collecting keys\n",
    "        so not an accurate caught\n",
    "\n",
    "Choose the p values\n",
    "    which swap values are better with win %\n",
    "    then how many by the different narrowing things\n",
    "\n",
    "Maybe examine some specific states\n",
    "'''"
   ]
  },
  {
   "cell_type": "markdown",
   "metadata": {},
   "source": [
    "### Constants and Functions"
   ]
  },
  {
   "cell_type": "code",
   "execution_count": 14,
   "metadata": {},
   "outputs": [],
   "source": [
    "base_load_path = 'G:\\\\3v3_vgc_saves\\\\3v3_results\\\\'"
   ]
  },
  {
   "cell_type": "code",
   "execution_count": 15,
   "metadata": {},
   "outputs": [],
   "source": [
    "def load_pkl_object(pkl_path):\n",
    "    '''\n",
    "    Load a pickle object\n",
    "    '''\n",
    "    with open(pkl_path, 'rb') as handle:\n",
    "        return pickle.load(handle)\n",
    "\n",
    "\n",
    "def save_object_as_pkl(object_to_save, save_tag):\n",
    "    '''\n",
    "    Save object a pickle file\n",
    "    '''\n",
    "    save_path = f'joined_dict_results\\\\{save_tag}.pickle'\n",
    "\n",
    "    with open(save_path, 'wb') as handle:\n",
    "        print(\"saving: \", save_path)\n",
    "        pickle.dump(object_to_save, handle, protocol=pickle.HIGHEST_PROTOCOL)\n",
    "\n",
    "def load_combine_save(save_tag, base_load_path, load_list):\n",
    "    combined_dict = {}\n",
    "\n",
    "    # action_dict_count_key = 'count'\n",
    "    # sum_wins_key = \"sum_wins\"\n",
    "\n",
    "    for file_name in load_list:\n",
    "        load_path = base_load_path + file_name\n",
    "        print(\"loading: \", load_path)\n",
    "\n",
    "        loaded_dict = load_pkl_object(load_path)\n",
    "\n",
    "        for state_key, state_dict in loaded_dict.items():\n",
    "            if state_key in combined_dict:\n",
    "                for move_key, move_dict in state_dict.items():\n",
    "                    if move_key in combined_dict[state_key]:\n",
    "                        for inner_move_key, inner_move_value in move_dict.items():\n",
    "                            \n",
    "                            # I believe these key value pairs are key-scalar\n",
    "                            if inner_move_key in combined_dict[state_key][move_key]:\n",
    "                                combined_dict[state_key][move_key][inner_move_key] += move_dict[inner_move_key]\n",
    "                            else:\n",
    "                                combined_dict[state_key][move_key][inner_move_key] = copy.deepcopy(move_dict[inner_move_key])\n",
    "\n",
    "                            # # these keys-value pairs are keys then scalars\n",
    "                            # if inner_move_key == action_dict_count_key or inner_move_key == sum_wins_key:\n",
    "                            #     if inner_move_key in combined_dict[state_key][move_key]:\n",
    "                            #         combined_dict[state_key][move_key][inner_move_key] += move_dict[inner_move_key]\n",
    "                            #     else:\n",
    "                            #         combined_dict[state_key][move_key][inner_move_key] = copy.deepcopy(move_dict[inner_move_key])\n",
    "                            # else:\n",
    "                            #     # other results are final state and a count of the results\n",
    "                            #     if inner_move_key in combined_dict[state_key][move_key]:           \n",
    "\n",
    "                    else:\n",
    "                        combined_dict[state_key][move_key] = copy.deepcopy(move_dict)\n",
    "  \n",
    "            else:\n",
    "                combined_dict[state_key] = copy.deepcopy(state_dict)\n",
    "\n",
    "        print(len(combined_dict))\n",
    "\n",
    "    save_object_as_pkl(combined_dict, save_tag)\n",
    "    \n",
    "    return combined_dict\n",
    "\n"
   ]
  },
  {
   "cell_type": "markdown",
   "metadata": {},
   "source": [
    "### 2v2"
   ]
  },
  {
   "cell_type": "markdown",
   "metadata": {},
   "source": [
    "#### joining dicts"
   ]
  },
  {
   "cell_type": "code",
   "execution_count": 16,
   "metadata": {},
   "outputs": [],
   "source": [
    "two_vs_two_save_tag = 'two_vs_two_combined_results'\n"
   ]
  },
  {
   "cell_type": "code",
   "execution_count": 17,
   "metadata": {},
   "outputs": [],
   "source": [
    "\n",
    "\n",
    "two_vs_two_load_list = [\n",
    "    '2v2_2v2_long_20_1719946528_action_state_results_dict.pickle',\n",
    "    '2v2_2v2_long_20_1719964059_action_state_results_dict.pickle',\n",
    "    '2v2_2v2_long_20_1720069852_action_state_results_dict.pickle',\n",
    "    '2v2_2v2_long_20_1720169236_action_state_results_dict.pickle',\n",
    "    '2v2_2v2_long_20_1720266264_action_state_results_dict.pickle',\n",
    "    '2v2_2v2_long2_20_1719946615_action_state_results_dict.pickle',\n",
    "    '2v2_2v2_long_20_1720363129_action_state_results_dict_checkpoint_0.pickle',\n",
    "    '2v2_2v2_long2_20_1719964066_action_state_results_dict.pickle',\n",
    "    '2v2_2v2_long2_20_1720069801_action_state_results_dict.pickle',\n",
    "    '2v2_2v2_long2_20_1720167915_action_state_results_dict.pickle',\n",
    "    '2v2_2v2_long2_20_1720264990_action_state_results_dict.pickle',\n",
    "    '2v2_2v2_long2_20_1720361164_action_state_results_dict_checkpoint_0.pickle',\n",
    "    '2v2_2v2_long_20_1720496107_action_state_results_dict_checkpoint_0.pickle', # not yet added\n",
    "    '2v2_2v2_long_20_1720569707_action_state_results_dict_checkpoint_0.pickle', # not yset added\n",
    "    # '',\n",
    "]"
   ]
  },
  {
   "cell_type": "code",
   "execution_count": null,
   "metadata": {},
   "outputs": [],
   "source": []
  },
  {
   "cell_type": "code",
   "execution_count": 18,
   "metadata": {},
   "outputs": [
    {
     "name": "stdout",
     "output_type": "stream",
     "text": [
      "loading:  G:\\3v3_vgc_saves\\3v3_results\\2v2_2v2_long_20_1719946528_action_state_results_dict.pickle\n",
      "265796\n",
      "loading:  G:\\3v3_vgc_saves\\3v3_results\\2v2_2v2_long_20_1719964059_action_state_results_dict.pickle\n",
      "1027659\n",
      "loading:  G:\\3v3_vgc_saves\\3v3_results\\2v2_2v2_long_20_1720069852_action_state_results_dict.pickle\n",
      "1440649\n",
      "loading:  G:\\3v3_vgc_saves\\3v3_results\\2v2_2v2_long_20_1720169236_action_state_results_dict.pickle\n",
      "1757055\n",
      "loading:  G:\\3v3_vgc_saves\\3v3_results\\2v2_2v2_long_20_1720266264_action_state_results_dict.pickle\n",
      "2020606\n",
      "loading:  G:\\3v3_vgc_saves\\3v3_results\\2v2_2v2_long2_20_1719946615_action_state_results_dict.pickle\n",
      "2045016\n",
      "loading:  G:\\3v3_vgc_saves\\3v3_results\\2v2_2v2_long_20_1720363129_action_state_results_dict_checkpoint_0.pickle\n",
      "2257678\n",
      "loading:  G:\\3v3_vgc_saves\\3v3_results\\2v2_2v2_long2_20_1719964066_action_state_results_dict.pickle\n",
      "2461573\n",
      "loading:  G:\\3v3_vgc_saves\\3v3_results\\2v2_2v2_long2_20_1720069801_action_state_results_dict.pickle\n",
      "2647765\n",
      "loading:  G:\\3v3_vgc_saves\\3v3_results\\2v2_2v2_long2_20_1720167915_action_state_results_dict.pickle\n",
      "2818650\n",
      "loading:  G:\\3v3_vgc_saves\\3v3_results\\2v2_2v2_long2_20_1720264990_action_state_results_dict.pickle\n",
      "2978729\n",
      "loading:  G:\\3v3_vgc_saves\\3v3_results\\2v2_2v2_long2_20_1720361164_action_state_results_dict_checkpoint_0.pickle\n",
      "3118229\n",
      "loading:  G:\\3v3_vgc_saves\\3v3_results\\2v2_2v2_long_20_1720496107_action_state_results_dict_checkpoint_0.pickle\n",
      "3175781\n",
      "loading:  G:\\3v3_vgc_saves\\3v3_results\\2v2_2v2_long_20_1720569707_action_state_results_dict_checkpoint_0.pickle\n",
      "3236166\n",
      "saving:  joined_dict_results\\two_vs_two_combined_results.pickle\n"
     ]
    }
   ],
   "source": [
    "two_combined_dict = load_combine_save(two_vs_two_save_tag, base_load_path, two_vs_two_load_list)"
   ]
  },
  {
   "cell_type": "code",
   "execution_count": 19,
   "metadata": {},
   "outputs": [
    {
     "data": {
      "text/plain": [
       "3236166"
      ]
     },
     "execution_count": 19,
     "metadata": {},
     "output_type": "execute_result"
    }
   ],
   "source": [
    "len(two_combined_dict)"
   ]
  },
  {
   "cell_type": "code",
   "execution_count": 20,
   "metadata": {},
   "outputs": [
    {
     "name": "stdout",
     "output_type": "stream",
     "text": [
      "(2, 2, 2, 1, 3, 3, 1, 1, 0, 0, 1, 0) {'attack': {'sum_wins': 473, 'count': 942}, 'swap_0': {'sum_wins': 338, 'count': 943}}\n"
     ]
    }
   ],
   "source": [
    "for k, v in two_combined_dict.items():\n",
    "    print(k, v)\n",
    "    break"
   ]
  },
  {
   "cell_type": "code",
   "execution_count": null,
   "metadata": {},
   "outputs": [],
   "source": []
  },
  {
   "cell_type": "markdown",
   "metadata": {},
   "source": [
    "### 2v3 Dict"
   ]
  },
  {
   "cell_type": "code",
   "execution_count": 21,
   "metadata": {},
   "outputs": [],
   "source": [
    "two_vs_three_save_tag = 'two_vs_three_2v3_combined_results'"
   ]
  },
  {
   "cell_type": "code",
   "execution_count": 22,
   "metadata": {},
   "outputs": [],
   "source": [
    "two_vs_three_load_list = [\n",
    "    '2v3_2v3_long_22_1719946581_action_state_results_dict.pickle',\n",
    "    '2v3_2v3_long_22_1720595508_action_state_results_dict_checkpoint_1.pickle',\n",
    "    '2v3_2v3_long_22_1719964077_action_state_results_dict.pickle',\n",
    "    '2v3_2v3_long_22_1720097975_action_state_results_dict.pickle',\n",
    "    '2v3_2v3_long_22_1720223932_action_state_results_dict.pickle',\n",
    "    '2v3_2v3_long_22_1720349740_action_state_results_dict.pickle',\n",
    "    '2v3_2v3_long_22_1720473829_action_state_results_dict.pickle',\n",
    "    \n",
    "    # '.pickle',\n",
    "    # '.pickle',\n",
    "    # '.pickle',\n",
    "    # '.pickle',\n",
    "    # '.pickle',\n",
    "    # '.pickle',\n",
    "]"
   ]
  },
  {
   "cell_type": "code",
   "execution_count": 23,
   "metadata": {},
   "outputs": [
    {
     "name": "stdout",
     "output_type": "stream",
     "text": [
      "loading:  G:\\3v3_vgc_saves\\3v3_results\\2v3_2v3_long_22_1719946581_action_state_results_dict.pickle\n",
      "786093\n",
      "loading:  G:\\3v3_vgc_saves\\3v3_results\\2v3_2v3_long_22_1720595508_action_state_results_dict_checkpoint_1.pickle\n",
      "1323634\n",
      "loading:  G:\\3v3_vgc_saves\\3v3_results\\2v3_2v3_long_22_1719964077_action_state_results_dict.pickle\n",
      "4523345\n",
      "loading:  G:\\3v3_vgc_saves\\3v3_results\\2v3_2v3_long_22_1720097975_action_state_results_dict.pickle\n",
      "6805028\n",
      "loading:  G:\\3v3_vgc_saves\\3v3_results\\2v3_2v3_long_22_1720223932_action_state_results_dict.pickle\n",
      "8740576\n",
      "loading:  G:\\3v3_vgc_saves\\3v3_results\\2v3_2v3_long_22_1720349740_action_state_results_dict.pickle\n",
      "10463979\n",
      "loading:  G:\\3v3_vgc_saves\\3v3_results\\2v3_2v3_long_22_1720473829_action_state_results_dict.pickle\n",
      "12044698\n",
      "saving:  joined_dict_results\\two_vs_three_2v3_combined_results.pickle\n"
     ]
    }
   ],
   "source": [
    "two_vs_three_combined_dict = load_combine_save(two_vs_three_save_tag, base_load_path, two_vs_three_load_list)"
   ]
  },
  {
   "cell_type": "code",
   "execution_count": null,
   "metadata": {},
   "outputs": [
    {
     "name": "stdout",
     "output_type": "stream",
     "text": [
      "(1, 2, 1, 1, 1, 1, 1, 1, 1, 1, 1, 1, 0, 0, 0, 0, 0) {'attack': {'sum_wins': 705, 'count': 5542, (1, 2, 1, 1, 1, 1, 1, 1, 1, 1, 1, 1, 0, 0, 0, 0, 0): 5407}, 'swap_0': {'sum_wins': 0, 'count': 4458, (1, 1, 1, 1, 2, 1, 1, 1, 1, 1, 1, 1, 0, 0, 0, 0, 0): 314}}\n",
      "(1, 1, 1, 0, 0, 0, 1, 0, 1, 0, 1, 0, 0, 0, 0, 0, 0) {'attack': {'sum_wins': 14931, 'count': 121805}}\n",
      "(2, 2, 2, 2, 2, 1, 1, 2, 1, 3, -1, -1, 0, 0, 1, 2, 0) {'attack': {'sum_wins': 0, 'count': 1}}\n",
      "(2, 2, 1, 0, 0, 0, 2, 0, 3, 0, -1, 0, 0, 0, 0, 2, 0) {'attack': {'sum_wins': 0, 'count': 18}}\n",
      "(1, 2, 1, 0, 0, 0, 1, 0, 1, 0, -1, 0, 0, 0, 0, 2, 0) {'attack': {'sum_wins': 0, 'count': 588}}\n",
      "(2, 1, 1, 1, 2, 2, 1, 2, 1, 1, 1, 1, 0, 0, 0, 0, 0) {'attack': {'sum_wins': 0, 'count': 82}, 'swap_0': {'sum_wins': 0, 'count': 7, (1, 2, 2, 2, 1, 1, 1, 1, 1, 1, 1, 1, 0, 0, 0, 0, 0): 7, (1, 2, 2, 2, 1, 1, 2, 1, 1, 1, 1, 1, 0, 0, 0, 0, 0): 1}}\n"
     ]
    }
   ],
   "source": [
    "num_iters = 0\n",
    "for k, v in two_vs_three_combined_dict.items():\n",
    "    print(k, v)\n",
    "    num_iters += 1\n",
    "    if num_iters > 5:\n",
    "        break"
   ]
  },
  {
   "cell_type": "code",
   "execution_count": null,
   "metadata": {},
   "outputs": [],
   "source": []
  },
  {
   "cell_type": "markdown",
   "metadata": {},
   "source": [
    "### 3v2 Dict"
   ]
  },
  {
   "cell_type": "code",
   "execution_count": null,
   "metadata": {},
   "outputs": [],
   "source": [
    "three_vs_two_save_tag = 'three_vs_two_3v2_combined_results'"
   ]
  },
  {
   "cell_type": "code",
   "execution_count": null,
   "metadata": {},
   "outputs": [],
   "source": [
    "three_vs_two_load_list = [\n",
    "    '3v2_3v2_long_21_1719946566_action_state_results_dict.pickle',\n",
    "    '3v2_3v2_long_21_1720542955_action_state_results_dict_checkpoint_0.pickle',\n",
    "    '3v2_3v2_long_21_1719964072_action_state_results_dict.pickle',\n",
    "    '3v2_3v2_long_21_1720087724_action_state_results_dict.pickle',\n",
    "    '3v2_3v2_long_21_1720202737_action_state_results_dict.pickle',\n",
    "    '3v2_3v2_long_21_1720317859_action_state_results_dict.pickle',\n",
    "    '3v2_3v2_long_21_1720431914_action_state_results_dict.pickle',\n",
    "    \n",
    "]"
   ]
  },
  {
   "cell_type": "code",
   "execution_count": null,
   "metadata": {},
   "outputs": [
    {
     "name": "stdout",
     "output_type": "stream",
     "text": [
      "loading:  G:\\3v3_vgc_saves\\3v3_results\\3v2_3v2_long_21_1719946566_action_state_results_dict.pickle\n",
      "923289\n",
      "loading:  G:\\3v3_vgc_saves\\3v3_results\\3v2_3v2_long_21_1720542955_action_state_results_dict_checkpoint_0.pickle\n",
      "3776163\n",
      "saving:  joined_dict_results\\three_vs_two_3v2_combined_results.pickle\n"
     ]
    }
   ],
   "source": [
    "three_vs_two_combined_dict = load_combine_save(three_vs_two_save_tag, base_load_path, three_vs_two_load_list)"
   ]
  },
  {
   "cell_type": "code",
   "execution_count": null,
   "metadata": {},
   "outputs": [
    {
     "name": "stdout",
     "output_type": "stream",
     "text": [
      "(1, 1, 2, 2, 1, 2, 1, 1, 1, -1, -1, -1, 0, 1, 0, 0, 1) {'attack': {'sum_wins': 31, 'count': 31, (1, 1, 2, 2, 1, 2, 1, 1, 1, -1, -1, -1, 0, 1, 0, 0, 1): 37}, 'swap_1': {(1, 1, 2, 2, 1, 2, 1, 1, 1, -1, -1, -1, 0, 1, 0, 0, 1): 50, 'count': 1, 'sum_wins': 1, (1, 2, 2, 2, 1, 1, 1, 1, 1, -1, -1, -1, 0, 1, 0, 0, 1): 1, (2, 2, 1, 1, 1, 2, 1, 1, 1, -1, -1, -1, 0, 0, 0, 0, 1): 4}, 'swap_0': {(1, 1, 2, 2, 1, 2, 1, 1, 1, -1, -1, -1, 0, 1, 0, 0, 1): 48, 'count': 2, 'sum_wins': 2, (1, 2, 2, 2, 1, 1, 1, 1, 1, -1, -1, -1, 0, 1, 0, 0, 1): 1, (2, 2, 1, 1, 1, 2, 1, 1, 1, -1, -1, -1, 1, 0, 0, 0, 1): 1}}\n",
      "(1, 0, 2, 0, 2, 0, 2, 2, 1, 0, 0, 0, 0, 1, 0, 1, 0) {'attack': {'sum_wins': 1105, 'count': 1105}}\n",
      "(1, 1, 2, 2, 1, 1, 1, 1, 1, 1, 2, 1, 0, 1, 0, 0, 0) {'swap_0': {(1, 1, 2, 2, 1, 1, 1, 1, 1, 1, 2, 1, 0, 1, 0, 0, 0): 5981, 'count': 176, 'sum_wins': 145, (2, 2, 1, 1, 1, 1, 1, 1, 1, 1, 1, 1, 0, 0, 0, 0, 0): 438, (2, 2, 1, 1, 1, 1, 1, 1, 1, 2, 1, 1, 1, 0, 0, 0, 0): 24, (2, 2, 1, 1, 1, 1, 1, 1, 1, 2, 1, 1, 0, 0, 0, 0, 0): 50, (2, 2, 1, 1, 1, 1, 1, 1, 1, 1, 1, 1, 1, 0, 0, 0, 0): 3}, 'swap_1': {(2, 2, 1, 1, 1, 1, 1, 1, 1, 1, 1, 1, 0, 0, 0, 0, 0): 456, 'count': 180, 'sum_wins': 151, (1, 1, 2, 2, 1, 1, 1, 1, 1, 1, 2, 1, 0, 1, 0, 0, 0): 6297, (2, 2, 1, 1, 1, 1, 1, 1, 1, 2, 1, 1, 1, 0, 0, 0, 0): 33, (2, 2, 1, 1, 1, 1, 1, 1, 1, 1, 1, 1, 1, 0, 0, 0, 0): 10, (2, 2, 1, 1, 1, 1, 1, 1, 1, 2, 1, 1, 0, 0, 0, 0, 0): 68}, 'attack': {'sum_wins': 4366, 'count': 5112, (1, 1, 2, 2, 1, 1, 1, 1, 1, 1, 2, 1, 0, 1, 0, 0, 0): 4994}}\n",
      "(1, 1, 1, 2, 1, 1, 1, 1, 1, 1, 2, 1, 0, 0, 0, 0, 0) {'attack': {'sum_wins': 8772, 'count': 10011, (1, 1, 1, 2, 1, 1, 1, 1, 1, 1, 2, 1, 0, 0, 0, 0, 0): 10059}, 'swap_0': {(1, 1, 1, 2, 1, 1, 1, 1, 1, 1, 2, 1, 0, 0, 0, 0, 0): 10580, 'count': 688, 'sum_wins': 576, (1, 2, 1, 1, 1, 1, 1, 1, 1, 1, 1, 1, 0, 0, 0, 0, 0): 341, (1, 2, 1, 1, 1, 1, 1, 1, 1, 2, 1, 1, 0, 0, 0, 0, 0): 55}, 'swap_1': {(1, 1, 1, 2, 1, 1, 1, 1, 1, 1, 2, 1, 0, 0, 0, 0, 0): 10761, 'count': 668, 'sum_wins': 539, (1, 2, 1, 1, 1, 1, 1, 1, 1, 1, 1, 1, 0, 0, 0, 0, 0): 334, (1, 2, 1, 1, 1, 1, 1, 1, 1, 2, 1, 1, 0, 0, 0, 0, 0): 46}}\n",
      "(1, 0, 2, 0, 1, 0, 1, 2, 1, 0, 0, 0, 0, 0, 0, 0, 0) {'attack': {'sum_wins': 42151, 'count': 48134}}\n",
      "(1, 1, 2, 1, 1, 1, 1, 1, 1, 1, 1, 1, 0, 0, 0, 0, 0) {'swap_1': {(1, 1, 2, 1, 1, 1, 1, 1, 1, 1, 1, 1, 0, 0, 0, 0, 0): 37109, 'count': 1198, 'sum_wins': 1060, (2, 1, 1, 1, 1, 1, 1, 1, 1, 1, 1, 1, 0, 0, 0, 0, 0): 3251}, 'swap_0': {(1, 1, 2, 1, 1, 1, 1, 1, 1, 1, 1, 1, 0, 0, 0, 0, 0): 35867, 'count': 1199, 'sum_wins': 1035, (2, 1, 1, 1, 1, 1, 1, 1, 1, 1, 1, 1, 0, 0, 0, 0, 0): 3044}, 'attack': {'sum_wins': 32925, 'count': 37694, (1, 1, 2, 1, 1, 1, 1, 1, 1, 1, 1, 1, 0, 0, 0, 0, 0): 37277}}\n"
     ]
    }
   ],
   "source": [
    "num_iters = 0\n",
    "for k, v in three_vs_two_combined_dict.items():\n",
    "    print(k, v)\n",
    "    num_iters += 1\n",
    "    if num_iters > 5:\n",
    "        break"
   ]
  },
  {
   "cell_type": "markdown",
   "metadata": {},
   "source": [
    "### 3v3 Dict"
   ]
  },
  {
   "cell_type": "code",
   "execution_count": null,
   "metadata": {},
   "outputs": [],
   "source": [
    "three_vs_three_save_tag = 'three_vs_three_3v3_combined_results'"
   ]
  },
  {
   "cell_type": "code",
   "execution_count": null,
   "metadata": {},
   "outputs": [],
   "source": [
    "three_vs_three_load_list = [\n",
    "    '3v3_3v3_long_23_1719946592_action_state_results_dict.pickle',\n",
    "    '3v3_3v3_long_23_1719964083_action_state_results_dict.pickle',\n",
    "    '3v3_3v3_long_23_1720484309_action_state_results_dict_checkpoint_1.pickle',\n",
    "    '3v3_3v3_long2_23_1719946627_action_state_results_dict.pickle',\n",
    "    '3v3_3v3_long2_23_1719964090_action_state_results_dict_checkpoint_0.pickle',\n",
    "    # '.pickle',\n",
    "]"
   ]
  },
  {
   "cell_type": "code",
   "execution_count": null,
   "metadata": {},
   "outputs": [],
   "source": [
    "three_vs_three_combined_dict = load_combine_save(three_vs_three_save_tag, base_load_path, three_vs_three_load_list)"
   ]
  },
  {
   "cell_type": "code",
   "execution_count": null,
   "metadata": {},
   "outputs": [],
   "source": [
    "num_iters = 0\n",
    "for k, v in three_vs_three_combined_dict.items():\n",
    "    print(k, v)\n",
    "    num_iters += 1\n",
    "    if num_iters > 5:\n",
    "        break"
   ]
  },
  {
   "cell_type": "code",
   "execution_count": null,
   "metadata": {},
   "outputs": [],
   "source": []
  }
 ],
 "metadata": {
  "kernelspec": {
   "display_name": "vgc",
   "language": "python",
   "name": "python3"
  },
  "language_info": {
   "codemirror_mode": {
    "name": "ipython",
    "version": 3
   },
   "file_extension": ".py",
   "mimetype": "text/x-python",
   "name": "python",
   "nbconvert_exporter": "python",
   "pygments_lexer": "ipython3",
   "version": "3.9.9"
  }
 },
 "nbformat": 4,
 "nbformat_minor": 2
}
