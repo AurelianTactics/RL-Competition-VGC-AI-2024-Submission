{
 "cells": [
  {
   "cell_type": "code",
   "execution_count": 1,
   "metadata": {},
   "outputs": [],
   "source": [
    "import numpy as np\n",
    "import pickle\n",
    "import os\n",
    "import copy"
   ]
  },
  {
   "cell_type": "code",
   "execution_count": 2,
   "metadata": {},
   "outputs": [
    {
     "data": {
      "text/plain": [
       "'\\nJoin dict results\\n    get files\\n        completed savings\\n        last checkpoints\\n\\nEvaluate dicts\\n    overall size\\n    states that do not have enough samples\\n    swaps that are better\\n    would be nice to have how often the swaps occur as overall percent but the dict will stop collecting keys\\n        so not an accurate caught\\n\\nChoose the p values\\n    which swap values are better with win %\\n    then how many by the different narrowing things\\n\\nMaybe examine some specific states\\n'"
      ]
     },
     "execution_count": 2,
     "metadata": {},
     "output_type": "execute_result"
    }
   ],
   "source": [
    "'''\n",
    "Join dict results\n",
    "    get files\n",
    "        completed savings\n",
    "        last checkpoints\n",
    "\n",
    "Evaluate dicts\n",
    "    overall size\n",
    "    states that do not have enough samples\n",
    "    swaps that are better\n",
    "    would be nice to have how often the swaps occur as overall percent but the dict will stop collecting keys\n",
    "        so not an accurate caught\n",
    "\n",
    "Choose the p values\n",
    "    which swap values are better with win %\n",
    "    then how many by the different narrowing things\n",
    "\n",
    "Maybe examine some specific states\n",
    "'''"
   ]
  },
  {
   "cell_type": "markdown",
   "metadata": {},
   "source": [
    "### Constants and Functions"
   ]
  },
  {
   "cell_type": "code",
   "execution_count": null,
   "metadata": {},
   "outputs": [],
   "source": [
    "base_load_path = 'G:\\\\3v3_vgc_saves\\\\3v3_results\\\\'"
   ]
  },
  {
   "cell_type": "code",
   "execution_count": 3,
   "metadata": {},
   "outputs": [],
   "source": [
    "def load_pkl_object(pkl_path):\n",
    "    '''\n",
    "    Load a pickle object\n",
    "    '''\n",
    "    with open(pkl_path, 'rb') as handle:\n",
    "        return pickle.load(handle)\n",
    "\n",
    "\n",
    "def save_object_as_pkl(object_to_save, save_tag):\n",
    "    '''\n",
    "    Save object a pickle file\n",
    "    '''\n",
    "    save_path = f'joined_dict_results\\\\{save_tag}.pickle'\n",
    "\n",
    "    with open(save_path, 'wb') as handle:\n",
    "        print(\"saving: \", save_path)\n",
    "        pickle.dump(object_to_save, handle, protocol=pickle.HIGHEST_PROTOCOL)\n",
    "\n"
   ]
  },
  {
   "cell_type": "markdown",
   "metadata": {},
   "source": [
    "### 2v2"
   ]
  },
  {
   "cell_type": "markdown",
   "metadata": {},
   "source": [
    "#### joining dicts"
   ]
  },
  {
   "cell_type": "code",
   "execution_count": 4,
   "metadata": {},
   "outputs": [],
   "source": [
    "two_vs_two_save_tag = 'two_vs_two_combined_results'\n"
   ]
  },
  {
   "cell_type": "code",
   "execution_count": 5,
   "metadata": {},
   "outputs": [],
   "source": [
    "\n",
    "\n",
    "two_vs_two_load_list = [\n",
    "    '2v2_2v2_long_20_1719946528_action_state_results_dict.pickle',\n",
    "    '2v2_2v2_long_20_1719964059_action_state_results_dict.pickle',\n",
    "    '2v2_2v2_long_20_1720069852_action_state_results_dict.pickle',\n",
    "    '2v2_2v2_long_20_1720169236_action_state_results_dict.pickle',\n",
    "    '2v2_2v2_long_20_1720266264_action_state_results_dict.pickle',\n",
    "    '2v2_2v2_long2_20_1719946615_action_state_results_dict.pickle',\n",
    "    '2v2_2v2_long_20_1720363129_action_state_results_dict_checkpoint_0.pickle',\n",
    "    '2v2_2v2_long2_20_1719964066_action_state_results_dict.pickle',\n",
    "    '2v2_2v2_long2_20_1720069801_action_state_results_dict.pickle',\n",
    "    '2v2_2v2_long2_20_1720167915_action_state_results_dict.pickle',\n",
    "    '2v2_2v2_long2_20_1720264990_action_state_results_dict.pickle',\n",
    "    '2v2_2v2_long2_20_1720361164_action_state_results_dict_checkpoint_0.pickle',\n",
    "    '2v2_2v2_long_20_1720496107_action_state_results_dict_checkpoint_0.pickle', # not yet added\n",
    "    # '',\n",
    "    # '',\n",
    "]"
   ]
  },
  {
   "cell_type": "code",
   "execution_count": 12,
   "metadata": {},
   "outputs": [],
   "source": [
    "def load_combine_save(save_tag, base_load_path, load_list):\n",
    "    combined_dict = {}\n",
    "\n",
    "    # action_dict_count_key = 'count'\n",
    "    # sum_wins_key = \"sum_wins\"\n",
    "\n",
    "    for file_name in load_list:\n",
    "        load_path = base_load_path + file_name\n",
    "        print(\"loading: \", load_path)\n",
    "\n",
    "        loaded_dict = load_pkl_object(load_path)\n",
    "\n",
    "        for state_key, state_dict in loaded_dict.items():\n",
    "            if state_key in combined_dict:\n",
    "                for move_key, move_dict in state_dict.items():\n",
    "                    if move_key in combined_dict[state_key]:\n",
    "                        for inner_move_key, inner_move_value in move_dict.items():\n",
    "                            \n",
    "                            # I believe these key value pairs are key-scalar\n",
    "                            if inner_move_key in combined_dict[state_key][move_key]:\n",
    "                                combined_dict[state_key][move_key][inner_move_key] += move_dict[inner_move_key]\n",
    "                            else:\n",
    "                                combined_dict[state_key][move_key][inner_move_key] = copy.deepcopy(move_dict[inner_move_key])\n",
    "\n",
    "                            # # these keys-value pairs are keys then scalars\n",
    "                            # if inner_move_key == action_dict_count_key or inner_move_key == sum_wins_key:\n",
    "                            #     if inner_move_key in combined_dict[state_key][move_key]:\n",
    "                            #         combined_dict[state_key][move_key][inner_move_key] += move_dict[inner_move_key]\n",
    "                            #     else:\n",
    "                            #         combined_dict[state_key][move_key][inner_move_key] = copy.deepcopy(move_dict[inner_move_key])\n",
    "                            # else:\n",
    "                            #     # other results are final state and a count of the results\n",
    "                            #     if inner_move_key in combined_dict[state_key][move_key]:           \n",
    "\n",
    "                    else:\n",
    "                        combined_dict[state_key][move_key] = copy.deepcopy(move_dict)\n",
    "  \n",
    "            else:\n",
    "                combined_dict[state_key] = copy.deepcopy(state_dict)\n",
    "\n",
    "        print(len(combined_dict))\n",
    "\n",
    "    save_object_as_pkl(combined_dict, save_tag)\n",
    "    \n",
    "    return combined_dict"
   ]
  },
  {
   "cell_type": "code",
   "execution_count": 13,
   "metadata": {},
   "outputs": [
    {
     "name": "stdout",
     "output_type": "stream",
     "text": [
      "loading:  G:\\3v3_vgc_saves\\3v3_results\\2v2_2v2_long_20_1719946528_action_state_results_dict.pickle\n",
      "265796\n",
      "loading:  G:\\3v3_vgc_saves\\3v3_results\\2v2_2v2_long_20_1719964059_action_state_results_dict.pickle\n",
      "1027659\n",
      "loading:  G:\\3v3_vgc_saves\\3v3_results\\2v2_2v2_long_20_1720069852_action_state_results_dict.pickle\n",
      "1440649\n",
      "loading:  G:\\3v3_vgc_saves\\3v3_results\\2v2_2v2_long_20_1720169236_action_state_results_dict.pickle\n",
      "1757055\n",
      "loading:  G:\\3v3_vgc_saves\\3v3_results\\2v2_2v2_long_20_1720266264_action_state_results_dict.pickle\n",
      "2020606\n",
      "loading:  G:\\3v3_vgc_saves\\3v3_results\\2v2_2v2_long2_20_1719946615_action_state_results_dict.pickle\n",
      "2045016\n",
      "loading:  G:\\3v3_vgc_saves\\3v3_results\\2v2_2v2_long_20_1720363129_action_state_results_dict_checkpoint_0.pickle\n",
      "2257678\n",
      "loading:  G:\\3v3_vgc_saves\\3v3_results\\2v2_2v2_long2_20_1719964066_action_state_results_dict.pickle\n",
      "2461573\n",
      "loading:  G:\\3v3_vgc_saves\\3v3_results\\2v2_2v2_long2_20_1720069801_action_state_results_dict.pickle\n",
      "2647765\n",
      "loading:  G:\\3v3_vgc_saves\\3v3_results\\2v2_2v2_long2_20_1720167915_action_state_results_dict.pickle\n",
      "2818650\n",
      "loading:  G:\\3v3_vgc_saves\\3v3_results\\2v2_2v2_long2_20_1720264990_action_state_results_dict.pickle\n",
      "2978729\n",
      "loading:  G:\\3v3_vgc_saves\\3v3_results\\2v2_2v2_long2_20_1720361164_action_state_results_dict_checkpoint_0.pickle\n",
      "3118229\n",
      "saving:  joined_dict_results\\two_vs_two_combined_results.pickle\n"
     ]
    }
   ],
   "source": [
    "two_combined_dict = load_combine_save(two_vs_two_save_tag, base_load_path, two_vs_two_load_list)"
   ]
  },
  {
   "cell_type": "code",
   "execution_count": 14,
   "metadata": {},
   "outputs": [
    {
     "data": {
      "text/plain": [
       "3118229"
      ]
     },
     "execution_count": 14,
     "metadata": {},
     "output_type": "execute_result"
    }
   ],
   "source": [
    "len(two_combined_dict)"
   ]
  },
  {
   "cell_type": "code",
   "execution_count": 15,
   "metadata": {},
   "outputs": [
    {
     "name": "stdout",
     "output_type": "stream",
     "text": [
      "(2, 2, 2, 1, 3, 3, 1, 1, 0, 0, 1, 0) {'attack': {'sum_wins': 455, 'count': 900}, 'swap_0': {'sum_wins': 306, 'count': 846}}\n"
     ]
    }
   ],
   "source": [
    "for k, v in two_combined_dict.items():\n",
    "    print(k, v)\n",
    "    break"
   ]
  },
  {
   "cell_type": "code",
   "execution_count": null,
   "metadata": {},
   "outputs": [],
   "source": []
  },
  {
   "cell_type": "markdown",
   "metadata": {},
   "source": [
    "### 2v3 Dict"
   ]
  },
  {
   "cell_type": "code",
   "execution_count": null,
   "metadata": {},
   "outputs": [],
   "source": [
    "two_vs_three_save_tag = 'two_vs_three_2v3_combined_results'"
   ]
  },
  {
   "cell_type": "code",
   "execution_count": null,
   "metadata": {},
   "outputs": [],
   "source": [
    "two_vs_three_load_list = [\n",
    "\n",
    "    # '',\n",
    "    # '',\n",
    "]"
   ]
  },
  {
   "cell_type": "markdown",
   "metadata": {},
   "source": [
    "### 3v2 Dict"
   ]
  },
  {
   "cell_type": "code",
   "execution_count": null,
   "metadata": {},
   "outputs": [],
   "source": [
    "three_vs_two_save_tag = 'three_vs_two_3v2_combined_results'"
   ]
  },
  {
   "cell_type": "code",
   "execution_count": null,
   "metadata": {},
   "outputs": [],
   "source": [
    "three_vs_two_load_list = [\n",
    "\n",
    "    # '',\n",
    "    # '',\n",
    "]"
   ]
  },
  {
   "cell_type": "markdown",
   "metadata": {},
   "source": [
    "### 3v3 Dict"
   ]
  },
  {
   "cell_type": "code",
   "execution_count": null,
   "metadata": {},
   "outputs": [],
   "source": [
    "three_vs_three_save_tag = 'three_vs_three_3v3_combined_results'"
   ]
  },
  {
   "cell_type": "code",
   "execution_count": null,
   "metadata": {},
   "outputs": [],
   "source": [
    "three_vs_three_load_list = [\n",
    "\n",
    "    # '',\n",
    "    # '',\n",
    "]"
   ]
  }
 ],
 "metadata": {
  "kernelspec": {
   "display_name": "vgc",
   "language": "python",
   "name": "python3"
  },
  "language_info": {
   "codemirror_mode": {
    "name": "ipython",
    "version": 3
   },
   "file_extension": ".py",
   "mimetype": "text/x-python",
   "name": "python",
   "nbconvert_exporter": "python",
   "pygments_lexer": "ipython3",
   "version": "3.9.9"
  }
 },
 "nbformat": 4,
 "nbformat_minor": 2
}
